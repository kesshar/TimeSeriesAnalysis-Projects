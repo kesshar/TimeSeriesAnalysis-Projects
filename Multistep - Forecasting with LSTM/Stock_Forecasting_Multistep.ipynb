{
 "cells": [
  {
   "cell_type": "code",
   "id": "initial_id",
   "metadata": {
    "collapsed": true,
    "ExecuteTime": {
     "end_time": "2025-07-16T07:03:38.670324Z",
     "start_time": "2025-07-16T07:03:38.372454Z"
    }
   },
   "source": [
    "import numpy as np\n",
    "import pandas as pd\n",
    "import yfinance as yf\n",
    "import matplotlib.pyplot as plt\n",
    "from sklearn.preprocessing import MinMaxScaler\n",
    "from tensorflow.keras.models import Sequential\n",
    "from tensorflow.keras.layers import LSTM, Dense, Dropout\n",
    "\n",
    "data = yf.download(\"AAPL\", start=\"2015-01-01\", end=\"2025-01-30\")\n",
    "data = data[['Open', 'High', 'Low', 'Close', 'Volume']].dropna()\n",
    "\n",
    "split_date = '2025-01-01'\n",
    "train_data = data.loc[:split_date]\n",
    "test_data = data.loc[split_date:]"
   ],
   "outputs": [
    {
     "name": "stderr",
     "output_type": "stream",
     "text": [
      "C:\\Users\\prana\\AppData\\Local\\Temp\\ipykernel_7696\\224020224.py:9: FutureWarning: YF.download() has changed argument auto_adjust default to True\n",
      "  data = yf.download(\"AAPL\", start=\"2015-01-01\", end=\"2025-01-30\")\n",
      "[*********************100%***********************]  1 of 1 completed\n"
     ]
    }
   ],
   "execution_count": 41
  },
  {
   "metadata": {
    "ExecuteTime": {
     "end_time": "2025-07-16T07:03:39.075920Z",
     "start_time": "2025-07-16T07:03:38.921563Z"
    }
   },
   "cell_type": "code",
   "source": [
    "scaler = MinMaxScaler()\n",
    "scaled_train = scaler.fit_transform(train_data)\n"
   ],
   "id": "c4a4484afc114b62",
   "outputs": [],
   "execution_count": 42
  },
  {
   "metadata": {
    "ExecuteTime": {
     "end_time": "2025-07-16T07:03:39.388936Z",
     "start_time": "2025-07-16T07:03:39.206749Z"
    }
   },
   "cell_type": "code",
   "source": [
    "def create_dataset(data, time_steps=60):\n",
    "    X, y = [], []\n",
    "    for i in range(time_steps, len(data)):\n",
    "        X.append(data[i - time_steps:i])\n",
    "        y.append(data[i, 3])  # 'Close' price is at index 3\n",
    "    return np.array(X), np.array(y)\n",
    "\n",
    "# Choose time_steps (lookback window)\n",
    "time_steps = 30\n",
    "X_train, y_train = create_dataset(scaled_train, time_steps)"
   ],
   "id": "f68b1f179a6a03dd",
   "outputs": [],
   "execution_count": 43
  },
  {
   "metadata": {
    "ExecuteTime": {
     "end_time": "2025-07-16T07:03:55.930784Z",
     "start_time": "2025-07-16T07:03:39.546797Z"
    }
   },
   "cell_type": "code",
   "source": [
    "from tensorflow.keras.models import load_model\n",
    "from tensorflow.keras.callbacks import ModelCheckpoint, EarlyStopping\n",
    "\n",
    "model = Sequential()\n",
    "model.add(LSTM(128, input_shape=(X_train.shape[1], X_train.shape[2])))\n",
    "model.add(Dropout(0.3))\n",
    "model.add(Dense(1))\n",
    "model.compile(optimizer='adam', loss='mean_squared_error')\n",
    "\n",
    "early_stop = EarlyStopping(\n",
    "    monitor='val_loss',\n",
    "    patience=2,\n",
    "    restore_best_weights=True\n",
    ")\n",
    "\n",
    "checkpoint = ModelCheckpoint(\n",
    "    'best_model.h5',\n",
    "    monitor='val_loss',\n",
    "    save_best_only=True,\n",
    "    mode='min',\n",
    "    verbose=1\n",
    ")\n",
    "\n",
    "history = model.fit(\n",
    "    X_train, y_train,\n",
    "    epochs=30,                    # Train for up to 30 epochs\n",
    "    batch_size=32,\n",
    "    validation_split=0.2,\n",
    "    callbacks=[early_stop, checkpoint],\n",
    "    verbose=1\n",
    ")\n",
    "\n",
    "best_model = load_model('best_model.h5')"
   ],
   "id": "76f79ed00afee3f7",
   "outputs": [
    {
     "name": "stderr",
     "output_type": "stream",
     "text": [
      "C:\\Users\\prana\\PycharmProjects\\Intern\\.venv\\Lib\\site-packages\\keras\\src\\layers\\rnn\\rnn.py:199: UserWarning: Do not pass an `input_shape`/`input_dim` argument to a layer. When using Sequential models, prefer using an `Input(shape)` object as the first layer in the model instead.\n",
      "  super().__init__(**kwargs)\n"
     ]
    },
    {
     "name": "stdout",
     "output_type": "stream",
     "text": [
      "Epoch 1/30\n",
      "\u001B[1m63/63\u001B[0m \u001B[32m━━━━━━━━━━━━━━━━━━━━\u001B[0m\u001B[37m\u001B[0m \u001B[1m0s\u001B[0m 34ms/step - loss: 0.0069\n",
      "Epoch 1: val_loss improved from None to 0.00052, saving model to best_model.h5\n"
     ]
    },
    {
     "name": "stderr",
     "output_type": "stream",
     "text": [
      "WARNING:absl:You are saving your model as an HDF5 file via `model.save()` or `keras.saving.save_model(model)`. This file format is considered legacy. We recommend using instead the native Keras format, e.g. `model.save('my_model.keras')` or `keras.saving.save_model(model, 'my_model.keras')`. \n"
     ]
    },
    {
     "name": "stdout",
     "output_type": "stream",
     "text": [
      "\u001B[1m63/63\u001B[0m \u001B[32m━━━━━━━━━━━━━━━━━━━━\u001B[0m\u001B[37m\u001B[0m \u001B[1m8s\u001B[0m 50ms/step - loss: 0.0031 - val_loss: 5.1560e-04\n",
      "Epoch 2/30\n",
      "\u001B[1m62/63\u001B[0m \u001B[32m━━━━━━━━━━━━━━━━━━━\u001B[0m\u001B[37m━\u001B[0m \u001B[1m0s\u001B[0m 24ms/step - loss: 7.1670e-04\n",
      "Epoch 2: val_loss did not improve from 0.00052\n",
      "\u001B[1m63/63\u001B[0m \u001B[32m━━━━━━━━━━━━━━━━━━━━\u001B[0m\u001B[37m\u001B[0m \u001B[1m4s\u001B[0m 28ms/step - loss: 7.8211e-04 - val_loss: 0.0013\n",
      "Epoch 3/30\n",
      "\u001B[1m63/63\u001B[0m \u001B[32m━━━━━━━━━━━━━━━━━━━━\u001B[0m\u001B[37m\u001B[0m \u001B[1m0s\u001B[0m 27ms/step - loss: 6.7338e-04\n",
      "Epoch 3: val_loss did not improve from 0.00052\n",
      "\u001B[1m63/63\u001B[0m \u001B[32m━━━━━━━━━━━━━━━━━━━━\u001B[0m\u001B[37m\u001B[0m \u001B[1m3s\u001B[0m 33ms/step - loss: 6.9267e-04 - val_loss: 6.4962e-04\n"
     ]
    },
    {
     "name": "stderr",
     "output_type": "stream",
     "text": [
      "WARNING:absl:Compiled the loaded model, but the compiled metrics have yet to be built. `model.compile_metrics` will be empty until you train or evaluate the model.\n"
     ]
    }
   ],
   "execution_count": 44
  },
  {
   "metadata": {
    "ExecuteTime": {
     "end_time": "2025-07-16T07:03:59.227160Z",
     "start_time": "2025-07-16T07:03:56.045104Z"
    }
   },
   "cell_type": "code",
   "source": [
    "input_seq = scaled_train[-time_steps:]\n",
    "predictions = []\n",
    "\n",
    "for _ in range(18):  # Predict 500 future days\n",
    "    reshaped_input = input_seq.reshape(1, time_steps, scaled_train.shape[1])\n",
    "    pred = model.predict(reshaped_input, verbose=0)[0][0]\n",
    "\n",
    "    next_input = np.append(input_seq[1:], [[0, 0, 0, pred, 0]], axis=0)\n",
    "    input_seq = next_input\n",
    "    predictions.append(pred)"
   ],
   "id": "ae72ca52528a0649",
   "outputs": [],
   "execution_count": 45
  },
  {
   "metadata": {
    "ExecuteTime": {
     "end_time": "2025-07-16T07:03:59.864540Z",
     "start_time": "2025-07-16T07:03:59.322545Z"
    }
   },
   "cell_type": "code",
   "source": [
    "from sklearn.metrics import r2_score\n",
    "import numpy as np\n",
    "import matplotlib.pyplot as plt\n",
    "\n",
    "# Convert predictions to NumPy array if it's a list\n",
    "predictions = np.array(predictions)\n",
    "\n",
    "# Prepare dummy array for inverse transform\n",
    "pad = np.zeros((len(predictions), 5))\n",
    "pad[:, 3] = predictions.flatten()  # 'Close' is at index 3\n",
    "forecasted_close = scaler.inverse_transform(pad)[:, 3]\n",
    "\n",
    "# Compute R² score\n",
    "r2 = r2_score(test_data['Close'][:len(forecasted_close)], forecasted_close)\n",
    "\n",
    "# Plotting\n",
    "plt.figure(figsize=(12, 5))\n",
    "plt.plot(test_data['Close'], label=\"Actual\")\n",
    "plt.plot(test_data.index, forecasted_close, label=\"Forecasted\")\n",
    "plt.title(\"AAPL Price Forecast (Recursive 2-Year Prediction with Best Model)\")\n",
    "plt.xlabel(\"Time\")\n",
    "plt.ylabel(\"Price\")\n",
    "plt.legend()\n",
    "plt.grid(True)\n",
    "plt.tight_layout()\n",
    "plt.show()\n",
    "\n",
    "print(f\"R² Score: {r2:.4f}\")\n"
   ],
   "id": "665ebbd9c7bd9891",
   "outputs": [
    {
     "data": {
      "text/plain": [
       "<Figure size 1200x500 with 1 Axes>"
      ],
      "image/png": "[encoded data removed]"
     },
     "metadata": {},
     "output_type": "display_data"
    },
    {
     "name": "stdout",
     "output_type": "stream",
     "text": [
      "R² Score: -418.8371\n"
     ]
    }
   ],
   "execution_count": 46
  },
  {
   "metadata": {
    "ExecuteTime": {
     "end_time": "2025-07-16T07:04:17.420902Z",
     "start_time": "2025-07-16T07:03:59.966483Z"
    }
   },
   "cell_type": "code",
   "source": [
    "# === 1. Imports ===\n",
    "import numpy as np\n",
    "import pandas as pd\n",
    "import matplotlib.pyplot as plt\n",
    "import random, os, tensorflow as tf\n",
    "from tensorflow.keras.models import Sequential, load_model\n",
    "from tensorflow.keras.layers import LSTM, Dense, Dropout\n",
    "from tensorflow.keras.callbacks import EarlyStopping, ModelCheckpoint\n",
    "from sklearn.preprocessing import MinMaxScaler\n",
    "from sklearn.metrics import mean_squared_error, r2_score\n",
    "import yfinance as yf\n",
    "\n",
    "# === 2. Reproducibility ===\n",
    "seed = 42\n",
    "os.environ['PYTHONHASHSEED'] = str(seed)\n",
    "np.random.seed(seed)\n",
    "random.seed(seed)\n",
    "tf.random.set_seed(seed)\n",
    "tf.config.experimental.enable_op_determinism()\n",
    "\n",
    "# === 3. Load and preprocess data ===\n",
    "df = yf.download('AAPL', start='2015-01-01', end='2025-01-30')\n",
    "df = df[['Open', 'High', 'Low', 'Close', 'Volume']]\n",
    "df.dropna(inplace=True)\n",
    "\n",
    "# Normalize using MinMaxScaler\n",
    "scaler = MinMaxScaler()\n",
    "scaled_data = scaler.fit_transform(df)\n",
    "\n",
    "# === 4. Create supervised learning dataset ===\n",
    "def create_dataset(data, time_steps, future_steps):\n",
    "    X, y, dates = [], [], []\n",
    "    for i in range(time_steps, len(data) - future_steps):\n",
    "        X.append(data[i - time_steps:i])\n",
    "        y.append([data[i + j, 3] for j in range(future_steps)])  # 'Close' price only\n",
    "        dates.append(df.index[i + future_steps])\n",
    "    return np.array(X), np.array(y), np.array(dates)\n",
    "\n",
    "time_steps = 30\n",
    "future_steps = 18\n",
    "\n",
    "X, y, date_labels = create_dataset(scaled_data, time_steps, future_steps)\n",
    "\n",
    "# === 5. Train-Test split based on date ===\n",
    "split_date = pd.to_datetime(\"2025-01-01\")\n",
    "split_index = np.where(date_labels >= split_date)[0][0]\n",
    "\n",
    "X_train, X_test = X[:split_index], X[split_index:]\n",
    "y_train, y_test = y[:split_index], y[split_index:]\n",
    "test_dates = date_labels[split_index:]\n",
    "\n",
    "# === 6. Build the model ===\n",
    "model = Sequential()\n",
    "model.add(LSTM(units=128, input_shape=(X_train.shape[1], X_train.shape[2])))\n",
    "model.add(Dropout(0.3))\n",
    "model.add(Dense(future_steps))  # Predict 18 future 'Close' prices\n",
    "model.compile(optimizer='adam', loss='mean_squared_error')\n",
    "\n",
    "# === 7. Callbacks ===\n",
    "early_stop = EarlyStopping(monitor='val_loss', patience=2, restore_best_weights=True)\n",
    "checkpoint = ModelCheckpoint('best_model.keras', monitor='val_loss', save_best_only=True, mode='min', verbose=1)\n",
    "\n",
    "# === 8. Train model ===\n",
    "history = model.fit(\n",
    "    X_train, y_train,\n",
    "    epochs=30,\n",
    "    batch_size=32,\n",
    "    validation_split=0.2,\n",
    "    callbacks=[early_stop, checkpoint],\n",
    "    verbose=1\n",
    ")\n",
    "\n",
    "# === 9. Load best model and predict ===\n",
    "best_model = load_model('best_model.keras')\n",
    "y_pred = best_model.predict(X_test)\n",
    "\n",
    "# === 10. Rescale predictions and ground truth ===\n",
    "def rescale_predictions(y_scaled, y_pred_scaled, scaler, feature_index=3):\n",
    "    pad_true = np.zeros((y_scaled.size, scaler.n_features_in_))\n",
    "    pad_pred = np.zeros_like(pad_true)\n",
    "\n",
    "    for i in range(y_scaled.shape[1]):\n",
    "        pad_true[i::y_scaled.shape[1], feature_index] = y_scaled[:, i]\n",
    "        pad_pred[i::y_pred_scaled.shape[1], feature_index] = y_pred_scaled[:, i]\n",
    "\n",
    "    true_rescaled = scaler.inverse_transform(pad_true)[:, feature_index].reshape(y_scaled.shape)\n",
    "    pred_rescaled = scaler.inverse_transform(pad_pred)[:, feature_index].reshape(y_pred_scaled.shape)\n",
    "    return true_rescaled, pred_rescaled\n",
    "\n",
    "y_test_rescaled, y_pred_rescaled = rescale_predictions(y_test, y_pred, scaler)\n",
    "\n",
    "# === 11. Evaluate for each future step ===\n",
    "for i in range(future_steps):\n",
    "    mse = mean_squared_error(y_test_rescaled[:, i], y_pred_rescaled[:, i])\n",
    "    r2 = r2_score(y_test_rescaled[:, i], y_pred_rescaled[:, i])\n",
    "    adj_r2 = 1 - ((1 - r2) * (len(y_test_rescaled[:, i]) - 1)) / (len(y_test_rescaled[:, i]) - X_test.shape[2] - 1)\n",
    "    print(f\"Day {i+1}: MSE={mse:.2f}, R²={r2:.4f}, Adjusted R²={adj_r2:.4f}\")\n",
    "\n",
    "# === 12. Plot predictions for a sample forecast (e.g., Day 1) ===\n",
    "plt.figure(figsize=(12, 5))\n",
    "plt.plot(test_dates[:len(y_test_rescaled)], y_test_rescaled[:, 0], label=\"Actual Day 1\")\n",
    "plt.plot(test_dates[:len(y_pred_rescaled)], y_pred_rescaled[:, 0], label=\"Predicted Day 1\")\n",
    "plt.title(\"LSTM 18-Day Direct Forecast (Day 1)\")\n",
    "plt.xlabel(\"Date\")\n",
    "plt.ylabel(\"Price\")\n",
    "plt.legend()\n",
    "plt.grid(True)\n",
    "plt.tight_layout()\n",
    "plt.show()\n"
   ],
   "id": "c40d7a81bfbf1e3a",
   "outputs": [
    {
     "name": "stderr",
     "output_type": "stream",
     "text": [
      "C:\\Users\\prana\\AppData\\Local\\Temp\\ipykernel_7696\\1485256857.py:22: FutureWarning: YF.download() has changed argument auto_adjust default to True\n",
      "  df = yf.download('AAPL', start='2015-01-01', end='2025-01-30')\n",
      "[*********************100%***********************]  1 of 1 completed\n",
      "C:\\Users\\prana\\PycharmProjects\\Intern\\.venv\\Lib\\site-packages\\keras\\src\\layers\\rnn\\rnn.py:199: UserWarning: Do not pass an `input_shape`/`input_dim` argument to a layer. When using Sequential models, prefer using an `Input(shape)` object as the first layer in the model instead.\n",
      "  super().__init__(**kwargs)\n"
     ]
    },
    {
     "name": "stdout",
     "output_type": "stream",
     "text": [
      "Epoch 1/30\n",
      "\u001B[1m61/62\u001B[0m \u001B[32m━━━━━━━━━━━━━━━━━━━\u001B[0m\u001B[37m━\u001B[0m \u001B[1m0s\u001B[0m 26ms/step - loss: 0.0295\n",
      "Epoch 1: val_loss improved from None to 0.00585, saving model to best_model.keras\n",
      "\u001B[1m62/62\u001B[0m \u001B[32m━━━━━━━━━━━━━━━━━━━━\u001B[0m\u001B[37m\u001B[0m \u001B[1m5s\u001B[0m 38ms/step - loss: 0.0122 - val_loss: 0.0059\n",
      "Epoch 2/30\n",
      "\u001B[1m61/62\u001B[0m \u001B[32m━━━━━━━━━━━━━━━━━━━\u001B[0m\u001B[37m━\u001B[0m \u001B[1m0s\u001B[0m 36ms/step - loss: 0.0032\n",
      "Epoch 2: val_loss improved from 0.00585 to 0.00490, saving model to best_model.keras\n",
      "\u001B[1m62/62\u001B[0m \u001B[32m━━━━━━━━━━━━━━━━━━━━\u001B[0m\u001B[37m\u001B[0m \u001B[1m3s\u001B[0m 42ms/step - loss: 0.0030 - val_loss: 0.0049\n",
      "Epoch 3/30\n",
      "\u001B[1m61/62\u001B[0m \u001B[32m━━━━━━━━━━━━━━━━━━━\u001B[0m\u001B[37m━\u001B[0m \u001B[1m0s\u001B[0m 31ms/step - loss: 0.0024\n",
      "Epoch 3: val_loss improved from 0.00490 to 0.00450, saving model to best_model.keras\n",
      "\u001B[1m62/62\u001B[0m \u001B[32m━━━━━━━━━━━━━━━━━━━━\u001B[0m\u001B[37m\u001B[0m \u001B[1m2s\u001B[0m 37ms/step - loss: 0.0022 - val_loss: 0.0045\n",
      "Epoch 4/30\n",
      "\u001B[1m61/62\u001B[0m \u001B[32m━━━━━━━━━━━━━━━━━━━\u001B[0m\u001B[37m━\u001B[0m \u001B[1m0s\u001B[0m 26ms/step - loss: 0.0021\n",
      "Epoch 4: val_loss improved from 0.00450 to 0.00303, saving model to best_model.keras\n",
      "\u001B[1m62/62\u001B[0m \u001B[32m━━━━━━━━━━━━━━━━━━━━\u001B[0m\u001B[37m\u001B[0m \u001B[1m2s\u001B[0m 33ms/step - loss: 0.0020 - val_loss: 0.0030\n",
      "Epoch 5/30\n",
      "\u001B[1m62/62\u001B[0m \u001B[32m━━━━━━━━━━━━━━━━━━━━\u001B[0m\u001B[37m\u001B[0m \u001B[1m0s\u001B[0m 24ms/step - loss: 0.0017\n",
      "Epoch 5: val_loss did not improve from 0.00303\n",
      "\u001B[1m62/62\u001B[0m \u001B[32m━━━━━━━━━━━━━━━━━━━━\u001B[0m\u001B[37m\u001B[0m \u001B[1m2s\u001B[0m 29ms/step - loss: 0.0017 - val_loss: 0.0037\n",
      "Epoch 6/30\n",
      "\u001B[1m61/62\u001B[0m \u001B[32m━━━━━━━━━━━━━━━━━━━\u001B[0m\u001B[37m━\u001B[0m \u001B[1m0s\u001B[0m 23ms/step - loss: 0.0016\n",
      "Epoch 6: val_loss did not improve from 0.00303\n",
      "\u001B[1m62/62\u001B[0m \u001B[32m━━━━━━━━━━━━━━━━━━━━\u001B[0m\u001B[37m\u001B[0m \u001B[1m2s\u001B[0m 27ms/step - loss: 0.0016 - val_loss: 0.0038\n",
      "\u001B[1m1/1\u001B[0m \u001B[32m━━━━━━━━━━━━━━━━━━━━\u001B[0m\u001B[37m\u001B[0m \u001B[1m0s\u001B[0m 344ms/step\n",
      "Day 1: MSE=491.18, R²=-22.4466, Adjusted R²=-32.2160\n",
      "Day 2: MSE=401.81, R²=-18.7868, Adjusted R²=-27.0313\n",
      "Day 3: MSE=582.49, R²=-28.3103, Adjusted R²=-40.5229\n",
      "Day 4: MSE=725.39, R²=-33.8916, Adjusted R²=-48.4298\n",
      "Day 5: MSE=382.12, R²=-14.8422, Adjusted R²=-21.4431\n",
      "Day 6: MSE=484.55, R²=-17.3214, Adjusted R²=-24.9553\n",
      "Day 7: MSE=396.91, R²=-10.1963, Adjusted R²=-14.8614\n",
      "Day 8: MSE=464.57, R²=-8.8301, Adjusted R²=-12.9260\n",
      "Day 9: MSE=614.87, R²=-9.4108, Adjusted R²=-13.7486\n",
      "Day 10: MSE=572.13, R²=-8.2629, Adjusted R²=-12.1225\n",
      "Day 11: MSE=245.86, R²=-2.0926, Adjusted R²=-3.3811\n",
      "Day 12: MSE=329.74, R²=-2.6215, Adjusted R²=-4.1305\n",
      "Day 13: MSE=484.76, R²=-3.4384, Adjusted R²=-5.2877\n",
      "Day 14: MSE=423.93, R²=-2.6043, Adjusted R²=-4.1061\n",
      "Day 15: MSE=309.23, R²=-1.6990, Adjusted R²=-2.8236\n",
      "Day 16: MSE=223.01, R²=-1.1523, Adjusted R²=-2.0490\n",
      "Day 17: MSE=301.24, R²=-2.5129, Adjusted R²=-3.9766\n",
      "Day 18: MSE=145.88, R²=-1.0688, Adjusted R²=-1.9309\n"
     ]
    },
    {
     "data": {
      "text/plain": [
       "<Figure size 1200x500 with 1 Axes>"
      ],
      "image/png": "[encoded data removed]"
     },
     "metadata": {},
     "output_type": "display_data"
    }
   ],
   "execution_count": 47
  },
  {
   "metadata": {
    "ExecuteTime": {
     "end_time": "2025-07-16T10:38:35.241988Z",
     "start_time": "2025-07-16T10:38:24.760219Z"
    }
   },
   "cell_type": "code",
   "source": [
    "# 📦 Imports\n",
    "import numpy as np\n",
    "import pandas as pd\n",
    "import yfinance as yf\n",
    "import matplotlib.pyplot as plt\n",
    "from sklearn.preprocessing import MinMaxScaler\n",
    "from tensorflow.keras.models import Sequential, load_model\n",
    "from tensorflow.keras.layers import LSTM, Dense, Dropout\n",
    "from tensorflow.keras.callbacks import ModelCheckpoint, EarlyStopping\n",
    "from sklearn.metrics import r2_score\n",
    "\n",
    "seed = 42\n",
    "os.environ['PYTHONHASHSEED'] = str(seed)\n",
    "np.random.seed(seed)\n",
    "random.seed(seed)\n",
    "tf.random.set_seed(seed)\n",
    "tf.config.experimental.enable_op_determinism()\n",
    "# 1. Download AAPL 'Close' price\n",
    "data = yf.download(\"AAPL\", start=\"2015-01-01\", end=\"2025-01-30\")\n",
    "data = data[['Close']].dropna()\n",
    "\n",
    "# 2. Train-test split\n",
    "split_date = '2025-01-01'\n",
    "train_data = data.loc[:split_date]\n",
    "test_data = data.loc[split_date:]\n",
    "\n",
    "# 3. Normalize using MinMaxScaler\n",
    "scaler = MinMaxScaler()\n",
    "scaled_train = scaler.fit_transform(train_data)\n",
    "\n",
    "# 4. Create dataset\n",
    "def create_dataset(data, time_steps=30):\n",
    "    X, y = [], []\n",
    "    for i in range(time_steps, len(data)):\n",
    "        X.append(data[i - time_steps:i])\n",
    "        y.append(data[i, 0])\n",
    "    return np.array(X), np.array(y)\n",
    "\n",
    "# ⏱️ 5. Create sequences with time_steps\n",
    "time_steps = 30\n",
    "X_train, y_train = create_dataset(scaled_train, time_steps)\n",
    "# 🏗️ 6. Build Univariate LSTM Model\n",
    "model = Sequential()\n",
    "model.add(LSTM(64, input_shape=(X_train.shape[1], X_train.shape[2])))\n",
    "model.add(Dropout(0.2))\n",
    "model.add(Dense(1))\n",
    "model.compile(optimizer='adam', loss='mean_squared_error')\n",
    "\n",
    "                    # Callbacks\n",
    "early_stop = EarlyStopping(monitor='val_loss', patience=2, restore_best_weights=True)\n",
    "\n",
    "                    # Train model\n",
    "model.fit(X_train, y_train,\n",
    "                              epochs=10,\n",
    "                              batch_size=16,\n",
    "                              validation_split=0.2,\n",
    "                              callbacks=[early_stop],\n",
    "                              verbose=0)\n",
    "\n",
    "                    # Recursive Forecast: Predict next 18 steps\n",
    "input_seq = scaled_train[-time_steps:]\n",
    "predictions = []\n",
    "for _ in range(18):\n",
    "    reshaped_input = input_seq.reshape(1, time_steps, 1)\n",
    "    pred = model.predict(reshaped_input, verbose=0)[0][0]\n",
    "    input_seq = np.append(input_seq[1:], [[pred]], axis=0)\n",
    "    predictions.append(pred)\n",
    "\n",
    "                    # Rescale predictions\n",
    "predictions = np.array(predictions)\n",
    "pad = np.zeros((len(predictions), 1))\n",
    "pad[:, 0] = predictions\n",
    "forecasted_close = scaler.inverse_transform(pad)[:, 0]\n",
    "\n",
    "                    # R² Evaluation\n",
    "true_close = test_data['Close'][:len(forecasted_close)].values\n",
    "r2 = r2_score(true_close, forecasted_close)\n",
    "\n",
    "# 📈 13. Plot the forecast\n",
    "plt.figure(figsize=(12, 5))\n",
    "plt.plot(test_data['Close'], label=\"Actual\")\n",
    "plt.plot(test_data.index[:len(forecasted_close)], forecasted_close, label=\"Forecasted\")\n",
    "plt.title(\"AAPL Price Forecast (Univariate LSTM - Close only)\")\n",
    "plt.xlabel(\"Time\")\n",
    "plt.ylabel(\"Close Price\")\n",
    "plt.legend()\n",
    "plt.grid(True)\n",
    "plt.tight_layout()\n",
    "plt.show()\n",
    "\n",
    "# 🧾 14. Print R² Score\n",
    "print(f\"R² Score: {r2:.4f}\")\n"
   ],
   "id": "be88150133eb6b7f",
   "outputs": [
    {
     "name": "stderr",
     "output_type": "stream",
     "text": [
      "C:\\Users\\prana\\AppData\\Local\\Temp\\ipykernel_7696\\4186840956.py:19: FutureWarning: YF.download() has changed argument auto_adjust default to True\n",
      "  data = yf.download(\"AAPL\", start=\"2015-01-01\", end=\"2025-01-30\")\n",
      "[*********************100%***********************]  1 of 1 completed\n",
      "C:\\Users\\prana\\PycharmProjects\\Intern\\.venv\\Lib\\site-packages\\keras\\src\\layers\\rnn\\rnn.py:199: UserWarning: Do not pass an `input_shape`/`input_dim` argument to a layer. When using Sequential models, prefer using an `Input(shape)` object as the first layer in the model instead.\n",
      "  super().__init__(**kwargs)\n"
     ]
    },
    {
     "data": {
      "text/plain": [
       "<Figure size 1200x500 with 1 Axes>"
      ],
      "image/png": "[encoded data removed]"
     },
     "metadata": {},
     "output_type": "display_data"
    },
    {
     "name": "stdout",
     "output_type": "stream",
     "text": [
      "R² Score: -2.4377\n"
     ]
    }
   ],
   "execution_count": 60
  },
  {
   "metadata": {
    "ExecuteTime": {
     "end_time": "2025-07-17T09:55:49.182636Z",
     "start_time": "2025-07-17T09:51:06.624943Z"
    }
   },
   "cell_type": "code",
   "source": [
    "import os\n",
    "import random\n",
    "import tensorflow as tf\n",
    "import numpy as np\n",
    "import pandas as pd\n",
    "import yfinance as yf\n",
    "import matplotlib.pyplot as plt\n",
    "from sklearn.preprocessing import MinMaxScaler\n",
    "from sklearn.metrics import r2_score\n",
    "from tensorflow.keras.models import Sequential\n",
    "from tensorflow.keras.layers import LSTM, Dense, Dropout\n",
    "from tensorflow.keras.callbacks import EarlyStopping\n",
    "import tensorflow as tf\n",
    "\n",
    "seed = 42\n",
    "os.environ['PYTHONHASHSEED'] = str(seed)\n",
    "np.random.seed(seed)\n",
    "random.seed(seed)\n",
    "tf.random.set_seed(seed)\n",
    "tf.config.experimental.enable_op_determinism()\n",
    "# 1. Download AAPL 'Close' price\n",
    "data = yf.download(\"AAPL\", start=\"2015-01-01\", end=\"2025-01-30\")\n",
    "data = data[['Close']].dropna()\n",
    "\n",
    "# 2. Train-test split\n",
    "split_date = '2025-01-01'\n",
    "train_data = data.loc[:split_date]\n",
    "test_data = data.loc[split_date:]\n",
    "\n",
    "# 3. Normalize using MinMaxScaler\n",
    "scaler = MinMaxScaler()\n",
    "scaled_train = scaler.fit_transform(train_data)\n",
    "\n",
    "# 4. Create dataset\n",
    "def create_dataset(data, time_steps=30):\n",
    "    X, y = [], []\n",
    "    for i in range(time_steps, len(data)):\n",
    "        X.append(data[i - time_steps:i])\n",
    "        y.append(data[i, 0])\n",
    "    return np.array(X), np.array(y)\n",
    "\n",
    "# 5. Grid Search Parameters\n",
    "param_grid = {\n",
    "    'time_steps': [5,30],\n",
    "    'lstm_units': [64, 128],\n",
    "    'dropout': [0.2, 0.3],\n",
    "    'epochs': [10, 30],\n",
    "    'batch_size': [16, 32]\n",
    "}\n",
    "\n",
    "results = []\n",
    "\n",
    "# 6. Grid Search Loop\n",
    "for time_steps in param_grid['time_steps']:\n",
    "    X_train, y_train = create_dataset(scaled_train, time_steps)\n",
    "\n",
    "    for lstm_units in param_grid['lstm_units']:\n",
    "        for dropout in param_grid['dropout']:\n",
    "            for epochs in param_grid['epochs']:\n",
    "                for batch_size in param_grid['batch_size']:\n",
    "\n",
    "                    # Build model\n",
    "                    model = Sequential()\n",
    "                    model.add(LSTM(lstm_units, input_shape=(X_train.shape[1], X_train.shape[2])))\n",
    "                    model.add(Dropout(dropout))\n",
    "                    model.add(Dense(1))\n",
    "                    model.compile(optimizer='adam', loss='mean_squared_error')\n",
    "\n",
    "                    # Callbacks\n",
    "                    early_stop = EarlyStopping(monitor='val_loss', patience=2, restore_best_weights=True)\n",
    "\n",
    "                    # Train model\n",
    "                    model.fit(X_train, y_train,\n",
    "                              epochs=epochs,\n",
    "                              batch_size=batch_size,\n",
    "                              validation_split=0.2,\n",
    "                              callbacks=[early_stop],\n",
    "                              verbose=0)\n",
    "\n",
    "                    # Recursive Forecast: Predict next 18 steps\n",
    "                    input_seq = scaled_train[-time_steps:]\n",
    "                    predictions = []\n",
    "                    for _ in range(18):\n",
    "                        reshaped_input = input_seq.reshape(1, time_steps, 1)\n",
    "                        pred = model.predict(reshaped_input, verbose=0)[0][0]\n",
    "                        input_seq = np.append(input_seq[1:], [[pred]], axis=0)\n",
    "                        predictions.append(pred)\n",
    "\n",
    "                    # Rescale predictions\n",
    "                    predictions = np.array(predictions)\n",
    "                    pad = np.zeros((len(predictions), 1))\n",
    "                    pad[:, 0] = predictions\n",
    "                    forecasted_close = scaler.inverse_transform(pad)[:, 0]\n",
    "\n",
    "                    # R² Evaluation\n",
    "                    true_close = test_data['Close'][:len(forecasted_close)].values\n",
    "                    r2 = r2_score(true_close, forecasted_close)\n",
    "\n",
    "                    results.append({\n",
    "                        'time_steps': time_steps,\n",
    "                        'units': lstm_units,\n",
    "                        'dropout': dropout,\n",
    "                        'epochs': epochs,\n",
    "                        'batch_size': batch_size,\n",
    "                        'r2_score': r2\n",
    "                    })\n",
    "\n",
    "                    print(f\"✅ Tried: steps={time_steps}, units={lstm_units}, dropout={dropout}, \"\n",
    "                          f\"epochs={epochs}, batch={batch_size}, R²={r2:.4f}\")\n",
    "\n",
    "# 7. Best Result\n",
    "results_df = pd.DataFrame(results)\n",
    "best_config = results_df.sort_values(by='r2_score', ascending=False).iloc[0]\n",
    "\n",
    "print(\"\\n🏆 Best Configuration Found:\")\n",
    "print(best_config)\n"
   ],
   "id": "5d6dbb3f356fa55f",
   "outputs": [
    {
     "name": "stderr",
     "output_type": "stream",
     "text": [
      "C:\\Users\\prana\\AppData\\Local\\Temp\\ipykernel_4940\\3069689043.py:22: FutureWarning: YF.download() has changed argument auto_adjust default to True\n",
      "  data = yf.download(\"AAPL\", start=\"2015-01-01\", end=\"2025-01-30\")\n",
      "[*********************100%***********************]  1 of 1 completed\n",
      "C:\\Users\\prana\\PycharmProjects\\Intern\\.venv\\Lib\\site-packages\\keras\\src\\layers\\rnn\\rnn.py:199: UserWarning: Do not pass an `input_shape`/`input_dim` argument to a layer. When using Sequential models, prefer using an `Input(shape)` object as the first layer in the model instead.\n",
      "  super().__init__(**kwargs)\n"
     ]
    },
    {
     "name": "stdout",
     "output_type": "stream",
     "text": [
      "✅ Tried: steps=5, units=64, dropout=0.2, epochs=10, batch=16, R²=-3.2549\n"
     ]
    },
    {
     "name": "stderr",
     "output_type": "stream",
     "text": [
      "C:\\Users\\prana\\PycharmProjects\\Intern\\.venv\\Lib\\site-packages\\keras\\src\\layers\\rnn\\rnn.py:199: UserWarning: Do not pass an `input_shape`/`input_dim` argument to a layer. When using Sequential models, prefer using an `Input(shape)` object as the first layer in the model instead.\n",
      "  super().__init__(**kwargs)\n"
     ]
    },
    {
     "name": "stdout",
     "output_type": "stream",
     "text": [
      "✅ Tried: steps=5, units=64, dropout=0.2, epochs=10, batch=32, R²=-7.5266\n"
     ]
    },
    {
     "name": "stderr",
     "output_type": "stream",
     "text": [
      "C:\\Users\\prana\\PycharmProjects\\Intern\\.venv\\Lib\\site-packages\\keras\\src\\layers\\rnn\\rnn.py:199: UserWarning: Do not pass an `input_shape`/`input_dim` argument to a layer. When using Sequential models, prefer using an `Input(shape)` object as the first layer in the model instead.\n",
      "  super().__init__(**kwargs)\n"
     ]
    },
    {
     "name": "stdout",
     "output_type": "stream",
     "text": [
      "✅ Tried: steps=5, units=64, dropout=0.2, epochs=30, batch=16, R²=-60.8956\n"
     ]
    },
    {
     "name": "stderr",
     "output_type": "stream",
     "text": [
      "C:\\Users\\prana\\PycharmProjects\\Intern\\.venv\\Lib\\site-packages\\keras\\src\\layers\\rnn\\rnn.py:199: UserWarning: Do not pass an `input_shape`/`input_dim` argument to a layer. When using Sequential models, prefer using an `Input(shape)` object as the first layer in the model instead.\n",
      "  super().__init__(**kwargs)\n"
     ]
    },
    {
     "name": "stdout",
     "output_type": "stream",
     "text": [
      "✅ Tried: steps=5, units=64, dropout=0.2, epochs=30, batch=32, R²=-30.2344\n"
     ]
    },
    {
     "name": "stderr",
     "output_type": "stream",
     "text": [
      "C:\\Users\\prana\\PycharmProjects\\Intern\\.venv\\Lib\\site-packages\\keras\\src\\layers\\rnn\\rnn.py:199: UserWarning: Do not pass an `input_shape`/`input_dim` argument to a layer. When using Sequential models, prefer using an `Input(shape)` object as the first layer in the model instead.\n",
      "  super().__init__(**kwargs)\n"
     ]
    },
    {
     "name": "stdout",
     "output_type": "stream",
     "text": [
      "✅ Tried: steps=5, units=64, dropout=0.3, epochs=10, batch=16, R²=-49.1105\n"
     ]
    },
    {
     "name": "stderr",
     "output_type": "stream",
     "text": [
      "C:\\Users\\prana\\PycharmProjects\\Intern\\.venv\\Lib\\site-packages\\keras\\src\\layers\\rnn\\rnn.py:199: UserWarning: Do not pass an `input_shape`/`input_dim` argument to a layer. When using Sequential models, prefer using an `Input(shape)` object as the first layer in the model instead.\n",
      "  super().__init__(**kwargs)\n"
     ]
    },
    {
     "name": "stdout",
     "output_type": "stream",
     "text": [
      "✅ Tried: steps=5, units=64, dropout=0.3, epochs=10, batch=32, R²=-35.2977\n"
     ]
    },
    {
     "name": "stderr",
     "output_type": "stream",
     "text": [
      "C:\\Users\\prana\\PycharmProjects\\Intern\\.venv\\Lib\\site-packages\\keras\\src\\layers\\rnn\\rnn.py:199: UserWarning: Do not pass an `input_shape`/`input_dim` argument to a layer. When using Sequential models, prefer using an `Input(shape)` object as the first layer in the model instead.\n",
      "  super().__init__(**kwargs)\n"
     ]
    },
    {
     "name": "stdout",
     "output_type": "stream",
     "text": [
      "✅ Tried: steps=5, units=64, dropout=0.3, epochs=30, batch=16, R²=-7.2567\n"
     ]
    },
    {
     "name": "stderr",
     "output_type": "stream",
     "text": [
      "C:\\Users\\prana\\PycharmProjects\\Intern\\.venv\\Lib\\site-packages\\keras\\src\\layers\\rnn\\rnn.py:199: UserWarning: Do not pass an `input_shape`/`input_dim` argument to a layer. When using Sequential models, prefer using an `Input(shape)` object as the first layer in the model instead.\n",
      "  super().__init__(**kwargs)\n"
     ]
    },
    {
     "name": "stdout",
     "output_type": "stream",
     "text": [
      "✅ Tried: steps=5, units=64, dropout=0.3, epochs=30, batch=32, R²=-14.5865\n"
     ]
    },
    {
     "name": "stderr",
     "output_type": "stream",
     "text": [
      "C:\\Users\\prana\\PycharmProjects\\Intern\\.venv\\Lib\\site-packages\\keras\\src\\layers\\rnn\\rnn.py:199: UserWarning: Do not pass an `input_shape`/`input_dim` argument to a layer. When using Sequential models, prefer using an `Input(shape)` object as the first layer in the model instead.\n",
      "  super().__init__(**kwargs)\n"
     ]
    },
    {
     "name": "stdout",
     "output_type": "stream",
     "text": [
      "✅ Tried: steps=5, units=128, dropout=0.2, epochs=10, batch=16, R²=-18.2031\n"
     ]
    },
    {
     "name": "stderr",
     "output_type": "stream",
     "text": [
      "C:\\Users\\prana\\PycharmProjects\\Intern\\.venv\\Lib\\site-packages\\keras\\src\\layers\\rnn\\rnn.py:199: UserWarning: Do not pass an `input_shape`/`input_dim` argument to a layer. When using Sequential models, prefer using an `Input(shape)` object as the first layer in the model instead.\n",
      "  super().__init__(**kwargs)\n"
     ]
    },
    {
     "name": "stdout",
     "output_type": "stream",
     "text": [
      "✅ Tried: steps=5, units=128, dropout=0.2, epochs=10, batch=32, R²=-11.3810\n"
     ]
    },
    {
     "name": "stderr",
     "output_type": "stream",
     "text": [
      "C:\\Users\\prana\\PycharmProjects\\Intern\\.venv\\Lib\\site-packages\\keras\\src\\layers\\rnn\\rnn.py:199: UserWarning: Do not pass an `input_shape`/`input_dim` argument to a layer. When using Sequential models, prefer using an `Input(shape)` object as the first layer in the model instead.\n",
      "  super().__init__(**kwargs)\n"
     ]
    },
    {
     "name": "stdout",
     "output_type": "stream",
     "text": [
      "✅ Tried: steps=5, units=128, dropout=0.2, epochs=30, batch=16, R²=-3.3877\n"
     ]
    },
    {
     "name": "stderr",
     "output_type": "stream",
     "text": [
      "C:\\Users\\prana\\PycharmProjects\\Intern\\.venv\\Lib\\site-packages\\keras\\src\\layers\\rnn\\rnn.py:199: UserWarning: Do not pass an `input_shape`/`input_dim` argument to a layer. When using Sequential models, prefer using an `Input(shape)` object as the first layer in the model instead.\n",
      "  super().__init__(**kwargs)\n"
     ]
    },
    {
     "name": "stdout",
     "output_type": "stream",
     "text": [
      "✅ Tried: steps=5, units=128, dropout=0.2, epochs=30, batch=32, R²=-42.3360\n"
     ]
    },
    {
     "name": "stderr",
     "output_type": "stream",
     "text": [
      "C:\\Users\\prana\\PycharmProjects\\Intern\\.venv\\Lib\\site-packages\\keras\\src\\layers\\rnn\\rnn.py:199: UserWarning: Do not pass an `input_shape`/`input_dim` argument to a layer. When using Sequential models, prefer using an `Input(shape)` object as the first layer in the model instead.\n",
      "  super().__init__(**kwargs)\n"
     ]
    },
    {
     "name": "stdout",
     "output_type": "stream",
     "text": [
      "✅ Tried: steps=5, units=128, dropout=0.3, epochs=10, batch=16, R²=-9.1389\n"
     ]
    },
    {
     "name": "stderr",
     "output_type": "stream",
     "text": [
      "C:\\Users\\prana\\PycharmProjects\\Intern\\.venv\\Lib\\site-packages\\keras\\src\\layers\\rnn\\rnn.py:199: UserWarning: Do not pass an `input_shape`/`input_dim` argument to a layer. When using Sequential models, prefer using an `Input(shape)` object as the first layer in the model instead.\n",
      "  super().__init__(**kwargs)\n"
     ]
    },
    {
     "name": "stdout",
     "output_type": "stream",
     "text": [
      "✅ Tried: steps=5, units=128, dropout=0.3, epochs=10, batch=32, R²=-16.9508\n"
     ]
    },
    {
     "name": "stderr",
     "output_type": "stream",
     "text": [
      "C:\\Users\\prana\\PycharmProjects\\Intern\\.venv\\Lib\\site-packages\\keras\\src\\layers\\rnn\\rnn.py:199: UserWarning: Do not pass an `input_shape`/`input_dim` argument to a layer. When using Sequential models, prefer using an `Input(shape)` object as the first layer in the model instead.\n",
      "  super().__init__(**kwargs)\n"
     ]
    },
    {
     "name": "stdout",
     "output_type": "stream",
     "text": [
      "✅ Tried: steps=5, units=128, dropout=0.3, epochs=30, batch=16, R²=-1.8316\n"
     ]
    },
    {
     "name": "stderr",
     "output_type": "stream",
     "text": [
      "C:\\Users\\prana\\PycharmProjects\\Intern\\.venv\\Lib\\site-packages\\keras\\src\\layers\\rnn\\rnn.py:199: UserWarning: Do not pass an `input_shape`/`input_dim` argument to a layer. When using Sequential models, prefer using an `Input(shape)` object as the first layer in the model instead.\n",
      "  super().__init__(**kwargs)\n"
     ]
    },
    {
     "name": "stdout",
     "output_type": "stream",
     "text": [
      "✅ Tried: steps=5, units=128, dropout=0.3, epochs=30, batch=32, R²=-17.2988\n"
     ]
    },
    {
     "name": "stderr",
     "output_type": "stream",
     "text": [
      "C:\\Users\\prana\\PycharmProjects\\Intern\\.venv\\Lib\\site-packages\\keras\\src\\layers\\rnn\\rnn.py:199: UserWarning: Do not pass an `input_shape`/`input_dim` argument to a layer. When using Sequential models, prefer using an `Input(shape)` object as the first layer in the model instead.\n",
      "  super().__init__(**kwargs)\n"
     ]
    },
    {
     "name": "stdout",
     "output_type": "stream",
     "text": [
      "✅ Tried: steps=30, units=64, dropout=0.2, epochs=10, batch=16, R²=0.3344\n"
     ]
    },
    {
     "name": "stderr",
     "output_type": "stream",
     "text": [
      "C:\\Users\\prana\\PycharmProjects\\Intern\\.venv\\Lib\\site-packages\\keras\\src\\layers\\rnn\\rnn.py:199: UserWarning: Do not pass an `input_shape`/`input_dim` argument to a layer. When using Sequential models, prefer using an `Input(shape)` object as the first layer in the model instead.\n",
      "  super().__init__(**kwargs)\n"
     ]
    },
    {
     "name": "stdout",
     "output_type": "stream",
     "text": [
      "✅ Tried: steps=30, units=64, dropout=0.2, epochs=10, batch=32, R²=-1.8975\n"
     ]
    },
    {
     "name": "stderr",
     "output_type": "stream",
     "text": [
      "C:\\Users\\prana\\PycharmProjects\\Intern\\.venv\\Lib\\site-packages\\keras\\src\\layers\\rnn\\rnn.py:199: UserWarning: Do not pass an `input_shape`/`input_dim` argument to a layer. When using Sequential models, prefer using an `Input(shape)` object as the first layer in the model instead.\n",
      "  super().__init__(**kwargs)\n"
     ]
    },
    {
     "name": "stdout",
     "output_type": "stream",
     "text": [
      "✅ Tried: steps=30, units=64, dropout=0.2, epochs=30, batch=16, R²=-10.1768\n"
     ]
    },
    {
     "name": "stderr",
     "output_type": "stream",
     "text": [
      "C:\\Users\\prana\\PycharmProjects\\Intern\\.venv\\Lib\\site-packages\\keras\\src\\layers\\rnn\\rnn.py:199: UserWarning: Do not pass an `input_shape`/`input_dim` argument to a layer. When using Sequential models, prefer using an `Input(shape)` object as the first layer in the model instead.\n",
      "  super().__init__(**kwargs)\n"
     ]
    },
    {
     "name": "stdout",
     "output_type": "stream",
     "text": [
      "✅ Tried: steps=30, units=64, dropout=0.2, epochs=30, batch=32, R²=-4.5177\n"
     ]
    },
    {
     "name": "stderr",
     "output_type": "stream",
     "text": [
      "C:\\Users\\prana\\PycharmProjects\\Intern\\.venv\\Lib\\site-packages\\keras\\src\\layers\\rnn\\rnn.py:199: UserWarning: Do not pass an `input_shape`/`input_dim` argument to a layer. When using Sequential models, prefer using an `Input(shape)` object as the first layer in the model instead.\n",
      "  super().__init__(**kwargs)\n"
     ]
    },
    {
     "name": "stdout",
     "output_type": "stream",
     "text": [
      "✅ Tried: steps=30, units=64, dropout=0.3, epochs=10, batch=16, R²=-15.4147\n"
     ]
    },
    {
     "name": "stderr",
     "output_type": "stream",
     "text": [
      "C:\\Users\\prana\\PycharmProjects\\Intern\\.venv\\Lib\\site-packages\\keras\\src\\layers\\rnn\\rnn.py:199: UserWarning: Do not pass an `input_shape`/`input_dim` argument to a layer. When using Sequential models, prefer using an `Input(shape)` object as the first layer in the model instead.\n",
      "  super().__init__(**kwargs)\n"
     ]
    },
    {
     "name": "stdout",
     "output_type": "stream",
     "text": [
      "✅ Tried: steps=30, units=64, dropout=0.3, epochs=10, batch=32, R²=-4.2678\n"
     ]
    },
    {
     "name": "stderr",
     "output_type": "stream",
     "text": [
      "C:\\Users\\prana\\PycharmProjects\\Intern\\.venv\\Lib\\site-packages\\keras\\src\\layers\\rnn\\rnn.py:199: UserWarning: Do not pass an `input_shape`/`input_dim` argument to a layer. When using Sequential models, prefer using an `Input(shape)` object as the first layer in the model instead.\n",
      "  super().__init__(**kwargs)\n"
     ]
    },
    {
     "name": "stdout",
     "output_type": "stream",
     "text": [
      "✅ Tried: steps=30, units=64, dropout=0.3, epochs=30, batch=16, R²=-13.0145\n"
     ]
    },
    {
     "name": "stderr",
     "output_type": "stream",
     "text": [
      "C:\\Users\\prana\\PycharmProjects\\Intern\\.venv\\Lib\\site-packages\\keras\\src\\layers\\rnn\\rnn.py:199: UserWarning: Do not pass an `input_shape`/`input_dim` argument to a layer. When using Sequential models, prefer using an `Input(shape)` object as the first layer in the model instead.\n",
      "  super().__init__(**kwargs)\n"
     ]
    },
    {
     "name": "stdout",
     "output_type": "stream",
     "text": [
      "✅ Tried: steps=30, units=64, dropout=0.3, epochs=30, batch=32, R²=-8.1973\n"
     ]
    },
    {
     "name": "stderr",
     "output_type": "stream",
     "text": [
      "C:\\Users\\prana\\PycharmProjects\\Intern\\.venv\\Lib\\site-packages\\keras\\src\\layers\\rnn\\rnn.py:199: UserWarning: Do not pass an `input_shape`/`input_dim` argument to a layer. When using Sequential models, prefer using an `Input(shape)` object as the first layer in the model instead.\n",
      "  super().__init__(**kwargs)\n"
     ]
    },
    {
     "name": "stdout",
     "output_type": "stream",
     "text": [
      "✅ Tried: steps=30, units=128, dropout=0.2, epochs=10, batch=16, R²=-6.6505\n"
     ]
    },
    {
     "name": "stderr",
     "output_type": "stream",
     "text": [
      "C:\\Users\\prana\\PycharmProjects\\Intern\\.venv\\Lib\\site-packages\\keras\\src\\layers\\rnn\\rnn.py:199: UserWarning: Do not pass an `input_shape`/`input_dim` argument to a layer. When using Sequential models, prefer using an `Input(shape)` object as the first layer in the model instead.\n",
      "  super().__init__(**kwargs)\n"
     ]
    },
    {
     "name": "stdout",
     "output_type": "stream",
     "text": [
      "✅ Tried: steps=30, units=128, dropout=0.2, epochs=10, batch=32, R²=-3.2300\n"
     ]
    },
    {
     "name": "stderr",
     "output_type": "stream",
     "text": [
      "C:\\Users\\prana\\PycharmProjects\\Intern\\.venv\\Lib\\site-packages\\keras\\src\\layers\\rnn\\rnn.py:199: UserWarning: Do not pass an `input_shape`/`input_dim` argument to a layer. When using Sequential models, prefer using an `Input(shape)` object as the first layer in the model instead.\n",
      "  super().__init__(**kwargs)\n"
     ]
    },
    {
     "name": "stdout",
     "output_type": "stream",
     "text": [
      "✅ Tried: steps=30, units=128, dropout=0.2, epochs=30, batch=16, R²=-0.4839\n"
     ]
    },
    {
     "name": "stderr",
     "output_type": "stream",
     "text": [
      "C:\\Users\\prana\\PycharmProjects\\Intern\\.venv\\Lib\\site-packages\\keras\\src\\layers\\rnn\\rnn.py:199: UserWarning: Do not pass an `input_shape`/`input_dim` argument to a layer. When using Sequential models, prefer using an `Input(shape)` object as the first layer in the model instead.\n",
      "  super().__init__(**kwargs)\n"
     ]
    },
    {
     "name": "stdout",
     "output_type": "stream",
     "text": [
      "✅ Tried: steps=30, units=128, dropout=0.2, epochs=30, batch=32, R²=-7.6258\n"
     ]
    },
    {
     "name": "stderr",
     "output_type": "stream",
     "text": [
      "C:\\Users\\prana\\PycharmProjects\\Intern\\.venv\\Lib\\site-packages\\keras\\src\\layers\\rnn\\rnn.py:199: UserWarning: Do not pass an `input_shape`/`input_dim` argument to a layer. When using Sequential models, prefer using an `Input(shape)` object as the first layer in the model instead.\n",
      "  super().__init__(**kwargs)\n"
     ]
    },
    {
     "name": "stdout",
     "output_type": "stream",
     "text": [
      "✅ Tried: steps=30, units=128, dropout=0.3, epochs=10, batch=16, R²=-6.2966\n"
     ]
    },
    {
     "name": "stderr",
     "output_type": "stream",
     "text": [
      "C:\\Users\\prana\\PycharmProjects\\Intern\\.venv\\Lib\\site-packages\\keras\\src\\layers\\rnn\\rnn.py:199: UserWarning: Do not pass an `input_shape`/`input_dim` argument to a layer. When using Sequential models, prefer using an `Input(shape)` object as the first layer in the model instead.\n",
      "  super().__init__(**kwargs)\n"
     ]
    },
    {
     "name": "stdout",
     "output_type": "stream",
     "text": [
      "✅ Tried: steps=30, units=128, dropout=0.3, epochs=10, batch=32, R²=-14.5870\n"
     ]
    },
    {
     "name": "stderr",
     "output_type": "stream",
     "text": [
      "C:\\Users\\prana\\PycharmProjects\\Intern\\.venv\\Lib\\site-packages\\keras\\src\\layers\\rnn\\rnn.py:199: UserWarning: Do not pass an `input_shape`/`input_dim` argument to a layer. When using Sequential models, prefer using an `Input(shape)` object as the first layer in the model instead.\n",
      "  super().__init__(**kwargs)\n"
     ]
    },
    {
     "name": "stdout",
     "output_type": "stream",
     "text": [
      "✅ Tried: steps=30, units=128, dropout=0.3, epochs=30, batch=16, R²=0.0053\n"
     ]
    },
    {
     "name": "stderr",
     "output_type": "stream",
     "text": [
      "C:\\Users\\prana\\PycharmProjects\\Intern\\.venv\\Lib\\site-packages\\keras\\src\\layers\\rnn\\rnn.py:199: UserWarning: Do not pass an `input_shape`/`input_dim` argument to a layer. When using Sequential models, prefer using an `Input(shape)` object as the first layer in the model instead.\n",
      "  super().__init__(**kwargs)\n"
     ]
    },
    {
     "name": "stdout",
     "output_type": "stream",
     "text": [
      "✅ Tried: steps=30, units=128, dropout=0.3, epochs=30, batch=32, R²=-3.6150\n",
      "\n",
      "🏆 Best Configuration Found:\n",
      "time_steps    30.000000\n",
      "units         64.000000\n",
      "dropout        0.200000\n",
      "epochs        10.000000\n",
      "batch_size    16.000000\n",
      "r2_score       0.334389\n",
      "Name: 16, dtype: float64\n"
     ]
    }
   ],
   "execution_count": 2
  },
  {
   "metadata": {
    "ExecuteTime": {
     "end_time": "2025-07-17T09:56:44.173528Z",
     "start_time": "2025-07-17T09:56:29.242763Z"
    }
   },
   "cell_type": "code",
   "source": [
    "# 8. Retrain using Best Configuration\n",
    "best_time_steps = best_config['time_steps']\n",
    "best_units = best_config['units']\n",
    "best_dropout = best_config['dropout']\n",
    "best_epochs = best_config['epochs']\n",
    "best_batch_size = best_config['batch_size']\n",
    "\n",
    "# Prepare training data\n",
    "X_train, y_train = create_dataset(scaled_train, int(best_time_steps))\n",
    "\n",
    "# Build best model\n",
    "best_model = Sequential()\n",
    "best_model.add(LSTM(int(best_units), input_shape=(X_train.shape[1], X_train.shape[2])))\n",
    "best_model.add(Dropout(float(best_dropout)))\n",
    "best_model.add(Dense(1))\n",
    "best_model.compile(optimizer='adam', loss='mean_squared_error')\n",
    "\n",
    "# Train best model\n",
    "best_model.fit(X_train, y_train,\n",
    "               epochs=int(best_epochs),\n",
    "               batch_size=int(best_batch_size),\n",
    "               validation_split=0.2,\n",
    "               callbacks=[EarlyStopping(monitor='val_loss', patience=2, restore_best_weights=True)],\n",
    "               verbose=1)\n",
    "\n",
    "# Recursive forecast\n",
    "input_seq = scaled_train[-int(best_time_steps):]\n",
    "predictions = []\n",
    "for _ in range(18):\n",
    "    reshaped_input = input_seq.reshape(1, int(best_time_steps), 1)\n",
    "    pred = best_model.predict(reshaped_input, verbose=0)[0][0]\n",
    "    input_seq = np.append(input_seq[1:], [[pred]], axis=0)\n",
    "    predictions.append(pred)\n",
    "\n",
    "# Rescale predictions\n",
    "predictions = np.array(predictions).reshape(-1, 1)\n",
    "forecasted_close = scaler.inverse_transform(predictions).flatten()\n",
    "\n",
    "# Actual values for comparison\n",
    "true_close = test_data['Close'][:len(forecasted_close)].values\n",
    "\n",
    "# Plot actual vs predicted\n",
    "plt.figure(figsize=(12, 6))\n",
    "plt.plot(true_close, label='Actual Close Price', marker='o')\n",
    "plt.plot(forecasted_close, label='Predicted Close Price', marker='x')\n",
    "plt.title(\"📈 LSTM Forecast vs Actual\")\n",
    "plt.xlabel(\"Days\")\n",
    "plt.ylabel(\"Close Price\")\n",
    "plt.legend()\n",
    "plt.grid(True)\n",
    "plt.tight_layout()\n",
    "plt.show()\n",
    "\n",
    "# Optional: Print R² Score again\n",
    "final_r2 = r2_score(true_close, forecasted_close)\n",
    "print(f\"\\n📊 Final R² Score on Test Data with Best Config: {final_r2:.4f}\")\n"
   ],
   "id": "8d5c651b87f9e57",
   "outputs": [
    {
     "name": "stdout",
     "output_type": "stream",
     "text": [
      "Epoch 1/10\n"
     ]
    },
    {
     "name": "stderr",
     "output_type": "stream",
     "text": [
      "C:\\Users\\prana\\PycharmProjects\\Intern\\.venv\\Lib\\site-packages\\keras\\src\\layers\\rnn\\rnn.py:199: UserWarning: Do not pass an `input_shape`/`input_dim` argument to a layer. When using Sequential models, prefer using an `Input(shape)` object as the first layer in the model instead.\n",
      "  super().__init__(**kwargs)\n"
     ]
    },
    {
     "name": "stdout",
     "output_type": "stream",
     "text": [
      "\u001B[1m125/125\u001B[0m \u001B[32m━━━━━━━━━━━━━━━━━━━━\u001B[0m\u001B[37m\u001B[0m \u001B[1m4s\u001B[0m 17ms/step - loss: 0.0061 - val_loss: 0.0011\n",
      "Epoch 2/10\n",
      "\u001B[1m125/125\u001B[0m \u001B[32m━━━━━━━━━━━━━━━━━━━━\u001B[0m\u001B[37m\u001B[0m \u001B[1m3s\u001B[0m 18ms/step - loss: 9.3797e-04 - val_loss: 8.3656e-04\n",
      "Epoch 3/10\n",
      "\u001B[1m125/125\u001B[0m \u001B[32m━━━━━━━━━━━━━━━━━━━━\u001B[0m\u001B[37m\u001B[0m \u001B[1m3s\u001B[0m 19ms/step - loss: 8.0920e-04 - val_loss: 0.0011\n",
      "Epoch 4/10\n",
      "\u001B[1m125/125\u001B[0m \u001B[32m━━━━━━━━━━━━━━━━━━━━\u001B[0m\u001B[37m\u001B[0m \u001B[1m3s\u001B[0m 24ms/step - loss: 7.0876e-04 - val_loss: 0.0018\n"
     ]
    },
    {
     "name": "stderr",
     "output_type": "stream",
     "text": [
      "C:\\Users\\prana\\AppData\\Local\\Temp\\ipykernel_4940\\3703178528.py:51: UserWarning: Glyph 128200 (\\N{CHART WITH UPWARDS TREND}) missing from font(s) DejaVu Sans.\n",
      "  plt.tight_layout()\n",
      "C:\\Users\\prana\\PycharmProjects\\Intern\\.venv\\Lib\\site-packages\\IPython\\core\\pylabtools.py:170: UserWarning: Glyph 128200 (\\N{CHART WITH UPWARDS TREND}) missing from font(s) DejaVu Sans.\n",
      "  fig.canvas.print_figure(bytes_io, **kw)\n"
     ]
    },
    {
     "data": {
      "text/plain": [
       "<Figure size 1200x600 with 1 Axes>"
      ],
      "image/png": "[encoded data removed]"
     },
     "metadata": {},
     "output_type": "display_data"
    },
    {
     "name": "stdout",
     "output_type": "stream",
     "text": [
      "\n",
      "📊 Final R² Score on Test Data with Best Config: 0.1107\n"
     ]
    }
   ],
   "execution_count": 3
  },
  {
   "metadata": {
    "ExecuteTime": {
     "end_time": "2025-07-17T11:58:41.048755Z",
     "start_time": "2025-07-17T11:38:03.341446Z"
    }
   },
   "cell_type": "code",
   "source": [
    "import os\n",
    "import random\n",
    "import tensorflow as tf\n",
    "import numpy as np\n",
    "import pandas as pd\n",
    "import yfinance as yf\n",
    "import matplotlib.pyplot as plt\n",
    "from sklearn.preprocessing import MinMaxScaler\n",
    "from sklearn.metrics import r2_score\n",
    "from tensorflow.keras.models import Sequential\n",
    "from tensorflow.keras.layers import LSTM, Dense, Dropout\n",
    "from tensorflow.keras.callbacks import EarlyStopping\n",
    "import tensorflow as tf\n",
    "\n",
    "seed = 42\n",
    "os.environ['PYTHONHASHSEED'] = str(seed)\n",
    "np.random.seed(seed)\n",
    "random.seed(seed)\n",
    "tf.random.set_seed(seed)\n",
    "tf.config.experimental.enable_op_determinism()\n",
    "# 1. Download AAPL 'Close' price\n",
    "data = yf.download(\"AAPL\", start=\"2015-01-01\", end=\"2025-01-30\")\n",
    "data = data[['Close']].dropna()\n",
    "\n",
    "# 2. Train-test split\n",
    "split_date = '2025-01-01'\n",
    "train_data = data.loc[:split_date]\n",
    "test_data = data.loc[split_date:]\n",
    "\n",
    "# 3. Normalize using MinMaxScaler\n",
    "scaler = MinMaxScaler()\n",
    "scaled_train = scaler.fit_transform(train_data)\n",
    "\n",
    "# 4. Create dataset\n",
    "def create_dataset(data, time_steps=30):\n",
    "    X, y = [], []\n",
    "    for i in range(time_steps, len(data)):\n",
    "        X.append(data[i - time_steps:i])\n",
    "        y.append(data[i, 0])\n",
    "    return np.array(X), np.array(y)\n",
    "\n",
    "# 5. Grid Search Parameters\n",
    "param_grid = {\n",
    "    'time_steps': [5,30],\n",
    "    'lstm_units1': [64, 128],\n",
    "    'lstm_units2': [32,64],\n",
    "    'dropout1': [0],\n",
    "    'dropout2': [0],\n",
    "    'epochs': [10, 30],\n",
    "    'batch_size': [16, 32]\n",
    "}\n",
    "\n",
    "results = []\n",
    "\n",
    "# 6. Grid Search Loop\n",
    "for time_steps in param_grid['time_steps']:\n",
    "    X_train, y_train = create_dataset(scaled_train, time_steps)\n",
    "\n",
    "    for units1 in param_grid['lstm_units1']:\n",
    "        for units2 in param_grid['lstm_units2']:\n",
    "            for drop1 in param_grid['dropout1']:\n",
    "                for drop2 in param_grid['dropout2']:\n",
    "                    for epochs in param_grid['epochs']:\n",
    "                        for batch_size in param_grid['batch_size']:\n",
    "\n",
    "                    # Build model\n",
    "                            model = Sequential()\n",
    "                            model.add(LSTM(units1, return_sequences=True, input_shape=(X_train.shape[1], X_train.shape[2])))\n",
    "                            model.add(Dropout(drop1))\n",
    "                            model.add(LSTM(units2))  # Second LSTM layer\n",
    "                            model.add(Dropout(drop2))\n",
    "                            model.add(Dense(1))\n",
    "                            model.compile(optimizer='adam', loss='mean_squared_error')\n",
    "\n",
    "\n",
    "                    # Callbacks\n",
    "                            early_stop = EarlyStopping(monitor='val_loss', patience=2, restore_best_weights=True)\n",
    "\n",
    "                    # Train model\n",
    "                            model.fit(X_train, y_train,\n",
    "                                    epochs=epochs,\n",
    "                                    batch_size=batch_size,\n",
    "                                    validation_split=0.2,\n",
    "                                    callbacks=[early_stop],\n",
    "                                    verbose=0)\n",
    "\n",
    "                    # Recursive Forecast: Predict next 18 steps\n",
    "                            input_seq = scaled_train[-time_steps:]\n",
    "                            predictions = []\n",
    "                            for _ in range(18):\n",
    "                                reshaped_input = input_seq.reshape(1, time_steps, 1)\n",
    "                                pred = model.predict(reshaped_input, verbose=0)[0][0]\n",
    "                                input_seq = np.append(input_seq[1:], [[pred]], axis=0)\n",
    "                                predictions.append(pred)\n",
    "\n",
    "                    # Rescale predictions\n",
    "                            predictions = np.array(predictions)\n",
    "                            pad = np.zeros((len(predictions), 1))\n",
    "                            pad[:, 0] = predictions\n",
    "                            forecasted_close = scaler.inverse_transform(pad)[:, 0]\n",
    "\n",
    "                    # R² Evaluation\n",
    "                            true_close = test_data['Close'][:len(forecasted_close)].values\n",
    "                            r2 = r2_score(true_close, forecasted_close)\n",
    "\n",
    "                            results.append({\n",
    "                                'time_steps': time_steps,\n",
    "                                'units1': units1,\n",
    "                                'units2': units2,\n",
    "                                'dropout1': drop1,\n",
    "                                'dropout2': drop2,\n",
    "                                'epochs': epochs,\n",
    "                                'batch_size': batch_size,\n",
    "                                'r2_score': r2\n",
    "                            })\n",
    "\n",
    "                            print(f\"✅ Tried: steps={time_steps}, units1={units1},units2={units2},dropout2={drop2}, dropout1={drop1}, \"\n",
    "                            f\"epochs={epochs}, batch={batch_size}, R²={r2:.4f}\")\n",
    "\n",
    "# 7. Best Result\n",
    "results_df = pd.DataFrame(results)\n",
    "best_config = results_df.sort_values(by='r2_score', ascending=False).iloc[0]\n",
    "\n",
    "print(\"\\n🏆 Best Configuration Found:\")\n",
    "print(best_config)\n"
   ],
   "id": "1cb49dc130fba1e8",
   "outputs": [
    {
     "name": "stderr",
     "output_type": "stream",
     "text": [
      "C:\\Users\\prana\\AppData\\Local\\Temp\\ipykernel_4940\\2239389382.py:22: FutureWarning: YF.download() has changed argument auto_adjust default to True\n",
      "  data = yf.download(\"AAPL\", start=\"2015-01-01\", end=\"2025-01-30\")\n",
      "[*********************100%***********************]  1 of 1 completed\n",
      "C:\\Users\\prana\\PycharmProjects\\Intern\\.venv\\Lib\\site-packages\\keras\\src\\layers\\rnn\\rnn.py:199: UserWarning: Do not pass an `input_shape`/`input_dim` argument to a layer. When using Sequential models, prefer using an `Input(shape)` object as the first layer in the model instead.\n",
      "  super().__init__(**kwargs)\n"
     ]
    },
    {
     "name": "stdout",
     "output_type": "stream",
     "text": [
      "✅ Tried: steps=5, units1=64,units2=32,dropout2=0, dropout1=0, epochs=10, batch=16, R²=-1.1498\n"
     ]
    },
    {
     "name": "stderr",
     "output_type": "stream",
     "text": [
      "C:\\Users\\prana\\PycharmProjects\\Intern\\.venv\\Lib\\site-packages\\keras\\src\\layers\\rnn\\rnn.py:199: UserWarning: Do not pass an `input_shape`/`input_dim` argument to a layer. When using Sequential models, prefer using an `Input(shape)` object as the first layer in the model instead.\n",
      "  super().__init__(**kwargs)\n"
     ]
    },
    {
     "name": "stdout",
     "output_type": "stream",
     "text": [
      "✅ Tried: steps=5, units1=64,units2=32,dropout2=0, dropout1=0, epochs=10, batch=32, R²=0.0752\n"
     ]
    },
    {
     "name": "stderr",
     "output_type": "stream",
     "text": [
      "C:\\Users\\prana\\PycharmProjects\\Intern\\.venv\\Lib\\site-packages\\keras\\src\\layers\\rnn\\rnn.py:199: UserWarning: Do not pass an `input_shape`/`input_dim` argument to a layer. When using Sequential models, prefer using an `Input(shape)` object as the first layer in the model instead.\n",
      "  super().__init__(**kwargs)\n"
     ]
    },
    {
     "name": "stdout",
     "output_type": "stream",
     "text": [
      "✅ Tried: steps=5, units1=64,units2=32,dropout2=0, dropout1=0, epochs=30, batch=16, R²=-1.9694\n"
     ]
    },
    {
     "name": "stderr",
     "output_type": "stream",
     "text": [
      "C:\\Users\\prana\\PycharmProjects\\Intern\\.venv\\Lib\\site-packages\\keras\\src\\layers\\rnn\\rnn.py:199: UserWarning: Do not pass an `input_shape`/`input_dim` argument to a layer. When using Sequential models, prefer using an `Input(shape)` object as the first layer in the model instead.\n",
      "  super().__init__(**kwargs)\n"
     ]
    },
    {
     "name": "stdout",
     "output_type": "stream",
     "text": [
      "✅ Tried: steps=5, units1=64,units2=32,dropout2=0, dropout1=0, epochs=30, batch=32, R²=-0.7753\n"
     ]
    },
    {
     "name": "stderr",
     "output_type": "stream",
     "text": [
      "C:\\Users\\prana\\PycharmProjects\\Intern\\.venv\\Lib\\site-packages\\keras\\src\\layers\\rnn\\rnn.py:199: UserWarning: Do not pass an `input_shape`/`input_dim` argument to a layer. When using Sequential models, prefer using an `Input(shape)` object as the first layer in the model instead.\n",
      "  super().__init__(**kwargs)\n"
     ]
    },
    {
     "name": "stdout",
     "output_type": "stream",
     "text": [
      "✅ Tried: steps=5, units1=64,units2=64,dropout2=0, dropout1=0, epochs=10, batch=16, R²=-1.8178\n"
     ]
    },
    {
     "name": "stderr",
     "output_type": "stream",
     "text": [
      "C:\\Users\\prana\\PycharmProjects\\Intern\\.venv\\Lib\\site-packages\\keras\\src\\layers\\rnn\\rnn.py:199: UserWarning: Do not pass an `input_shape`/`input_dim` argument to a layer. When using Sequential models, prefer using an `Input(shape)` object as the first layer in the model instead.\n",
      "  super().__init__(**kwargs)\n"
     ]
    },
    {
     "name": "stdout",
     "output_type": "stream",
     "text": [
      "✅ Tried: steps=5, units1=64,units2=64,dropout2=0, dropout1=0, epochs=10, batch=32, R²=-2.3944\n"
     ]
    },
    {
     "name": "stderr",
     "output_type": "stream",
     "text": [
      "C:\\Users\\prana\\PycharmProjects\\Intern\\.venv\\Lib\\site-packages\\keras\\src\\layers\\rnn\\rnn.py:199: UserWarning: Do not pass an `input_shape`/`input_dim` argument to a layer. When using Sequential models, prefer using an `Input(shape)` object as the first layer in the model instead.\n",
      "  super().__init__(**kwargs)\n"
     ]
    },
    {
     "name": "stdout",
     "output_type": "stream",
     "text": [
      "✅ Tried: steps=5, units1=64,units2=64,dropout2=0, dropout1=0, epochs=30, batch=16, R²=-1.3239\n"
     ]
    },
    {
     "name": "stderr",
     "output_type": "stream",
     "text": [
      "C:\\Users\\prana\\PycharmProjects\\Intern\\.venv\\Lib\\site-packages\\keras\\src\\layers\\rnn\\rnn.py:199: UserWarning: Do not pass an `input_shape`/`input_dim` argument to a layer. When using Sequential models, prefer using an `Input(shape)` object as the first layer in the model instead.\n",
      "  super().__init__(**kwargs)\n"
     ]
    },
    {
     "name": "stdout",
     "output_type": "stream",
     "text": [
      "✅ Tried: steps=5, units1=64,units2=64,dropout2=0, dropout1=0, epochs=30, batch=32, R²=-0.4636\n"
     ]
    },
    {
     "name": "stderr",
     "output_type": "stream",
     "text": [
      "C:\\Users\\prana\\PycharmProjects\\Intern\\.venv\\Lib\\site-packages\\keras\\src\\layers\\rnn\\rnn.py:199: UserWarning: Do not pass an `input_shape`/`input_dim` argument to a layer. When using Sequential models, prefer using an `Input(shape)` object as the first layer in the model instead.\n",
      "  super().__init__(**kwargs)\n"
     ]
    },
    {
     "name": "stdout",
     "output_type": "stream",
     "text": [
      "✅ Tried: steps=5, units1=128,units2=32,dropout2=0, dropout1=0, epochs=10, batch=16, R²=-9.9713\n"
     ]
    },
    {
     "name": "stderr",
     "output_type": "stream",
     "text": [
      "C:\\Users\\prana\\PycharmProjects\\Intern\\.venv\\Lib\\site-packages\\keras\\src\\layers\\rnn\\rnn.py:199: UserWarning: Do not pass an `input_shape`/`input_dim` argument to a layer. When using Sequential models, prefer using an `Input(shape)` object as the first layer in the model instead.\n",
      "  super().__init__(**kwargs)\n"
     ]
    },
    {
     "name": "stdout",
     "output_type": "stream",
     "text": [
      "✅ Tried: steps=5, units1=128,units2=32,dropout2=0, dropout1=0, epochs=10, batch=32, R²=-49.9341\n"
     ]
    },
    {
     "name": "stderr",
     "output_type": "stream",
     "text": [
      "C:\\Users\\prana\\PycharmProjects\\Intern\\.venv\\Lib\\site-packages\\keras\\src\\layers\\rnn\\rnn.py:199: UserWarning: Do not pass an `input_shape`/`input_dim` argument to a layer. When using Sequential models, prefer using an `Input(shape)` object as the first layer in the model instead.\n",
      "  super().__init__(**kwargs)\n"
     ]
    },
    {
     "name": "stdout",
     "output_type": "stream",
     "text": [
      "✅ Tried: steps=5, units1=128,units2=32,dropout2=0, dropout1=0, epochs=30, batch=16, R²=0.0073\n"
     ]
    },
    {
     "name": "stderr",
     "output_type": "stream",
     "text": [
      "C:\\Users\\prana\\PycharmProjects\\Intern\\.venv\\Lib\\site-packages\\keras\\src\\layers\\rnn\\rnn.py:199: UserWarning: Do not pass an `input_shape`/`input_dim` argument to a layer. When using Sequential models, prefer using an `Input(shape)` object as the first layer in the model instead.\n",
      "  super().__init__(**kwargs)\n"
     ]
    },
    {
     "name": "stdout",
     "output_type": "stream",
     "text": [
      "✅ Tried: steps=5, units1=128,units2=32,dropout2=0, dropout1=0, epochs=30, batch=32, R²=-54.9394\n"
     ]
    },
    {
     "name": "stderr",
     "output_type": "stream",
     "text": [
      "C:\\Users\\prana\\PycharmProjects\\Intern\\.venv\\Lib\\site-packages\\keras\\src\\layers\\rnn\\rnn.py:199: UserWarning: Do not pass an `input_shape`/`input_dim` argument to a layer. When using Sequential models, prefer using an `Input(shape)` object as the first layer in the model instead.\n",
      "  super().__init__(**kwargs)\n"
     ]
    },
    {
     "name": "stdout",
     "output_type": "stream",
     "text": [
      "✅ Tried: steps=5, units1=128,units2=64,dropout2=0, dropout1=0, epochs=10, batch=16, R²=-6.4936\n"
     ]
    },
    {
     "name": "stderr",
     "output_type": "stream",
     "text": [
      "C:\\Users\\prana\\PycharmProjects\\Intern\\.venv\\Lib\\site-packages\\keras\\src\\layers\\rnn\\rnn.py:199: UserWarning: Do not pass an `input_shape`/`input_dim` argument to a layer. When using Sequential models, prefer using an `Input(shape)` object as the first layer in the model instead.\n",
      "  super().__init__(**kwargs)\n"
     ]
    },
    {
     "name": "stdout",
     "output_type": "stream",
     "text": [
      "✅ Tried: steps=5, units1=128,units2=64,dropout2=0, dropout1=0, epochs=10, batch=32, R²=-45.0902\n"
     ]
    },
    {
     "name": "stderr",
     "output_type": "stream",
     "text": [
      "C:\\Users\\prana\\PycharmProjects\\Intern\\.venv\\Lib\\site-packages\\keras\\src\\layers\\rnn\\rnn.py:199: UserWarning: Do not pass an `input_shape`/`input_dim` argument to a layer. When using Sequential models, prefer using an `Input(shape)` object as the first layer in the model instead.\n",
      "  super().__init__(**kwargs)\n"
     ]
    },
    {
     "name": "stdout",
     "output_type": "stream",
     "text": [
      "✅ Tried: steps=5, units1=128,units2=64,dropout2=0, dropout1=0, epochs=30, batch=16, R²=-7.2294\n"
     ]
    },
    {
     "name": "stderr",
     "output_type": "stream",
     "text": [
      "C:\\Users\\prana\\PycharmProjects\\Intern\\.venv\\Lib\\site-packages\\keras\\src\\layers\\rnn\\rnn.py:199: UserWarning: Do not pass an `input_shape`/`input_dim` argument to a layer. When using Sequential models, prefer using an `Input(shape)` object as the first layer in the model instead.\n",
      "  super().__init__(**kwargs)\n"
     ]
    },
    {
     "name": "stdout",
     "output_type": "stream",
     "text": [
      "✅ Tried: steps=5, units1=128,units2=64,dropout2=0, dropout1=0, epochs=30, batch=32, R²=-48.3528\n"
     ]
    },
    {
     "name": "stderr",
     "output_type": "stream",
     "text": [
      "C:\\Users\\prana\\PycharmProjects\\Intern\\.venv\\Lib\\site-packages\\keras\\src\\layers\\rnn\\rnn.py:199: UserWarning: Do not pass an `input_shape`/`input_dim` argument to a layer. When using Sequential models, prefer using an `Input(shape)` object as the first layer in the model instead.\n",
      "  super().__init__(**kwargs)\n"
     ]
    },
    {
     "name": "stdout",
     "output_type": "stream",
     "text": [
      "✅ Tried: steps=30, units1=64,units2=32,dropout2=0, dropout1=0, epochs=10, batch=16, R²=0.0646\n"
     ]
    },
    {
     "name": "stderr",
     "output_type": "stream",
     "text": [
      "C:\\Users\\prana\\PycharmProjects\\Intern\\.venv\\Lib\\site-packages\\keras\\src\\layers\\rnn\\rnn.py:199: UserWarning: Do not pass an `input_shape`/`input_dim` argument to a layer. When using Sequential models, prefer using an `Input(shape)` object as the first layer in the model instead.\n",
      "  super().__init__(**kwargs)\n"
     ]
    },
    {
     "name": "stdout",
     "output_type": "stream",
     "text": [
      "✅ Tried: steps=30, units1=64,units2=32,dropout2=0, dropout1=0, epochs=10, batch=32, R²=0.2600\n"
     ]
    },
    {
     "name": "stderr",
     "output_type": "stream",
     "text": [
      "C:\\Users\\prana\\PycharmProjects\\Intern\\.venv\\Lib\\site-packages\\keras\\src\\layers\\rnn\\rnn.py:199: UserWarning: Do not pass an `input_shape`/`input_dim` argument to a layer. When using Sequential models, prefer using an `Input(shape)` object as the first layer in the model instead.\n",
      "  super().__init__(**kwargs)\n"
     ]
    },
    {
     "name": "stdout",
     "output_type": "stream",
     "text": [
      "✅ Tried: steps=30, units1=64,units2=32,dropout2=0, dropout1=0, epochs=30, batch=16, R²=-1.5084\n"
     ]
    },
    {
     "name": "stderr",
     "output_type": "stream",
     "text": [
      "C:\\Users\\prana\\PycharmProjects\\Intern\\.venv\\Lib\\site-packages\\keras\\src\\layers\\rnn\\rnn.py:199: UserWarning: Do not pass an `input_shape`/`input_dim` argument to a layer. When using Sequential models, prefer using an `Input(shape)` object as the first layer in the model instead.\n",
      "  super().__init__(**kwargs)\n"
     ]
    },
    {
     "name": "stdout",
     "output_type": "stream",
     "text": [
      "✅ Tried: steps=30, units1=64,units2=32,dropout2=0, dropout1=0, epochs=30, batch=32, R²=-2.2302\n"
     ]
    },
    {
     "name": "stderr",
     "output_type": "stream",
     "text": [
      "C:\\Users\\prana\\PycharmProjects\\Intern\\.venv\\Lib\\site-packages\\keras\\src\\layers\\rnn\\rnn.py:199: UserWarning: Do not pass an `input_shape`/`input_dim` argument to a layer. When using Sequential models, prefer using an `Input(shape)` object as the first layer in the model instead.\n",
      "  super().__init__(**kwargs)\n"
     ]
    },
    {
     "name": "stdout",
     "output_type": "stream",
     "text": [
      "✅ Tried: steps=30, units1=64,units2=64,dropout2=0, dropout1=0, epochs=10, batch=16, R²=-1.5286\n"
     ]
    },
    {
     "name": "stderr",
     "output_type": "stream",
     "text": [
      "C:\\Users\\prana\\PycharmProjects\\Intern\\.venv\\Lib\\site-packages\\keras\\src\\layers\\rnn\\rnn.py:199: UserWarning: Do not pass an `input_shape`/`input_dim` argument to a layer. When using Sequential models, prefer using an `Input(shape)` object as the first layer in the model instead.\n",
      "  super().__init__(**kwargs)\n"
     ]
    },
    {
     "name": "stdout",
     "output_type": "stream",
     "text": [
      "✅ Tried: steps=30, units1=64,units2=64,dropout2=0, dropout1=0, epochs=10, batch=32, R²=-1.9592\n"
     ]
    },
    {
     "name": "stderr",
     "output_type": "stream",
     "text": [
      "C:\\Users\\prana\\PycharmProjects\\Intern\\.venv\\Lib\\site-packages\\keras\\src\\layers\\rnn\\rnn.py:199: UserWarning: Do not pass an `input_shape`/`input_dim` argument to a layer. When using Sequential models, prefer using an `Input(shape)` object as the first layer in the model instead.\n",
      "  super().__init__(**kwargs)\n"
     ]
    },
    {
     "name": "stdout",
     "output_type": "stream",
     "text": [
      "✅ Tried: steps=30, units1=64,units2=64,dropout2=0, dropout1=0, epochs=30, batch=16, R²=-0.3116\n"
     ]
    },
    {
     "name": "stderr",
     "output_type": "stream",
     "text": [
      "C:\\Users\\prana\\PycharmProjects\\Intern\\.venv\\Lib\\site-packages\\keras\\src\\layers\\rnn\\rnn.py:199: UserWarning: Do not pass an `input_shape`/`input_dim` argument to a layer. When using Sequential models, prefer using an `Input(shape)` object as the first layer in the model instead.\n",
      "  super().__init__(**kwargs)\n"
     ]
    },
    {
     "name": "stdout",
     "output_type": "stream",
     "text": [
      "✅ Tried: steps=30, units1=64,units2=64,dropout2=0, dropout1=0, epochs=30, batch=32, R²=-0.4623\n"
     ]
    },
    {
     "name": "stderr",
     "output_type": "stream",
     "text": [
      "C:\\Users\\prana\\PycharmProjects\\Intern\\.venv\\Lib\\site-packages\\keras\\src\\layers\\rnn\\rnn.py:199: UserWarning: Do not pass an `input_shape`/`input_dim` argument to a layer. When using Sequential models, prefer using an `Input(shape)` object as the first layer in the model instead.\n",
      "  super().__init__(**kwargs)\n"
     ]
    },
    {
     "name": "stdout",
     "output_type": "stream",
     "text": [
      "✅ Tried: steps=30, units1=128,units2=32,dropout2=0, dropout1=0, epochs=10, batch=16, R²=-0.9314\n"
     ]
    },
    {
     "name": "stderr",
     "output_type": "stream",
     "text": [
      "C:\\Users\\prana\\PycharmProjects\\Intern\\.venv\\Lib\\site-packages\\keras\\src\\layers\\rnn\\rnn.py:199: UserWarning: Do not pass an `input_shape`/`input_dim` argument to a layer. When using Sequential models, prefer using an `Input(shape)` object as the first layer in the model instead.\n",
      "  super().__init__(**kwargs)\n"
     ]
    },
    {
     "name": "stdout",
     "output_type": "stream",
     "text": [
      "✅ Tried: steps=30, units1=128,units2=32,dropout2=0, dropout1=0, epochs=10, batch=32, R²=0.4029\n"
     ]
    },
    {
     "name": "stderr",
     "output_type": "stream",
     "text": [
      "C:\\Users\\prana\\PycharmProjects\\Intern\\.venv\\Lib\\site-packages\\keras\\src\\layers\\rnn\\rnn.py:199: UserWarning: Do not pass an `input_shape`/`input_dim` argument to a layer. When using Sequential models, prefer using an `Input(shape)` object as the first layer in the model instead.\n",
      "  super().__init__(**kwargs)\n"
     ]
    },
    {
     "name": "stdout",
     "output_type": "stream",
     "text": [
      "✅ Tried: steps=30, units1=128,units2=32,dropout2=0, dropout1=0, epochs=30, batch=16, R²=-0.3149\n"
     ]
    },
    {
     "name": "stderr",
     "output_type": "stream",
     "text": [
      "C:\\Users\\prana\\PycharmProjects\\Intern\\.venv\\Lib\\site-packages\\keras\\src\\layers\\rnn\\rnn.py:199: UserWarning: Do not pass an `input_shape`/`input_dim` argument to a layer. When using Sequential models, prefer using an `Input(shape)` object as the first layer in the model instead.\n",
      "  super().__init__(**kwargs)\n"
     ]
    },
    {
     "name": "stdout",
     "output_type": "stream",
     "text": [
      "✅ Tried: steps=30, units1=128,units2=32,dropout2=0, dropout1=0, epochs=30, batch=32, R²=0.4127\n"
     ]
    },
    {
     "name": "stderr",
     "output_type": "stream",
     "text": [
      "C:\\Users\\prana\\PycharmProjects\\Intern\\.venv\\Lib\\site-packages\\keras\\src\\layers\\rnn\\rnn.py:199: UserWarning: Do not pass an `input_shape`/`input_dim` argument to a layer. When using Sequential models, prefer using an `Input(shape)` object as the first layer in the model instead.\n",
      "  super().__init__(**kwargs)\n"
     ]
    },
    {
     "name": "stdout",
     "output_type": "stream",
     "text": [
      "✅ Tried: steps=30, units1=128,units2=64,dropout2=0, dropout1=0, epochs=10, batch=16, R²=-1.8668\n"
     ]
    },
    {
     "name": "stderr",
     "output_type": "stream",
     "text": [
      "C:\\Users\\prana\\PycharmProjects\\Intern\\.venv\\Lib\\site-packages\\keras\\src\\layers\\rnn\\rnn.py:199: UserWarning: Do not pass an `input_shape`/`input_dim` argument to a layer. When using Sequential models, prefer using an `Input(shape)` object as the first layer in the model instead.\n",
      "  super().__init__(**kwargs)\n"
     ]
    },
    {
     "name": "stdout",
     "output_type": "stream",
     "text": [
      "✅ Tried: steps=30, units1=128,units2=64,dropout2=0, dropout1=0, epochs=10, batch=32, R²=0.0890\n"
     ]
    },
    {
     "name": "stderr",
     "output_type": "stream",
     "text": [
      "C:\\Users\\prana\\PycharmProjects\\Intern\\.venv\\Lib\\site-packages\\keras\\src\\layers\\rnn\\rnn.py:199: UserWarning: Do not pass an `input_shape`/`input_dim` argument to a layer. When using Sequential models, prefer using an `Input(shape)` object as the first layer in the model instead.\n",
      "  super().__init__(**kwargs)\n"
     ]
    },
    {
     "name": "stdout",
     "output_type": "stream",
     "text": [
      "✅ Tried: steps=30, units1=128,units2=64,dropout2=0, dropout1=0, epochs=30, batch=16, R²=-0.0156\n"
     ]
    },
    {
     "name": "stderr",
     "output_type": "stream",
     "text": [
      "C:\\Users\\prana\\PycharmProjects\\Intern\\.venv\\Lib\\site-packages\\keras\\src\\layers\\rnn\\rnn.py:199: UserWarning: Do not pass an `input_shape`/`input_dim` argument to a layer. When using Sequential models, prefer using an `Input(shape)` object as the first layer in the model instead.\n",
      "  super().__init__(**kwargs)\n"
     ]
    },
    {
     "name": "stdout",
     "output_type": "stream",
     "text": [
      "✅ Tried: steps=30, units1=128,units2=64,dropout2=0, dropout1=0, epochs=30, batch=32, R²=-0.7466\n",
      "\n",
      "🏆 Best Configuration Found:\n",
      "time_steps     30.000000\n",
      "units1        128.000000\n",
      "units2         32.000000\n",
      "dropout1        0.000000\n",
      "dropout2        0.000000\n",
      "epochs         30.000000\n",
      "batch_size     32.000000\n",
      "r2_score        0.412714\n",
      "Name: 27, dtype: float64\n"
     ]
    }
   ],
   "execution_count": 7
  },
  {
   "metadata": {
    "ExecuteTime": {
     "end_time": "2025-07-17T11:21:51.599025Z",
     "start_time": "2025-07-17T10:48:00.484034Z"
    }
   },
   "cell_type": "code",
   "source": [
    "import os\n",
    "import random\n",
    "import tensorflow as tf\n",
    "import numpy as np\n",
    "import pandas as pd\n",
    "import yfinance as yf\n",
    "import matplotlib.pyplot as plt\n",
    "from sklearn.preprocessing import MinMaxScaler\n",
    "from sklearn.metrics import r2_score\n",
    "from tensorflow.keras.models import Sequential\n",
    "from tensorflow.keras.layers import LSTM, Dense, Dropout\n",
    "from tensorflow.keras.callbacks import EarlyStopping\n",
    "import tensorflow as tf\n",
    "\n",
    "seed = 42\n",
    "os.environ['PYTHONHASHSEED'] = str(seed)\n",
    "np.random.seed(seed)\n",
    "random.seed(seed)\n",
    "tf.random.set_seed(seed)\n",
    "tf.config.experimental.enable_op_determinism()\n",
    "# 1. Download AAPL 'Close' price\n",
    "data = yf.download(\"AAPL\", start=\"2015-01-01\", end=\"2025-01-30\")\n",
    "data = data[['Close']].dropna()\n",
    "\n",
    "# 2. Train-test split\n",
    "split_date = '2025-01-01'\n",
    "train_data = data.loc[:split_date]\n",
    "test_data = data.loc[split_date:]\n",
    "\n",
    "# 3. Normalize using MinMaxScaler\n",
    "scaler = MinMaxScaler()\n",
    "scaled_train = scaler.fit_transform(train_data)\n",
    "\n",
    "# 4. Create dataset\n",
    "def create_dataset(data, time_steps=30):\n",
    "    X, y = [], []\n",
    "    for i in range(time_steps, len(data)):\n",
    "        X.append(data[i - time_steps:i])\n",
    "        y.append(data[i, 0])\n",
    "    return np.array(X), np.array(y)\n",
    "\n",
    "# 5. Grid Search Parameters\n",
    "param_grid = {\n",
    "    'time_steps': [5,30],\n",
    "    'lstm_units1': [64, 128],\n",
    "    'lstm_units2': [32,64],\n",
    "    'dropout1': [0.2, 0.3],\n",
    "    'dropout2': [0.1, 0.2],\n",
    "    'epochs': [10, 30],\n",
    "    'batch_size': [16, 32]\n",
    "}\n",
    "\n",
    "results = []\n",
    "\n",
    "# 6. Grid Search Loop\n",
    "for time_steps in param_grid['time_steps']:\n",
    "    X_train, y_train = create_dataset(scaled_train, time_steps)\n",
    "\n",
    "    for units1 in param_grid['lstm_units1']:\n",
    "        for units2 in param_grid['lstm_units2']:\n",
    "            for drop1 in param_grid['dropout1']:\n",
    "                for drop2 in param_grid['dropout2']:\n",
    "                    for epochs in param_grid['epochs']:\n",
    "                        for batch_size in param_grid['batch_size']:\n",
    "\n",
    "                    # Build model\n",
    "                            model = Sequential()\n",
    "                            model.add(LSTM(units1, return_sequences=True, input_shape=(X_train.shape[1], X_train.shape[2])))\n",
    "                            model.add(Dropout(drop1))\n",
    "                            model.add(LSTM(units2))  # Second LSTM layer\n",
    "                            model.add(Dropout(drop2))\n",
    "                            model.add(Dense(1))\n",
    "                            model.compile(optimizer='adam', loss='mean_squared_error')\n",
    "\n",
    "\n",
    "                    # Callbacks\n",
    "                            early_stop = EarlyStopping(monitor='val_loss', patience=2, restore_best_weights=True)\n",
    "\n",
    "                    # Train model\n",
    "                            model.fit(X_train, y_train,\n",
    "                                    epochs=epochs,\n",
    "                                    batch_size=batch_size,\n",
    "                                    validation_split=0.2,\n",
    "                                    callbacks=[early_stop],\n",
    "                                    verbose=0)\n",
    "\n",
    "                    # Recursive Forecast: Predict next 18 steps\n",
    "                            input_seq = scaled_train[-time_steps:]\n",
    "                            predictions = []\n",
    "                            for _ in range(18):\n",
    "                                reshaped_input = input_seq.reshape(1, time_steps, 1)\n",
    "                                pred = model.predict(reshaped_input, verbose=0)[0][0]\n",
    "                                input_seq = np.append(input_seq[1:], [[pred]], axis=0)\n",
    "                                predictions.append(pred)\n",
    "\n",
    "                    # Rescale predictions\n",
    "                            predictions = np.array(predictions)\n",
    "                            pad = np.zeros((len(predictions), 1))\n",
    "                            pad[:, 0] = predictions\n",
    "                            forecasted_close = scaler.inverse_transform(pad)[:, 0]\n",
    "\n",
    "                    # R² Evaluation\n",
    "                            true_close = test_data['Close'][:len(forecasted_close)].values\n",
    "                            r2 = r2_score(true_close, forecasted_close)\n",
    "\n",
    "                            results.append({\n",
    "                                'time_steps': time_steps,\n",
    "                                'units1': units1,\n",
    "                                'units2': units2,\n",
    "                                'dropout1': drop1,\n",
    "                                'dropout2': drop2,\n",
    "                                'epochs': epochs,\n",
    "                                'batch_size': batch_size,\n",
    "                                'r2_score': r2\n",
    "                            })\n",
    "\n",
    "                            print(f\"✅ Tried: steps={time_steps}, units1={units1},units2={units2},dropout2={drop2}, dropout1={drop1}, \"\n",
    "                            f\"epochs={epochs}, batch={batch_size}, R²={r2:.4f}\")\n",
    "\n",
    "# 7. Best Result\n",
    "results_df = pd.DataFrame(results)\n",
    "best_config = results_df.sort_values(by='r2_score', ascending=False).iloc[0]\n",
    "\n",
    "print(\"\\n🏆 Best Configuration Found:\")\n",
    "print(best_config)\n"
   ],
   "id": "95b20efed31cf38e",
   "outputs": [
    {
     "name": "stderr",
     "output_type": "stream",
     "text": [
      "C:\\Users\\prana\\AppData\\Local\\Temp\\ipykernel_4940\\1526754250.py:22: FutureWarning: YF.download() has changed argument auto_adjust default to True\n",
      "  data = yf.download(\"AAPL\", start=\"2015-01-01\", end=\"2025-01-30\")\n",
      "[*********************100%***********************]  1 of 1 completed\n",
      "C:\\Users\\prana\\PycharmProjects\\Intern\\.venv\\Lib\\site-packages\\keras\\src\\layers\\rnn\\rnn.py:199: UserWarning: Do not pass an `input_shape`/`input_dim` argument to a layer. When using Sequential models, prefer using an `Input(shape)` object as the first layer in the model instead.\n",
      "  super().__init__(**kwargs)\n"
     ]
    },
    {
     "name": "stdout",
     "output_type": "stream",
     "text": [
      "✅ Tried: steps=5, units1=64,units2=32,dropout2=0.1, dropout1=0.2, epochs=10, batch=16, R²=-0.0162\n"
     ]
    },
    {
     "name": "stderr",
     "output_type": "stream",
     "text": [
      "C:\\Users\\prana\\PycharmProjects\\Intern\\.venv\\Lib\\site-packages\\keras\\src\\layers\\rnn\\rnn.py:199: UserWarning: Do not pass an `input_shape`/`input_dim` argument to a layer. When using Sequential models, prefer using an `Input(shape)` object as the first layer in the model instead.\n",
      "  super().__init__(**kwargs)\n"
     ]
    },
    {
     "name": "stdout",
     "output_type": "stream",
     "text": [
      "✅ Tried: steps=5, units1=64,units2=32,dropout2=0.1, dropout1=0.2, epochs=10, batch=32, R²=-4.0484\n"
     ]
    },
    {
     "name": "stderr",
     "output_type": "stream",
     "text": [
      "C:\\Users\\prana\\PycharmProjects\\Intern\\.venv\\Lib\\site-packages\\keras\\src\\layers\\rnn\\rnn.py:199: UserWarning: Do not pass an `input_shape`/`input_dim` argument to a layer. When using Sequential models, prefer using an `Input(shape)` object as the first layer in the model instead.\n",
      "  super().__init__(**kwargs)\n"
     ]
    },
    {
     "name": "stdout",
     "output_type": "stream",
     "text": [
      "✅ Tried: steps=5, units1=64,units2=32,dropout2=0.1, dropout1=0.2, epochs=30, batch=16, R²=-49.6129\n"
     ]
    },
    {
     "name": "stderr",
     "output_type": "stream",
     "text": [
      "C:\\Users\\prana\\PycharmProjects\\Intern\\.venv\\Lib\\site-packages\\keras\\src\\layers\\rnn\\rnn.py:199: UserWarning: Do not pass an `input_shape`/`input_dim` argument to a layer. When using Sequential models, prefer using an `Input(shape)` object as the first layer in the model instead.\n",
      "  super().__init__(**kwargs)\n"
     ]
    },
    {
     "name": "stdout",
     "output_type": "stream",
     "text": [
      "✅ Tried: steps=5, units1=64,units2=32,dropout2=0.1, dropout1=0.2, epochs=30, batch=32, R²=-0.5429\n"
     ]
    },
    {
     "name": "stderr",
     "output_type": "stream",
     "text": [
      "C:\\Users\\prana\\PycharmProjects\\Intern\\.venv\\Lib\\site-packages\\keras\\src\\layers\\rnn\\rnn.py:199: UserWarning: Do not pass an `input_shape`/`input_dim` argument to a layer. When using Sequential models, prefer using an `Input(shape)` object as the first layer in the model instead.\n",
      "  super().__init__(**kwargs)\n"
     ]
    },
    {
     "name": "stdout",
     "output_type": "stream",
     "text": [
      "✅ Tried: steps=5, units1=64,units2=32,dropout2=0.2, dropout1=0.2, epochs=10, batch=16, R²=-0.5191\n"
     ]
    },
    {
     "name": "stderr",
     "output_type": "stream",
     "text": [
      "C:\\Users\\prana\\PycharmProjects\\Intern\\.venv\\Lib\\site-packages\\keras\\src\\layers\\rnn\\rnn.py:199: UserWarning: Do not pass an `input_shape`/`input_dim` argument to a layer. When using Sequential models, prefer using an `Input(shape)` object as the first layer in the model instead.\n",
      "  super().__init__(**kwargs)\n"
     ]
    },
    {
     "name": "stdout",
     "output_type": "stream",
     "text": [
      "✅ Tried: steps=5, units1=64,units2=32,dropout2=0.2, dropout1=0.2, epochs=10, batch=32, R²=-116.1973\n"
     ]
    },
    {
     "name": "stderr",
     "output_type": "stream",
     "text": [
      "C:\\Users\\prana\\PycharmProjects\\Intern\\.venv\\Lib\\site-packages\\keras\\src\\layers\\rnn\\rnn.py:199: UserWarning: Do not pass an `input_shape`/`input_dim` argument to a layer. When using Sequential models, prefer using an `Input(shape)` object as the first layer in the model instead.\n",
      "  super().__init__(**kwargs)\n"
     ]
    },
    {
     "name": "stdout",
     "output_type": "stream",
     "text": [
      "✅ Tried: steps=5, units1=64,units2=32,dropout2=0.2, dropout1=0.2, epochs=30, batch=16, R²=-12.8943\n"
     ]
    },
    {
     "name": "stderr",
     "output_type": "stream",
     "text": [
      "C:\\Users\\prana\\PycharmProjects\\Intern\\.venv\\Lib\\site-packages\\keras\\src\\layers\\rnn\\rnn.py:199: UserWarning: Do not pass an `input_shape`/`input_dim` argument to a layer. When using Sequential models, prefer using an `Input(shape)` object as the first layer in the model instead.\n",
      "  super().__init__(**kwargs)\n"
     ]
    },
    {
     "name": "stdout",
     "output_type": "stream",
     "text": [
      "✅ Tried: steps=5, units1=64,units2=32,dropout2=0.2, dropout1=0.2, epochs=30, batch=32, R²=-12.8553\n"
     ]
    },
    {
     "name": "stderr",
     "output_type": "stream",
     "text": [
      "C:\\Users\\prana\\PycharmProjects\\Intern\\.venv\\Lib\\site-packages\\keras\\src\\layers\\rnn\\rnn.py:199: UserWarning: Do not pass an `input_shape`/`input_dim` argument to a layer. When using Sequential models, prefer using an `Input(shape)` object as the first layer in the model instead.\n",
      "  super().__init__(**kwargs)\n"
     ]
    },
    {
     "name": "stdout",
     "output_type": "stream",
     "text": [
      "✅ Tried: steps=5, units1=64,units2=32,dropout2=0.1, dropout1=0.3, epochs=10, batch=16, R²=-2.5685\n"
     ]
    },
    {
     "name": "stderr",
     "output_type": "stream",
     "text": [
      "C:\\Users\\prana\\PycharmProjects\\Intern\\.venv\\Lib\\site-packages\\keras\\src\\layers\\rnn\\rnn.py:199: UserWarning: Do not pass an `input_shape`/`input_dim` argument to a layer. When using Sequential models, prefer using an `Input(shape)` object as the first layer in the model instead.\n",
      "  super().__init__(**kwargs)\n"
     ]
    },
    {
     "name": "stdout",
     "output_type": "stream",
     "text": [
      "✅ Tried: steps=5, units1=64,units2=32,dropout2=0.1, dropout1=0.3, epochs=10, batch=32, R²=-1.4533\n"
     ]
    },
    {
     "name": "stderr",
     "output_type": "stream",
     "text": [
      "C:\\Users\\prana\\PycharmProjects\\Intern\\.venv\\Lib\\site-packages\\keras\\src\\layers\\rnn\\rnn.py:199: UserWarning: Do not pass an `input_shape`/`input_dim` argument to a layer. When using Sequential models, prefer using an `Input(shape)` object as the first layer in the model instead.\n",
      "  super().__init__(**kwargs)\n"
     ]
    },
    {
     "name": "stdout",
     "output_type": "stream",
     "text": [
      "✅ Tried: steps=5, units1=64,units2=32,dropout2=0.1, dropout1=0.3, epochs=30, batch=16, R²=-4.0722\n"
     ]
    },
    {
     "name": "stderr",
     "output_type": "stream",
     "text": [
      "C:\\Users\\prana\\PycharmProjects\\Intern\\.venv\\Lib\\site-packages\\keras\\src\\layers\\rnn\\rnn.py:199: UserWarning: Do not pass an `input_shape`/`input_dim` argument to a layer. When using Sequential models, prefer using an `Input(shape)` object as the first layer in the model instead.\n",
      "  super().__init__(**kwargs)\n"
     ]
    },
    {
     "name": "stdout",
     "output_type": "stream",
     "text": [
      "✅ Tried: steps=5, units1=64,units2=32,dropout2=0.1, dropout1=0.3, epochs=30, batch=32, R²=-88.5942\n"
     ]
    },
    {
     "name": "stderr",
     "output_type": "stream",
     "text": [
      "C:\\Users\\prana\\PycharmProjects\\Intern\\.venv\\Lib\\site-packages\\keras\\src\\layers\\rnn\\rnn.py:199: UserWarning: Do not pass an `input_shape`/`input_dim` argument to a layer. When using Sequential models, prefer using an `Input(shape)` object as the first layer in the model instead.\n",
      "  super().__init__(**kwargs)\n"
     ]
    },
    {
     "name": "stdout",
     "output_type": "stream",
     "text": [
      "✅ Tried: steps=5, units1=64,units2=32,dropout2=0.2, dropout1=0.3, epochs=10, batch=16, R²=-2.6919\n"
     ]
    },
    {
     "name": "stderr",
     "output_type": "stream",
     "text": [
      "C:\\Users\\prana\\PycharmProjects\\Intern\\.venv\\Lib\\site-packages\\keras\\src\\layers\\rnn\\rnn.py:199: UserWarning: Do not pass an `input_shape`/`input_dim` argument to a layer. When using Sequential models, prefer using an `Input(shape)` object as the first layer in the model instead.\n",
      "  super().__init__(**kwargs)\n"
     ]
    },
    {
     "name": "stdout",
     "output_type": "stream",
     "text": [
      "✅ Tried: steps=5, units1=64,units2=32,dropout2=0.2, dropout1=0.3, epochs=10, batch=32, R²=-5.0520\n"
     ]
    },
    {
     "name": "stderr",
     "output_type": "stream",
     "text": [
      "C:\\Users\\prana\\PycharmProjects\\Intern\\.venv\\Lib\\site-packages\\keras\\src\\layers\\rnn\\rnn.py:199: UserWarning: Do not pass an `input_shape`/`input_dim` argument to a layer. When using Sequential models, prefer using an `Input(shape)` object as the first layer in the model instead.\n",
      "  super().__init__(**kwargs)\n"
     ]
    },
    {
     "name": "stdout",
     "output_type": "stream",
     "text": [
      "✅ Tried: steps=5, units1=64,units2=32,dropout2=0.2, dropout1=0.3, epochs=30, batch=16, R²=-15.3110\n"
     ]
    },
    {
     "name": "stderr",
     "output_type": "stream",
     "text": [
      "C:\\Users\\prana\\PycharmProjects\\Intern\\.venv\\Lib\\site-packages\\keras\\src\\layers\\rnn\\rnn.py:199: UserWarning: Do not pass an `input_shape`/`input_dim` argument to a layer. When using Sequential models, prefer using an `Input(shape)` object as the first layer in the model instead.\n",
      "  super().__init__(**kwargs)\n"
     ]
    },
    {
     "name": "stdout",
     "output_type": "stream",
     "text": [
      "✅ Tried: steps=5, units1=64,units2=32,dropout2=0.2, dropout1=0.3, epochs=30, batch=32, R²=-6.9108\n"
     ]
    },
    {
     "name": "stderr",
     "output_type": "stream",
     "text": [
      "C:\\Users\\prana\\PycharmProjects\\Intern\\.venv\\Lib\\site-packages\\keras\\src\\layers\\rnn\\rnn.py:199: UserWarning: Do not pass an `input_shape`/`input_dim` argument to a layer. When using Sequential models, prefer using an `Input(shape)` object as the first layer in the model instead.\n",
      "  super().__init__(**kwargs)\n"
     ]
    },
    {
     "name": "stdout",
     "output_type": "stream",
     "text": [
      "✅ Tried: steps=5, units1=64,units2=64,dropout2=0.1, dropout1=0.2, epochs=10, batch=16, R²=-11.1535\n"
     ]
    },
    {
     "name": "stderr",
     "output_type": "stream",
     "text": [
      "C:\\Users\\prana\\PycharmProjects\\Intern\\.venv\\Lib\\site-packages\\keras\\src\\layers\\rnn\\rnn.py:199: UserWarning: Do not pass an `input_shape`/`input_dim` argument to a layer. When using Sequential models, prefer using an `Input(shape)` object as the first layer in the model instead.\n",
      "  super().__init__(**kwargs)\n"
     ]
    },
    {
     "name": "stdout",
     "output_type": "stream",
     "text": [
      "✅ Tried: steps=5, units1=64,units2=64,dropout2=0.1, dropout1=0.2, epochs=10, batch=32, R²=-62.0973\n"
     ]
    },
    {
     "name": "stderr",
     "output_type": "stream",
     "text": [
      "C:\\Users\\prana\\PycharmProjects\\Intern\\.venv\\Lib\\site-packages\\keras\\src\\layers\\rnn\\rnn.py:199: UserWarning: Do not pass an `input_shape`/`input_dim` argument to a layer. When using Sequential models, prefer using an `Input(shape)` object as the first layer in the model instead.\n",
      "  super().__init__(**kwargs)\n"
     ]
    },
    {
     "name": "stdout",
     "output_type": "stream",
     "text": [
      "✅ Tried: steps=5, units1=64,units2=64,dropout2=0.1, dropout1=0.2, epochs=30, batch=16, R²=-15.2867\n"
     ]
    },
    {
     "name": "stderr",
     "output_type": "stream",
     "text": [
      "C:\\Users\\prana\\PycharmProjects\\Intern\\.venv\\Lib\\site-packages\\keras\\src\\layers\\rnn\\rnn.py:199: UserWarning: Do not pass an `input_shape`/`input_dim` argument to a layer. When using Sequential models, prefer using an `Input(shape)` object as the first layer in the model instead.\n",
      "  super().__init__(**kwargs)\n"
     ]
    },
    {
     "name": "stdout",
     "output_type": "stream",
     "text": [
      "✅ Tried: steps=5, units1=64,units2=64,dropout2=0.1, dropout1=0.2, epochs=30, batch=32, R²=-14.1161\n"
     ]
    },
    {
     "name": "stderr",
     "output_type": "stream",
     "text": [
      "C:\\Users\\prana\\PycharmProjects\\Intern\\.venv\\Lib\\site-packages\\keras\\src\\layers\\rnn\\rnn.py:199: UserWarning: Do not pass an `input_shape`/`input_dim` argument to a layer. When using Sequential models, prefer using an `Input(shape)` object as the first layer in the model instead.\n",
      "  super().__init__(**kwargs)\n"
     ]
    },
    {
     "name": "stdout",
     "output_type": "stream",
     "text": [
      "✅ Tried: steps=5, units1=64,units2=64,dropout2=0.2, dropout1=0.2, epochs=10, batch=16, R²=-0.2225\n"
     ]
    },
    {
     "name": "stderr",
     "output_type": "stream",
     "text": [
      "C:\\Users\\prana\\PycharmProjects\\Intern\\.venv\\Lib\\site-packages\\keras\\src\\layers\\rnn\\rnn.py:199: UserWarning: Do not pass an `input_shape`/`input_dim` argument to a layer. When using Sequential models, prefer using an `Input(shape)` object as the first layer in the model instead.\n",
      "  super().__init__(**kwargs)\n"
     ]
    },
    {
     "name": "stdout",
     "output_type": "stream",
     "text": [
      "✅ Tried: steps=5, units1=64,units2=64,dropout2=0.2, dropout1=0.2, epochs=10, batch=32, R²=-21.6738\n"
     ]
    },
    {
     "name": "stderr",
     "output_type": "stream",
     "text": [
      "C:\\Users\\prana\\PycharmProjects\\Intern\\.venv\\Lib\\site-packages\\keras\\src\\layers\\rnn\\rnn.py:199: UserWarning: Do not pass an `input_shape`/`input_dim` argument to a layer. When using Sequential models, prefer using an `Input(shape)` object as the first layer in the model instead.\n",
      "  super().__init__(**kwargs)\n"
     ]
    },
    {
     "name": "stdout",
     "output_type": "stream",
     "text": [
      "✅ Tried: steps=5, units1=64,units2=64,dropout2=0.2, dropout1=0.2, epochs=30, batch=16, R²=-25.6940\n"
     ]
    },
    {
     "name": "stderr",
     "output_type": "stream",
     "text": [
      "C:\\Users\\prana\\PycharmProjects\\Intern\\.venv\\Lib\\site-packages\\keras\\src\\layers\\rnn\\rnn.py:199: UserWarning: Do not pass an `input_shape`/`input_dim` argument to a layer. When using Sequential models, prefer using an `Input(shape)` object as the first layer in the model instead.\n",
      "  super().__init__(**kwargs)\n"
     ]
    },
    {
     "name": "stdout",
     "output_type": "stream",
     "text": [
      "✅ Tried: steps=5, units1=64,units2=64,dropout2=0.2, dropout1=0.2, epochs=30, batch=32, R²=-63.9850\n"
     ]
    },
    {
     "name": "stderr",
     "output_type": "stream",
     "text": [
      "C:\\Users\\prana\\PycharmProjects\\Intern\\.venv\\Lib\\site-packages\\keras\\src\\layers\\rnn\\rnn.py:199: UserWarning: Do not pass an `input_shape`/`input_dim` argument to a layer. When using Sequential models, prefer using an `Input(shape)` object as the first layer in the model instead.\n",
      "  super().__init__(**kwargs)\n"
     ]
    },
    {
     "name": "stdout",
     "output_type": "stream",
     "text": [
      "✅ Tried: steps=5, units1=64,units2=64,dropout2=0.1, dropout1=0.3, epochs=10, batch=16, R²=-28.1249\n"
     ]
    },
    {
     "name": "stderr",
     "output_type": "stream",
     "text": [
      "C:\\Users\\prana\\PycharmProjects\\Intern\\.venv\\Lib\\site-packages\\keras\\src\\layers\\rnn\\rnn.py:199: UserWarning: Do not pass an `input_shape`/`input_dim` argument to a layer. When using Sequential models, prefer using an `Input(shape)` object as the first layer in the model instead.\n",
      "  super().__init__(**kwargs)\n"
     ]
    },
    {
     "name": "stdout",
     "output_type": "stream",
     "text": [
      "✅ Tried: steps=5, units1=64,units2=64,dropout2=0.1, dropout1=0.3, epochs=10, batch=32, R²=-2.3632\n"
     ]
    },
    {
     "name": "stderr",
     "output_type": "stream",
     "text": [
      "C:\\Users\\prana\\PycharmProjects\\Intern\\.venv\\Lib\\site-packages\\keras\\src\\layers\\rnn\\rnn.py:199: UserWarning: Do not pass an `input_shape`/`input_dim` argument to a layer. When using Sequential models, prefer using an `Input(shape)` object as the first layer in the model instead.\n",
      "  super().__init__(**kwargs)\n"
     ]
    },
    {
     "name": "stdout",
     "output_type": "stream",
     "text": [
      "✅ Tried: steps=5, units1=64,units2=64,dropout2=0.1, dropout1=0.3, epochs=30, batch=16, R²=-23.4726\n"
     ]
    },
    {
     "name": "stderr",
     "output_type": "stream",
     "text": [
      "C:\\Users\\prana\\PycharmProjects\\Intern\\.venv\\Lib\\site-packages\\keras\\src\\layers\\rnn\\rnn.py:199: UserWarning: Do not pass an `input_shape`/`input_dim` argument to a layer. When using Sequential models, prefer using an `Input(shape)` object as the first layer in the model instead.\n",
      "  super().__init__(**kwargs)\n"
     ]
    },
    {
     "name": "stdout",
     "output_type": "stream",
     "text": [
      "✅ Tried: steps=5, units1=64,units2=64,dropout2=0.1, dropout1=0.3, epochs=30, batch=32, R²=-20.3057\n"
     ]
    },
    {
     "name": "stderr",
     "output_type": "stream",
     "text": [
      "C:\\Users\\prana\\PycharmProjects\\Intern\\.venv\\Lib\\site-packages\\keras\\src\\layers\\rnn\\rnn.py:199: UserWarning: Do not pass an `input_shape`/`input_dim` argument to a layer. When using Sequential models, prefer using an `Input(shape)` object as the first layer in the model instead.\n",
      "  super().__init__(**kwargs)\n"
     ]
    },
    {
     "name": "stdout",
     "output_type": "stream",
     "text": [
      "✅ Tried: steps=5, units1=64,units2=64,dropout2=0.2, dropout1=0.3, epochs=10, batch=16, R²=-1.8376\n"
     ]
    },
    {
     "name": "stderr",
     "output_type": "stream",
     "text": [
      "C:\\Users\\prana\\PycharmProjects\\Intern\\.venv\\Lib\\site-packages\\keras\\src\\layers\\rnn\\rnn.py:199: UserWarning: Do not pass an `input_shape`/`input_dim` argument to a layer. When using Sequential models, prefer using an `Input(shape)` object as the first layer in the model instead.\n",
      "  super().__init__(**kwargs)\n"
     ]
    },
    {
     "name": "stdout",
     "output_type": "stream",
     "text": [
      "✅ Tried: steps=5, units1=64,units2=64,dropout2=0.2, dropout1=0.3, epochs=10, batch=32, R²=0.3059\n"
     ]
    },
    {
     "name": "stderr",
     "output_type": "stream",
     "text": [
      "C:\\Users\\prana\\PycharmProjects\\Intern\\.venv\\Lib\\site-packages\\keras\\src\\layers\\rnn\\rnn.py:199: UserWarning: Do not pass an `input_shape`/`input_dim` argument to a layer. When using Sequential models, prefer using an `Input(shape)` object as the first layer in the model instead.\n",
      "  super().__init__(**kwargs)\n"
     ]
    },
    {
     "name": "stdout",
     "output_type": "stream",
     "text": [
      "✅ Tried: steps=5, units1=64,units2=64,dropout2=0.2, dropout1=0.3, epochs=30, batch=16, R²=-24.0074\n"
     ]
    },
    {
     "name": "stderr",
     "output_type": "stream",
     "text": [
      "C:\\Users\\prana\\PycharmProjects\\Intern\\.venv\\Lib\\site-packages\\keras\\src\\layers\\rnn\\rnn.py:199: UserWarning: Do not pass an `input_shape`/`input_dim` argument to a layer. When using Sequential models, prefer using an `Input(shape)` object as the first layer in the model instead.\n",
      "  super().__init__(**kwargs)\n"
     ]
    },
    {
     "name": "stdout",
     "output_type": "stream",
     "text": [
      "✅ Tried: steps=5, units1=64,units2=64,dropout2=0.2, dropout1=0.3, epochs=30, batch=32, R²=-17.8608\n"
     ]
    },
    {
     "name": "stderr",
     "output_type": "stream",
     "text": [
      "C:\\Users\\prana\\PycharmProjects\\Intern\\.venv\\Lib\\site-packages\\keras\\src\\layers\\rnn\\rnn.py:199: UserWarning: Do not pass an `input_shape`/`input_dim` argument to a layer. When using Sequential models, prefer using an `Input(shape)` object as the first layer in the model instead.\n",
      "  super().__init__(**kwargs)\n"
     ]
    },
    {
     "name": "stdout",
     "output_type": "stream",
     "text": [
      "✅ Tried: steps=5, units1=128,units2=32,dropout2=0.1, dropout1=0.2, epochs=10, batch=16, R²=-1.3602\n"
     ]
    },
    {
     "name": "stderr",
     "output_type": "stream",
     "text": [
      "C:\\Users\\prana\\PycharmProjects\\Intern\\.venv\\Lib\\site-packages\\keras\\src\\layers\\rnn\\rnn.py:199: UserWarning: Do not pass an `input_shape`/`input_dim` argument to a layer. When using Sequential models, prefer using an `Input(shape)` object as the first layer in the model instead.\n",
      "  super().__init__(**kwargs)\n"
     ]
    },
    {
     "name": "stdout",
     "output_type": "stream",
     "text": [
      "✅ Tried: steps=5, units1=128,units2=32,dropout2=0.1, dropout1=0.2, epochs=10, batch=32, R²=-27.2628\n"
     ]
    },
    {
     "name": "stderr",
     "output_type": "stream",
     "text": [
      "C:\\Users\\prana\\PycharmProjects\\Intern\\.venv\\Lib\\site-packages\\keras\\src\\layers\\rnn\\rnn.py:199: UserWarning: Do not pass an `input_shape`/`input_dim` argument to a layer. When using Sequential models, prefer using an `Input(shape)` object as the first layer in the model instead.\n",
      "  super().__init__(**kwargs)\n"
     ]
    },
    {
     "name": "stdout",
     "output_type": "stream",
     "text": [
      "✅ Tried: steps=5, units1=128,units2=32,dropout2=0.1, dropout1=0.2, epochs=30, batch=16, R²=-0.8947\n"
     ]
    },
    {
     "name": "stderr",
     "output_type": "stream",
     "text": [
      "C:\\Users\\prana\\PycharmProjects\\Intern\\.venv\\Lib\\site-packages\\keras\\src\\layers\\rnn\\rnn.py:199: UserWarning: Do not pass an `input_shape`/`input_dim` argument to a layer. When using Sequential models, prefer using an `Input(shape)` object as the first layer in the model instead.\n",
      "  super().__init__(**kwargs)\n"
     ]
    },
    {
     "name": "stdout",
     "output_type": "stream",
     "text": [
      "✅ Tried: steps=5, units1=128,units2=32,dropout2=0.1, dropout1=0.2, epochs=30, batch=32, R²=-11.1947\n"
     ]
    },
    {
     "name": "stderr",
     "output_type": "stream",
     "text": [
      "C:\\Users\\prana\\PycharmProjects\\Intern\\.venv\\Lib\\site-packages\\keras\\src\\layers\\rnn\\rnn.py:199: UserWarning: Do not pass an `input_shape`/`input_dim` argument to a layer. When using Sequential models, prefer using an `Input(shape)` object as the first layer in the model instead.\n",
      "  super().__init__(**kwargs)\n"
     ]
    },
    {
     "name": "stdout",
     "output_type": "stream",
     "text": [
      "✅ Tried: steps=5, units1=128,units2=32,dropout2=0.2, dropout1=0.2, epochs=10, batch=16, R²=-30.7248\n"
     ]
    },
    {
     "name": "stderr",
     "output_type": "stream",
     "text": [
      "C:\\Users\\prana\\PycharmProjects\\Intern\\.venv\\Lib\\site-packages\\keras\\src\\layers\\rnn\\rnn.py:199: UserWarning: Do not pass an `input_shape`/`input_dim` argument to a layer. When using Sequential models, prefer using an `Input(shape)` object as the first layer in the model instead.\n",
      "  super().__init__(**kwargs)\n"
     ]
    },
    {
     "name": "stdout",
     "output_type": "stream",
     "text": [
      "✅ Tried: steps=5, units1=128,units2=32,dropout2=0.2, dropout1=0.2, epochs=10, batch=32, R²=-13.0554\n"
     ]
    },
    {
     "name": "stderr",
     "output_type": "stream",
     "text": [
      "C:\\Users\\prana\\PycharmProjects\\Intern\\.venv\\Lib\\site-packages\\keras\\src\\layers\\rnn\\rnn.py:199: UserWarning: Do not pass an `input_shape`/`input_dim` argument to a layer. When using Sequential models, prefer using an `Input(shape)` object as the first layer in the model instead.\n",
      "  super().__init__(**kwargs)\n"
     ]
    },
    {
     "name": "stdout",
     "output_type": "stream",
     "text": [
      "✅ Tried: steps=5, units1=128,units2=32,dropout2=0.2, dropout1=0.2, epochs=30, batch=16, R²=-0.8931\n"
     ]
    },
    {
     "name": "stderr",
     "output_type": "stream",
     "text": [
      "C:\\Users\\prana\\PycharmProjects\\Intern\\.venv\\Lib\\site-packages\\keras\\src\\layers\\rnn\\rnn.py:199: UserWarning: Do not pass an `input_shape`/`input_dim` argument to a layer. When using Sequential models, prefer using an `Input(shape)` object as the first layer in the model instead.\n",
      "  super().__init__(**kwargs)\n"
     ]
    },
    {
     "name": "stdout",
     "output_type": "stream",
     "text": [
      "✅ Tried: steps=5, units1=128,units2=32,dropout2=0.2, dropout1=0.2, epochs=30, batch=32, R²=-14.0495\n"
     ]
    },
    {
     "name": "stderr",
     "output_type": "stream",
     "text": [
      "C:\\Users\\prana\\PycharmProjects\\Intern\\.venv\\Lib\\site-packages\\keras\\src\\layers\\rnn\\rnn.py:199: UserWarning: Do not pass an `input_shape`/`input_dim` argument to a layer. When using Sequential models, prefer using an `Input(shape)` object as the first layer in the model instead.\n",
      "  super().__init__(**kwargs)\n"
     ]
    },
    {
     "name": "stdout",
     "output_type": "stream",
     "text": [
      "✅ Tried: steps=5, units1=128,units2=32,dropout2=0.1, dropout1=0.3, epochs=10, batch=16, R²=-24.1305\n"
     ]
    },
    {
     "name": "stderr",
     "output_type": "stream",
     "text": [
      "C:\\Users\\prana\\PycharmProjects\\Intern\\.venv\\Lib\\site-packages\\keras\\src\\layers\\rnn\\rnn.py:199: UserWarning: Do not pass an `input_shape`/`input_dim` argument to a layer. When using Sequential models, prefer using an `Input(shape)` object as the first layer in the model instead.\n",
      "  super().__init__(**kwargs)\n"
     ]
    },
    {
     "name": "stdout",
     "output_type": "stream",
     "text": [
      "✅ Tried: steps=5, units1=128,units2=32,dropout2=0.1, dropout1=0.3, epochs=10, batch=32, R²=-5.1343\n"
     ]
    },
    {
     "name": "stderr",
     "output_type": "stream",
     "text": [
      "C:\\Users\\prana\\PycharmProjects\\Intern\\.venv\\Lib\\site-packages\\keras\\src\\layers\\rnn\\rnn.py:199: UserWarning: Do not pass an `input_shape`/`input_dim` argument to a layer. When using Sequential models, prefer using an `Input(shape)` object as the first layer in the model instead.\n",
      "  super().__init__(**kwargs)\n"
     ]
    },
    {
     "name": "stdout",
     "output_type": "stream",
     "text": [
      "✅ Tried: steps=5, units1=128,units2=32,dropout2=0.1, dropout1=0.3, epochs=30, batch=16, R²=-26.0567\n"
     ]
    },
    {
     "name": "stderr",
     "output_type": "stream",
     "text": [
      "C:\\Users\\prana\\PycharmProjects\\Intern\\.venv\\Lib\\site-packages\\keras\\src\\layers\\rnn\\rnn.py:199: UserWarning: Do not pass an `input_shape`/`input_dim` argument to a layer. When using Sequential models, prefer using an `Input(shape)` object as the first layer in the model instead.\n",
      "  super().__init__(**kwargs)\n"
     ]
    },
    {
     "name": "stdout",
     "output_type": "stream",
     "text": [
      "✅ Tried: steps=5, units1=128,units2=32,dropout2=0.1, dropout1=0.3, epochs=30, batch=32, R²=-1.5393\n"
     ]
    },
    {
     "name": "stderr",
     "output_type": "stream",
     "text": [
      "C:\\Users\\prana\\PycharmProjects\\Intern\\.venv\\Lib\\site-packages\\keras\\src\\layers\\rnn\\rnn.py:199: UserWarning: Do not pass an `input_shape`/`input_dim` argument to a layer. When using Sequential models, prefer using an `Input(shape)` object as the first layer in the model instead.\n",
      "  super().__init__(**kwargs)\n"
     ]
    },
    {
     "name": "stdout",
     "output_type": "stream",
     "text": [
      "✅ Tried: steps=5, units1=128,units2=32,dropout2=0.2, dropout1=0.3, epochs=10, batch=16, R²=-1.9712\n"
     ]
    },
    {
     "name": "stderr",
     "output_type": "stream",
     "text": [
      "C:\\Users\\prana\\PycharmProjects\\Intern\\.venv\\Lib\\site-packages\\keras\\src\\layers\\rnn\\rnn.py:199: UserWarning: Do not pass an `input_shape`/`input_dim` argument to a layer. When using Sequential models, prefer using an `Input(shape)` object as the first layer in the model instead.\n",
      "  super().__init__(**kwargs)\n"
     ]
    },
    {
     "name": "stdout",
     "output_type": "stream",
     "text": [
      "✅ Tried: steps=5, units1=128,units2=32,dropout2=0.2, dropout1=0.3, epochs=10, batch=32, R²=-12.5810\n"
     ]
    },
    {
     "name": "stderr",
     "output_type": "stream",
     "text": [
      "C:\\Users\\prana\\PycharmProjects\\Intern\\.venv\\Lib\\site-packages\\keras\\src\\layers\\rnn\\rnn.py:199: UserWarning: Do not pass an `input_shape`/`input_dim` argument to a layer. When using Sequential models, prefer using an `Input(shape)` object as the first layer in the model instead.\n",
      "  super().__init__(**kwargs)\n"
     ]
    },
    {
     "name": "stdout",
     "output_type": "stream",
     "text": [
      "✅ Tried: steps=5, units1=128,units2=32,dropout2=0.2, dropout1=0.3, epochs=30, batch=16, R²=-0.8468\n"
     ]
    },
    {
     "name": "stderr",
     "output_type": "stream",
     "text": [
      "C:\\Users\\prana\\PycharmProjects\\Intern\\.venv\\Lib\\site-packages\\keras\\src\\layers\\rnn\\rnn.py:199: UserWarning: Do not pass an `input_shape`/`input_dim` argument to a layer. When using Sequential models, prefer using an `Input(shape)` object as the first layer in the model instead.\n",
      "  super().__init__(**kwargs)\n"
     ]
    },
    {
     "name": "stdout",
     "output_type": "stream",
     "text": [
      "✅ Tried: steps=5, units1=128,units2=32,dropout2=0.2, dropout1=0.3, epochs=30, batch=32, R²=-29.1756\n"
     ]
    },
    {
     "name": "stderr",
     "output_type": "stream",
     "text": [
      "C:\\Users\\prana\\PycharmProjects\\Intern\\.venv\\Lib\\site-packages\\keras\\src\\layers\\rnn\\rnn.py:199: UserWarning: Do not pass an `input_shape`/`input_dim` argument to a layer. When using Sequential models, prefer using an `Input(shape)` object as the first layer in the model instead.\n",
      "  super().__init__(**kwargs)\n"
     ]
    },
    {
     "name": "stdout",
     "output_type": "stream",
     "text": [
      "✅ Tried: steps=5, units1=128,units2=64,dropout2=0.1, dropout1=0.2, epochs=10, batch=16, R²=-2.9504\n"
     ]
    },
    {
     "name": "stderr",
     "output_type": "stream",
     "text": [
      "C:\\Users\\prana\\PycharmProjects\\Intern\\.venv\\Lib\\site-packages\\keras\\src\\layers\\rnn\\rnn.py:199: UserWarning: Do not pass an `input_shape`/`input_dim` argument to a layer. When using Sequential models, prefer using an `Input(shape)` object as the first layer in the model instead.\n",
      "  super().__init__(**kwargs)\n"
     ]
    },
    {
     "name": "stdout",
     "output_type": "stream",
     "text": [
      "✅ Tried: steps=5, units1=128,units2=64,dropout2=0.1, dropout1=0.2, epochs=10, batch=32, R²=-27.3290\n"
     ]
    },
    {
     "name": "stderr",
     "output_type": "stream",
     "text": [
      "C:\\Users\\prana\\PycharmProjects\\Intern\\.venv\\Lib\\site-packages\\keras\\src\\layers\\rnn\\rnn.py:199: UserWarning: Do not pass an `input_shape`/`input_dim` argument to a layer. When using Sequential models, prefer using an `Input(shape)` object as the first layer in the model instead.\n",
      "  super().__init__(**kwargs)\n"
     ]
    },
    {
     "name": "stdout",
     "output_type": "stream",
     "text": [
      "✅ Tried: steps=5, units1=128,units2=64,dropout2=0.1, dropout1=0.2, epochs=30, batch=16, R²=-20.5133\n"
     ]
    },
    {
     "name": "stderr",
     "output_type": "stream",
     "text": [
      "C:\\Users\\prana\\PycharmProjects\\Intern\\.venv\\Lib\\site-packages\\keras\\src\\layers\\rnn\\rnn.py:199: UserWarning: Do not pass an `input_shape`/`input_dim` argument to a layer. When using Sequential models, prefer using an `Input(shape)` object as the first layer in the model instead.\n",
      "  super().__init__(**kwargs)\n"
     ]
    },
    {
     "name": "stdout",
     "output_type": "stream",
     "text": [
      "✅ Tried: steps=5, units1=128,units2=64,dropout2=0.1, dropout1=0.2, epochs=30, batch=32, R²=-20.2176\n"
     ]
    },
    {
     "name": "stderr",
     "output_type": "stream",
     "text": [
      "C:\\Users\\prana\\PycharmProjects\\Intern\\.venv\\Lib\\site-packages\\keras\\src\\layers\\rnn\\rnn.py:199: UserWarning: Do not pass an `input_shape`/`input_dim` argument to a layer. When using Sequential models, prefer using an `Input(shape)` object as the first layer in the model instead.\n",
      "  super().__init__(**kwargs)\n"
     ]
    },
    {
     "name": "stdout",
     "output_type": "stream",
     "text": [
      "✅ Tried: steps=5, units1=128,units2=64,dropout2=0.2, dropout1=0.2, epochs=10, batch=16, R²=-70.6901\n"
     ]
    },
    {
     "name": "stderr",
     "output_type": "stream",
     "text": [
      "C:\\Users\\prana\\PycharmProjects\\Intern\\.venv\\Lib\\site-packages\\keras\\src\\layers\\rnn\\rnn.py:199: UserWarning: Do not pass an `input_shape`/`input_dim` argument to a layer. When using Sequential models, prefer using an `Input(shape)` object as the first layer in the model instead.\n",
      "  super().__init__(**kwargs)\n"
     ]
    },
    {
     "name": "stdout",
     "output_type": "stream",
     "text": [
      "✅ Tried: steps=5, units1=128,units2=64,dropout2=0.2, dropout1=0.2, epochs=10, batch=32, R²=-29.4537\n"
     ]
    },
    {
     "name": "stderr",
     "output_type": "stream",
     "text": [
      "C:\\Users\\prana\\PycharmProjects\\Intern\\.venv\\Lib\\site-packages\\keras\\src\\layers\\rnn\\rnn.py:199: UserWarning: Do not pass an `input_shape`/`input_dim` argument to a layer. When using Sequential models, prefer using an `Input(shape)` object as the first layer in the model instead.\n",
      "  super().__init__(**kwargs)\n"
     ]
    },
    {
     "name": "stdout",
     "output_type": "stream",
     "text": [
      "✅ Tried: steps=5, units1=128,units2=64,dropout2=0.2, dropout1=0.2, epochs=30, batch=16, R²=-0.1253\n"
     ]
    },
    {
     "name": "stderr",
     "output_type": "stream",
     "text": [
      "C:\\Users\\prana\\PycharmProjects\\Intern\\.venv\\Lib\\site-packages\\keras\\src\\layers\\rnn\\rnn.py:199: UserWarning: Do not pass an `input_shape`/`input_dim` argument to a layer. When using Sequential models, prefer using an `Input(shape)` object as the first layer in the model instead.\n",
      "  super().__init__(**kwargs)\n"
     ]
    },
    {
     "name": "stdout",
     "output_type": "stream",
     "text": [
      "✅ Tried: steps=5, units1=128,units2=64,dropout2=0.2, dropout1=0.2, epochs=30, batch=32, R²=-6.1285\n"
     ]
    },
    {
     "name": "stderr",
     "output_type": "stream",
     "text": [
      "C:\\Users\\prana\\PycharmProjects\\Intern\\.venv\\Lib\\site-packages\\keras\\src\\layers\\rnn\\rnn.py:199: UserWarning: Do not pass an `input_shape`/`input_dim` argument to a layer. When using Sequential models, prefer using an `Input(shape)` object as the first layer in the model instead.\n",
      "  super().__init__(**kwargs)\n"
     ]
    },
    {
     "name": "stdout",
     "output_type": "stream",
     "text": [
      "✅ Tried: steps=5, units1=128,units2=64,dropout2=0.1, dropout1=0.3, epochs=10, batch=16, R²=-6.1513\n"
     ]
    },
    {
     "name": "stderr",
     "output_type": "stream",
     "text": [
      "C:\\Users\\prana\\PycharmProjects\\Intern\\.venv\\Lib\\site-packages\\keras\\src\\layers\\rnn\\rnn.py:199: UserWarning: Do not pass an `input_shape`/`input_dim` argument to a layer. When using Sequential models, prefer using an `Input(shape)` object as the first layer in the model instead.\n",
      "  super().__init__(**kwargs)\n"
     ]
    },
    {
     "name": "stdout",
     "output_type": "stream",
     "text": [
      "✅ Tried: steps=5, units1=128,units2=64,dropout2=0.1, dropout1=0.3, epochs=10, batch=32, R²=-63.4310\n"
     ]
    },
    {
     "name": "stderr",
     "output_type": "stream",
     "text": [
      "C:\\Users\\prana\\PycharmProjects\\Intern\\.venv\\Lib\\site-packages\\keras\\src\\layers\\rnn\\rnn.py:199: UserWarning: Do not pass an `input_shape`/`input_dim` argument to a layer. When using Sequential models, prefer using an `Input(shape)` object as the first layer in the model instead.\n",
      "  super().__init__(**kwargs)\n"
     ]
    },
    {
     "name": "stdout",
     "output_type": "stream",
     "text": [
      "✅ Tried: steps=5, units1=128,units2=64,dropout2=0.1, dropout1=0.3, epochs=30, batch=16, R²=-10.5688\n"
     ]
    },
    {
     "name": "stderr",
     "output_type": "stream",
     "text": [
      "C:\\Users\\prana\\PycharmProjects\\Intern\\.venv\\Lib\\site-packages\\keras\\src\\layers\\rnn\\rnn.py:199: UserWarning: Do not pass an `input_shape`/`input_dim` argument to a layer. When using Sequential models, prefer using an `Input(shape)` object as the first layer in the model instead.\n",
      "  super().__init__(**kwargs)\n"
     ]
    },
    {
     "name": "stdout",
     "output_type": "stream",
     "text": [
      "✅ Tried: steps=5, units1=128,units2=64,dropout2=0.1, dropout1=0.3, epochs=30, batch=32, R²=-13.4270\n"
     ]
    },
    {
     "name": "stderr",
     "output_type": "stream",
     "text": [
      "C:\\Users\\prana\\PycharmProjects\\Intern\\.venv\\Lib\\site-packages\\keras\\src\\layers\\rnn\\rnn.py:199: UserWarning: Do not pass an `input_shape`/`input_dim` argument to a layer. When using Sequential models, prefer using an `Input(shape)` object as the first layer in the model instead.\n",
      "  super().__init__(**kwargs)\n"
     ]
    },
    {
     "name": "stdout",
     "output_type": "stream",
     "text": [
      "✅ Tried: steps=5, units1=128,units2=64,dropout2=0.2, dropout1=0.3, epochs=10, batch=16, R²=-2.1927\n"
     ]
    },
    {
     "name": "stderr",
     "output_type": "stream",
     "text": [
      "C:\\Users\\prana\\PycharmProjects\\Intern\\.venv\\Lib\\site-packages\\keras\\src\\layers\\rnn\\rnn.py:199: UserWarning: Do not pass an `input_shape`/`input_dim` argument to a layer. When using Sequential models, prefer using an `Input(shape)` object as the first layer in the model instead.\n",
      "  super().__init__(**kwargs)\n"
     ]
    },
    {
     "name": "stdout",
     "output_type": "stream",
     "text": [
      "✅ Tried: steps=5, units1=128,units2=64,dropout2=0.2, dropout1=0.3, epochs=10, batch=32, R²=-20.1750\n"
     ]
    },
    {
     "name": "stderr",
     "output_type": "stream",
     "text": [
      "C:\\Users\\prana\\PycharmProjects\\Intern\\.venv\\Lib\\site-packages\\keras\\src\\layers\\rnn\\rnn.py:199: UserWarning: Do not pass an `input_shape`/`input_dim` argument to a layer. When using Sequential models, prefer using an `Input(shape)` object as the first layer in the model instead.\n",
      "  super().__init__(**kwargs)\n"
     ]
    },
    {
     "name": "stdout",
     "output_type": "stream",
     "text": [
      "✅ Tried: steps=5, units1=128,units2=64,dropout2=0.2, dropout1=0.3, epochs=30, batch=16, R²=-2.6323\n"
     ]
    },
    {
     "name": "stderr",
     "output_type": "stream",
     "text": [
      "C:\\Users\\prana\\PycharmProjects\\Intern\\.venv\\Lib\\site-packages\\keras\\src\\layers\\rnn\\rnn.py:199: UserWarning: Do not pass an `input_shape`/`input_dim` argument to a layer. When using Sequential models, prefer using an `Input(shape)` object as the first layer in the model instead.\n",
      "  super().__init__(**kwargs)\n"
     ]
    },
    {
     "name": "stdout",
     "output_type": "stream",
     "text": [
      "✅ Tried: steps=5, units1=128,units2=64,dropout2=0.2, dropout1=0.3, epochs=30, batch=32, R²=-6.6351\n"
     ]
    },
    {
     "name": "stderr",
     "output_type": "stream",
     "text": [
      "C:\\Users\\prana\\PycharmProjects\\Intern\\.venv\\Lib\\site-packages\\keras\\src\\layers\\rnn\\rnn.py:199: UserWarning: Do not pass an `input_shape`/`input_dim` argument to a layer. When using Sequential models, prefer using an `Input(shape)` object as the first layer in the model instead.\n",
      "  super().__init__(**kwargs)\n"
     ]
    },
    {
     "name": "stdout",
     "output_type": "stream",
     "text": [
      "✅ Tried: steps=30, units1=64,units2=32,dropout2=0.1, dropout1=0.2, epochs=10, batch=16, R²=-1.0446\n"
     ]
    },
    {
     "name": "stderr",
     "output_type": "stream",
     "text": [
      "C:\\Users\\prana\\PycharmProjects\\Intern\\.venv\\Lib\\site-packages\\keras\\src\\layers\\rnn\\rnn.py:199: UserWarning: Do not pass an `input_shape`/`input_dim` argument to a layer. When using Sequential models, prefer using an `Input(shape)` object as the first layer in the model instead.\n",
      "  super().__init__(**kwargs)\n"
     ]
    },
    {
     "name": "stdout",
     "output_type": "stream",
     "text": [
      "✅ Tried: steps=30, units1=64,units2=32,dropout2=0.1, dropout1=0.2, epochs=10, batch=32, R²=-1.1030\n"
     ]
    },
    {
     "name": "stderr",
     "output_type": "stream",
     "text": [
      "C:\\Users\\prana\\PycharmProjects\\Intern\\.venv\\Lib\\site-packages\\keras\\src\\layers\\rnn\\rnn.py:199: UserWarning: Do not pass an `input_shape`/`input_dim` argument to a layer. When using Sequential models, prefer using an `Input(shape)` object as the first layer in the model instead.\n",
      "  super().__init__(**kwargs)\n"
     ]
    },
    {
     "name": "stdout",
     "output_type": "stream",
     "text": [
      "✅ Tried: steps=30, units1=64,units2=32,dropout2=0.1, dropout1=0.2, epochs=30, batch=16, R²=0.2262\n"
     ]
    },
    {
     "name": "stderr",
     "output_type": "stream",
     "text": [
      "C:\\Users\\prana\\PycharmProjects\\Intern\\.venv\\Lib\\site-packages\\keras\\src\\layers\\rnn\\rnn.py:199: UserWarning: Do not pass an `input_shape`/`input_dim` argument to a layer. When using Sequential models, prefer using an `Input(shape)` object as the first layer in the model instead.\n",
      "  super().__init__(**kwargs)\n"
     ]
    },
    {
     "name": "stdout",
     "output_type": "stream",
     "text": [
      "✅ Tried: steps=30, units1=64,units2=32,dropout2=0.1, dropout1=0.2, epochs=30, batch=32, R²=-7.4147\n"
     ]
    },
    {
     "name": "stderr",
     "output_type": "stream",
     "text": [
      "C:\\Users\\prana\\PycharmProjects\\Intern\\.venv\\Lib\\site-packages\\keras\\src\\layers\\rnn\\rnn.py:199: UserWarning: Do not pass an `input_shape`/`input_dim` argument to a layer. When using Sequential models, prefer using an `Input(shape)` object as the first layer in the model instead.\n",
      "  super().__init__(**kwargs)\n"
     ]
    },
    {
     "name": "stdout",
     "output_type": "stream",
     "text": [
      "✅ Tried: steps=30, units1=64,units2=32,dropout2=0.2, dropout1=0.2, epochs=10, batch=16, R²=-3.5187\n"
     ]
    },
    {
     "name": "stderr",
     "output_type": "stream",
     "text": [
      "C:\\Users\\prana\\PycharmProjects\\Intern\\.venv\\Lib\\site-packages\\keras\\src\\layers\\rnn\\rnn.py:199: UserWarning: Do not pass an `input_shape`/`input_dim` argument to a layer. When using Sequential models, prefer using an `Input(shape)` object as the first layer in the model instead.\n",
      "  super().__init__(**kwargs)\n"
     ]
    },
    {
     "name": "stdout",
     "output_type": "stream",
     "text": [
      "✅ Tried: steps=30, units1=64,units2=32,dropout2=0.2, dropout1=0.2, epochs=10, batch=32, R²=-1.7384\n"
     ]
    },
    {
     "name": "stderr",
     "output_type": "stream",
     "text": [
      "C:\\Users\\prana\\PycharmProjects\\Intern\\.venv\\Lib\\site-packages\\keras\\src\\layers\\rnn\\rnn.py:199: UserWarning: Do not pass an `input_shape`/`input_dim` argument to a layer. When using Sequential models, prefer using an `Input(shape)` object as the first layer in the model instead.\n",
      "  super().__init__(**kwargs)\n"
     ]
    },
    {
     "name": "stdout",
     "output_type": "stream",
     "text": [
      "✅ Tried: steps=30, units1=64,units2=32,dropout2=0.2, dropout1=0.2, epochs=30, batch=16, R²=-0.2950\n"
     ]
    },
    {
     "name": "stderr",
     "output_type": "stream",
     "text": [
      "C:\\Users\\prana\\PycharmProjects\\Intern\\.venv\\Lib\\site-packages\\keras\\src\\layers\\rnn\\rnn.py:199: UserWarning: Do not pass an `input_shape`/`input_dim` argument to a layer. When using Sequential models, prefer using an `Input(shape)` object as the first layer in the model instead.\n",
      "  super().__init__(**kwargs)\n"
     ]
    },
    {
     "name": "stdout",
     "output_type": "stream",
     "text": [
      "✅ Tried: steps=30, units1=64,units2=32,dropout2=0.2, dropout1=0.2, epochs=30, batch=32, R²=-5.1364\n"
     ]
    },
    {
     "name": "stderr",
     "output_type": "stream",
     "text": [
      "C:\\Users\\prana\\PycharmProjects\\Intern\\.venv\\Lib\\site-packages\\keras\\src\\layers\\rnn\\rnn.py:199: UserWarning: Do not pass an `input_shape`/`input_dim` argument to a layer. When using Sequential models, prefer using an `Input(shape)` object as the first layer in the model instead.\n",
      "  super().__init__(**kwargs)\n"
     ]
    },
    {
     "name": "stdout",
     "output_type": "stream",
     "text": [
      "✅ Tried: steps=30, units1=64,units2=32,dropout2=0.1, dropout1=0.3, epochs=10, batch=16, R²=-2.2284\n"
     ]
    },
    {
     "name": "stderr",
     "output_type": "stream",
     "text": [
      "C:\\Users\\prana\\PycharmProjects\\Intern\\.venv\\Lib\\site-packages\\keras\\src\\layers\\rnn\\rnn.py:199: UserWarning: Do not pass an `input_shape`/`input_dim` argument to a layer. When using Sequential models, prefer using an `Input(shape)` object as the first layer in the model instead.\n",
      "  super().__init__(**kwargs)\n"
     ]
    },
    {
     "name": "stdout",
     "output_type": "stream",
     "text": [
      "✅ Tried: steps=30, units1=64,units2=32,dropout2=0.1, dropout1=0.3, epochs=10, batch=32, R²=-0.3565\n"
     ]
    },
    {
     "name": "stderr",
     "output_type": "stream",
     "text": [
      "C:\\Users\\prana\\PycharmProjects\\Intern\\.venv\\Lib\\site-packages\\keras\\src\\layers\\rnn\\rnn.py:199: UserWarning: Do not pass an `input_shape`/`input_dim` argument to a layer. When using Sequential models, prefer using an `Input(shape)` object as the first layer in the model instead.\n",
      "  super().__init__(**kwargs)\n"
     ]
    },
    {
     "name": "stdout",
     "output_type": "stream",
     "text": [
      "✅ Tried: steps=30, units1=64,units2=32,dropout2=0.1, dropout1=0.3, epochs=30, batch=16, R²=0.3265\n"
     ]
    },
    {
     "name": "stderr",
     "output_type": "stream",
     "text": [
      "C:\\Users\\prana\\PycharmProjects\\Intern\\.venv\\Lib\\site-packages\\keras\\src\\layers\\rnn\\rnn.py:199: UserWarning: Do not pass an `input_shape`/`input_dim` argument to a layer. When using Sequential models, prefer using an `Input(shape)` object as the first layer in the model instead.\n",
      "  super().__init__(**kwargs)\n"
     ]
    },
    {
     "name": "stdout",
     "output_type": "stream",
     "text": [
      "✅ Tried: steps=30, units1=64,units2=32,dropout2=0.1, dropout1=0.3, epochs=30, batch=32, R²=-0.6749\n"
     ]
    },
    {
     "name": "stderr",
     "output_type": "stream",
     "text": [
      "C:\\Users\\prana\\PycharmProjects\\Intern\\.venv\\Lib\\site-packages\\keras\\src\\layers\\rnn\\rnn.py:199: UserWarning: Do not pass an `input_shape`/`input_dim` argument to a layer. When using Sequential models, prefer using an `Input(shape)` object as the first layer in the model instead.\n",
      "  super().__init__(**kwargs)\n"
     ]
    },
    {
     "name": "stdout",
     "output_type": "stream",
     "text": [
      "✅ Tried: steps=30, units1=64,units2=32,dropout2=0.2, dropout1=0.3, epochs=10, batch=16, R²=0.3560\n"
     ]
    },
    {
     "name": "stderr",
     "output_type": "stream",
     "text": [
      "C:\\Users\\prana\\PycharmProjects\\Intern\\.venv\\Lib\\site-packages\\keras\\src\\layers\\rnn\\rnn.py:199: UserWarning: Do not pass an `input_shape`/`input_dim` argument to a layer. When using Sequential models, prefer using an `Input(shape)` object as the first layer in the model instead.\n",
      "  super().__init__(**kwargs)\n"
     ]
    },
    {
     "name": "stdout",
     "output_type": "stream",
     "text": [
      "✅ Tried: steps=30, units1=64,units2=32,dropout2=0.2, dropout1=0.3, epochs=10, batch=32, R²=0.2828\n"
     ]
    },
    {
     "name": "stderr",
     "output_type": "stream",
     "text": [
      "C:\\Users\\prana\\PycharmProjects\\Intern\\.venv\\Lib\\site-packages\\keras\\src\\layers\\rnn\\rnn.py:199: UserWarning: Do not pass an `input_shape`/`input_dim` argument to a layer. When using Sequential models, prefer using an `Input(shape)` object as the first layer in the model instead.\n",
      "  super().__init__(**kwargs)\n"
     ]
    },
    {
     "name": "stdout",
     "output_type": "stream",
     "text": [
      "✅ Tried: steps=30, units1=64,units2=32,dropout2=0.2, dropout1=0.3, epochs=30, batch=16, R²=-0.1230\n"
     ]
    },
    {
     "name": "stderr",
     "output_type": "stream",
     "text": [
      "C:\\Users\\prana\\PycharmProjects\\Intern\\.venv\\Lib\\site-packages\\keras\\src\\layers\\rnn\\rnn.py:199: UserWarning: Do not pass an `input_shape`/`input_dim` argument to a layer. When using Sequential models, prefer using an `Input(shape)` object as the first layer in the model instead.\n",
      "  super().__init__(**kwargs)\n"
     ]
    },
    {
     "name": "stdout",
     "output_type": "stream",
     "text": [
      "✅ Tried: steps=30, units1=64,units2=32,dropout2=0.2, dropout1=0.3, epochs=30, batch=32, R²=-1.1438\n"
     ]
    },
    {
     "name": "stderr",
     "output_type": "stream",
     "text": [
      "C:\\Users\\prana\\PycharmProjects\\Intern\\.venv\\Lib\\site-packages\\keras\\src\\layers\\rnn\\rnn.py:199: UserWarning: Do not pass an `input_shape`/`input_dim` argument to a layer. When using Sequential models, prefer using an `Input(shape)` object as the first layer in the model instead.\n",
      "  super().__init__(**kwargs)\n"
     ]
    },
    {
     "name": "stdout",
     "output_type": "stream",
     "text": [
      "✅ Tried: steps=30, units1=64,units2=64,dropout2=0.1, dropout1=0.2, epochs=10, batch=16, R²=0.3446\n"
     ]
    },
    {
     "name": "stderr",
     "output_type": "stream",
     "text": [
      "C:\\Users\\prana\\PycharmProjects\\Intern\\.venv\\Lib\\site-packages\\keras\\src\\layers\\rnn\\rnn.py:199: UserWarning: Do not pass an `input_shape`/`input_dim` argument to a layer. When using Sequential models, prefer using an `Input(shape)` object as the first layer in the model instead.\n",
      "  super().__init__(**kwargs)\n"
     ]
    },
    {
     "name": "stdout",
     "output_type": "stream",
     "text": [
      "✅ Tried: steps=30, units1=64,units2=64,dropout2=0.1, dropout1=0.2, epochs=10, batch=32, R²=-2.7670\n"
     ]
    },
    {
     "name": "stderr",
     "output_type": "stream",
     "text": [
      "C:\\Users\\prana\\PycharmProjects\\Intern\\.venv\\Lib\\site-packages\\keras\\src\\layers\\rnn\\rnn.py:199: UserWarning: Do not pass an `input_shape`/`input_dim` argument to a layer. When using Sequential models, prefer using an `Input(shape)` object as the first layer in the model instead.\n",
      "  super().__init__(**kwargs)\n"
     ]
    },
    {
     "name": "stdout",
     "output_type": "stream",
     "text": [
      "✅ Tried: steps=30, units1=64,units2=64,dropout2=0.1, dropout1=0.2, epochs=30, batch=16, R²=-0.8842\n"
     ]
    },
    {
     "name": "stderr",
     "output_type": "stream",
     "text": [
      "C:\\Users\\prana\\PycharmProjects\\Intern\\.venv\\Lib\\site-packages\\keras\\src\\layers\\rnn\\rnn.py:199: UserWarning: Do not pass an `input_shape`/`input_dim` argument to a layer. When using Sequential models, prefer using an `Input(shape)` object as the first layer in the model instead.\n",
      "  super().__init__(**kwargs)\n"
     ]
    },
    {
     "name": "stdout",
     "output_type": "stream",
     "text": [
      "✅ Tried: steps=30, units1=64,units2=64,dropout2=0.1, dropout1=0.2, epochs=30, batch=32, R²=-0.2744\n"
     ]
    },
    {
     "name": "stderr",
     "output_type": "stream",
     "text": [
      "C:\\Users\\prana\\PycharmProjects\\Intern\\.venv\\Lib\\site-packages\\keras\\src\\layers\\rnn\\rnn.py:199: UserWarning: Do not pass an `input_shape`/`input_dim` argument to a layer. When using Sequential models, prefer using an `Input(shape)` object as the first layer in the model instead.\n",
      "  super().__init__(**kwargs)\n"
     ]
    },
    {
     "name": "stdout",
     "output_type": "stream",
     "text": [
      "✅ Tried: steps=30, units1=64,units2=64,dropout2=0.2, dropout1=0.2, epochs=10, batch=16, R²=0.0470\n"
     ]
    },
    {
     "name": "stderr",
     "output_type": "stream",
     "text": [
      "C:\\Users\\prana\\PycharmProjects\\Intern\\.venv\\Lib\\site-packages\\keras\\src\\layers\\rnn\\rnn.py:199: UserWarning: Do not pass an `input_shape`/`input_dim` argument to a layer. When using Sequential models, prefer using an `Input(shape)` object as the first layer in the model instead.\n",
      "  super().__init__(**kwargs)\n"
     ]
    },
    {
     "name": "stdout",
     "output_type": "stream",
     "text": [
      "✅ Tried: steps=30, units1=64,units2=64,dropout2=0.2, dropout1=0.2, epochs=10, batch=32, R²=-3.5618\n"
     ]
    },
    {
     "name": "stderr",
     "output_type": "stream",
     "text": [
      "C:\\Users\\prana\\PycharmProjects\\Intern\\.venv\\Lib\\site-packages\\keras\\src\\layers\\rnn\\rnn.py:199: UserWarning: Do not pass an `input_shape`/`input_dim` argument to a layer. When using Sequential models, prefer using an `Input(shape)` object as the first layer in the model instead.\n",
      "  super().__init__(**kwargs)\n"
     ]
    },
    {
     "name": "stdout",
     "output_type": "stream",
     "text": [
      "✅ Tried: steps=30, units1=64,units2=64,dropout2=0.2, dropout1=0.2, epochs=30, batch=16, R²=0.1710\n"
     ]
    },
    {
     "name": "stderr",
     "output_type": "stream",
     "text": [
      "C:\\Users\\prana\\PycharmProjects\\Intern\\.venv\\Lib\\site-packages\\keras\\src\\layers\\rnn\\rnn.py:199: UserWarning: Do not pass an `input_shape`/`input_dim` argument to a layer. When using Sequential models, prefer using an `Input(shape)` object as the first layer in the model instead.\n",
      "  super().__init__(**kwargs)\n"
     ]
    },
    {
     "name": "stdout",
     "output_type": "stream",
     "text": [
      "✅ Tried: steps=30, units1=64,units2=64,dropout2=0.2, dropout1=0.2, epochs=30, batch=32, R²=-0.2712\n"
     ]
    },
    {
     "name": "stderr",
     "output_type": "stream",
     "text": [
      "C:\\Users\\prana\\PycharmProjects\\Intern\\.venv\\Lib\\site-packages\\keras\\src\\layers\\rnn\\rnn.py:199: UserWarning: Do not pass an `input_shape`/`input_dim` argument to a layer. When using Sequential models, prefer using an `Input(shape)` object as the first layer in the model instead.\n",
      "  super().__init__(**kwargs)\n"
     ]
    },
    {
     "name": "stdout",
     "output_type": "stream",
     "text": [
      "✅ Tried: steps=30, units1=64,units2=64,dropout2=0.1, dropout1=0.3, epochs=10, batch=16, R²=-2.2980\n"
     ]
    },
    {
     "name": "stderr",
     "output_type": "stream",
     "text": [
      "C:\\Users\\prana\\PycharmProjects\\Intern\\.venv\\Lib\\site-packages\\keras\\src\\layers\\rnn\\rnn.py:199: UserWarning: Do not pass an `input_shape`/`input_dim` argument to a layer. When using Sequential models, prefer using an `Input(shape)` object as the first layer in the model instead.\n",
      "  super().__init__(**kwargs)\n"
     ]
    },
    {
     "name": "stdout",
     "output_type": "stream",
     "text": [
      "✅ Tried: steps=30, units1=64,units2=64,dropout2=0.1, dropout1=0.3, epochs=10, batch=32, R²=-2.9412\n"
     ]
    },
    {
     "name": "stderr",
     "output_type": "stream",
     "text": [
      "C:\\Users\\prana\\PycharmProjects\\Intern\\.venv\\Lib\\site-packages\\keras\\src\\layers\\rnn\\rnn.py:199: UserWarning: Do not pass an `input_shape`/`input_dim` argument to a layer. When using Sequential models, prefer using an `Input(shape)` object as the first layer in the model instead.\n",
      "  super().__init__(**kwargs)\n"
     ]
    },
    {
     "name": "stdout",
     "output_type": "stream",
     "text": [
      "✅ Tried: steps=30, units1=64,units2=64,dropout2=0.1, dropout1=0.3, epochs=30, batch=16, R²=-0.1353\n"
     ]
    },
    {
     "name": "stderr",
     "output_type": "stream",
     "text": [
      "C:\\Users\\prana\\PycharmProjects\\Intern\\.venv\\Lib\\site-packages\\keras\\src\\layers\\rnn\\rnn.py:199: UserWarning: Do not pass an `input_shape`/`input_dim` argument to a layer. When using Sequential models, prefer using an `Input(shape)` object as the first layer in the model instead.\n",
      "  super().__init__(**kwargs)\n"
     ]
    },
    {
     "name": "stdout",
     "output_type": "stream",
     "text": [
      "✅ Tried: steps=30, units1=64,units2=64,dropout2=0.1, dropout1=0.3, epochs=30, batch=32, R²=-0.7417\n"
     ]
    },
    {
     "name": "stderr",
     "output_type": "stream",
     "text": [
      "C:\\Users\\prana\\PycharmProjects\\Intern\\.venv\\Lib\\site-packages\\keras\\src\\layers\\rnn\\rnn.py:199: UserWarning: Do not pass an `input_shape`/`input_dim` argument to a layer. When using Sequential models, prefer using an `Input(shape)` object as the first layer in the model instead.\n",
      "  super().__init__(**kwargs)\n"
     ]
    },
    {
     "name": "stdout",
     "output_type": "stream",
     "text": [
      "✅ Tried: steps=30, units1=64,units2=64,dropout2=0.2, dropout1=0.3, epochs=10, batch=16, R²=-0.3392\n"
     ]
    },
    {
     "name": "stderr",
     "output_type": "stream",
     "text": [
      "C:\\Users\\prana\\PycharmProjects\\Intern\\.venv\\Lib\\site-packages\\keras\\src\\layers\\rnn\\rnn.py:199: UserWarning: Do not pass an `input_shape`/`input_dim` argument to a layer. When using Sequential models, prefer using an `Input(shape)` object as the first layer in the model instead.\n",
      "  super().__init__(**kwargs)\n"
     ]
    },
    {
     "name": "stdout",
     "output_type": "stream",
     "text": [
      "✅ Tried: steps=30, units1=64,units2=64,dropout2=0.2, dropout1=0.3, epochs=10, batch=32, R²=-4.7633\n"
     ]
    },
    {
     "name": "stderr",
     "output_type": "stream",
     "text": [
      "C:\\Users\\prana\\PycharmProjects\\Intern\\.venv\\Lib\\site-packages\\keras\\src\\layers\\rnn\\rnn.py:199: UserWarning: Do not pass an `input_shape`/`input_dim` argument to a layer. When using Sequential models, prefer using an `Input(shape)` object as the first layer in the model instead.\n",
      "  super().__init__(**kwargs)\n"
     ]
    },
    {
     "name": "stdout",
     "output_type": "stream",
     "text": [
      "✅ Tried: steps=30, units1=64,units2=64,dropout2=0.2, dropout1=0.3, epochs=30, batch=16, R²=0.3986\n"
     ]
    },
    {
     "name": "stderr",
     "output_type": "stream",
     "text": [
      "C:\\Users\\prana\\PycharmProjects\\Intern\\.venv\\Lib\\site-packages\\keras\\src\\layers\\rnn\\rnn.py:199: UserWarning: Do not pass an `input_shape`/`input_dim` argument to a layer. When using Sequential models, prefer using an `Input(shape)` object as the first layer in the model instead.\n",
      "  super().__init__(**kwargs)\n"
     ]
    },
    {
     "name": "stdout",
     "output_type": "stream",
     "text": [
      "✅ Tried: steps=30, units1=64,units2=64,dropout2=0.2, dropout1=0.3, epochs=30, batch=32, R²=-0.6034\n"
     ]
    },
    {
     "name": "stderr",
     "output_type": "stream",
     "text": [
      "C:\\Users\\prana\\PycharmProjects\\Intern\\.venv\\Lib\\site-packages\\keras\\src\\layers\\rnn\\rnn.py:199: UserWarning: Do not pass an `input_shape`/`input_dim` argument to a layer. When using Sequential models, prefer using an `Input(shape)` object as the first layer in the model instead.\n",
      "  super().__init__(**kwargs)\n"
     ]
    },
    {
     "name": "stdout",
     "output_type": "stream",
     "text": [
      "✅ Tried: steps=30, units1=128,units2=32,dropout2=0.1, dropout1=0.2, epochs=10, batch=16, R²=0.3866\n"
     ]
    },
    {
     "name": "stderr",
     "output_type": "stream",
     "text": [
      "C:\\Users\\prana\\PycharmProjects\\Intern\\.venv\\Lib\\site-packages\\keras\\src\\layers\\rnn\\rnn.py:199: UserWarning: Do not pass an `input_shape`/`input_dim` argument to a layer. When using Sequential models, prefer using an `Input(shape)` object as the first layer in the model instead.\n",
      "  super().__init__(**kwargs)\n"
     ]
    },
    {
     "name": "stdout",
     "output_type": "stream",
     "text": [
      "✅ Tried: steps=30, units1=128,units2=32,dropout2=0.1, dropout1=0.2, epochs=10, batch=32, R²=-1.6145\n"
     ]
    },
    {
     "name": "stderr",
     "output_type": "stream",
     "text": [
      "C:\\Users\\prana\\PycharmProjects\\Intern\\.venv\\Lib\\site-packages\\keras\\src\\layers\\rnn\\rnn.py:199: UserWarning: Do not pass an `input_shape`/`input_dim` argument to a layer. When using Sequential models, prefer using an `Input(shape)` object as the first layer in the model instead.\n",
      "  super().__init__(**kwargs)\n"
     ]
    },
    {
     "name": "stdout",
     "output_type": "stream",
     "text": [
      "✅ Tried: steps=30, units1=128,units2=32,dropout2=0.1, dropout1=0.2, epochs=30, batch=16, R²=-1.5475\n"
     ]
    },
    {
     "name": "stderr",
     "output_type": "stream",
     "text": [
      "C:\\Users\\prana\\PycharmProjects\\Intern\\.venv\\Lib\\site-packages\\keras\\src\\layers\\rnn\\rnn.py:199: UserWarning: Do not pass an `input_shape`/`input_dim` argument to a layer. When using Sequential models, prefer using an `Input(shape)` object as the first layer in the model instead.\n",
      "  super().__init__(**kwargs)\n"
     ]
    },
    {
     "name": "stdout",
     "output_type": "stream",
     "text": [
      "✅ Tried: steps=30, units1=128,units2=32,dropout2=0.1, dropout1=0.2, epochs=30, batch=32, R²=-0.3781\n"
     ]
    },
    {
     "name": "stderr",
     "output_type": "stream",
     "text": [
      "C:\\Users\\prana\\PycharmProjects\\Intern\\.venv\\Lib\\site-packages\\keras\\src\\layers\\rnn\\rnn.py:199: UserWarning: Do not pass an `input_shape`/`input_dim` argument to a layer. When using Sequential models, prefer using an `Input(shape)` object as the first layer in the model instead.\n",
      "  super().__init__(**kwargs)\n"
     ]
    },
    {
     "name": "stdout",
     "output_type": "stream",
     "text": [
      "✅ Tried: steps=30, units1=128,units2=32,dropout2=0.2, dropout1=0.2, epochs=10, batch=16, R²=0.4068\n"
     ]
    },
    {
     "name": "stderr",
     "output_type": "stream",
     "text": [
      "C:\\Users\\prana\\PycharmProjects\\Intern\\.venv\\Lib\\site-packages\\keras\\src\\layers\\rnn\\rnn.py:199: UserWarning: Do not pass an `input_shape`/`input_dim` argument to a layer. When using Sequential models, prefer using an `Input(shape)` object as the first layer in the model instead.\n",
      "  super().__init__(**kwargs)\n"
     ]
    },
    {
     "name": "stdout",
     "output_type": "stream",
     "text": [
      "✅ Tried: steps=30, units1=128,units2=32,dropout2=0.2, dropout1=0.2, epochs=10, batch=32, R²=-0.4529\n"
     ]
    },
    {
     "name": "stderr",
     "output_type": "stream",
     "text": [
      "C:\\Users\\prana\\PycharmProjects\\Intern\\.venv\\Lib\\site-packages\\keras\\src\\layers\\rnn\\rnn.py:199: UserWarning: Do not pass an `input_shape`/`input_dim` argument to a layer. When using Sequential models, prefer using an `Input(shape)` object as the first layer in the model instead.\n",
      "  super().__init__(**kwargs)\n"
     ]
    },
    {
     "name": "stdout",
     "output_type": "stream",
     "text": [
      "✅ Tried: steps=30, units1=128,units2=32,dropout2=0.2, dropout1=0.2, epochs=30, batch=16, R²=-1.7517\n"
     ]
    },
    {
     "name": "stderr",
     "output_type": "stream",
     "text": [
      "C:\\Users\\prana\\PycharmProjects\\Intern\\.venv\\Lib\\site-packages\\keras\\src\\layers\\rnn\\rnn.py:199: UserWarning: Do not pass an `input_shape`/`input_dim` argument to a layer. When using Sequential models, prefer using an `Input(shape)` object as the first layer in the model instead.\n",
      "  super().__init__(**kwargs)\n"
     ]
    },
    {
     "name": "stdout",
     "output_type": "stream",
     "text": [
      "✅ Tried: steps=30, units1=128,units2=32,dropout2=0.2, dropout1=0.2, epochs=30, batch=32, R²=-3.7299\n"
     ]
    },
    {
     "name": "stderr",
     "output_type": "stream",
     "text": [
      "C:\\Users\\prana\\PycharmProjects\\Intern\\.venv\\Lib\\site-packages\\keras\\src\\layers\\rnn\\rnn.py:199: UserWarning: Do not pass an `input_shape`/`input_dim` argument to a layer. When using Sequential models, prefer using an `Input(shape)` object as the first layer in the model instead.\n",
      "  super().__init__(**kwargs)\n"
     ]
    },
    {
     "name": "stdout",
     "output_type": "stream",
     "text": [
      "✅ Tried: steps=30, units1=128,units2=32,dropout2=0.1, dropout1=0.3, epochs=10, batch=16, R²=0.3608\n"
     ]
    },
    {
     "name": "stderr",
     "output_type": "stream",
     "text": [
      "C:\\Users\\prana\\PycharmProjects\\Intern\\.venv\\Lib\\site-packages\\keras\\src\\layers\\rnn\\rnn.py:199: UserWarning: Do not pass an `input_shape`/`input_dim` argument to a layer. When using Sequential models, prefer using an `Input(shape)` object as the first layer in the model instead.\n",
      "  super().__init__(**kwargs)\n"
     ]
    },
    {
     "name": "stdout",
     "output_type": "stream",
     "text": [
      "✅ Tried: steps=30, units1=128,units2=32,dropout2=0.1, dropout1=0.3, epochs=10, batch=32, R²=0.3598\n"
     ]
    },
    {
     "name": "stderr",
     "output_type": "stream",
     "text": [
      "C:\\Users\\prana\\PycharmProjects\\Intern\\.venv\\Lib\\site-packages\\keras\\src\\layers\\rnn\\rnn.py:199: UserWarning: Do not pass an `input_shape`/`input_dim` argument to a layer. When using Sequential models, prefer using an `Input(shape)` object as the first layer in the model instead.\n",
      "  super().__init__(**kwargs)\n"
     ]
    },
    {
     "name": "stdout",
     "output_type": "stream",
     "text": [
      "✅ Tried: steps=30, units1=128,units2=32,dropout2=0.1, dropout1=0.3, epochs=30, batch=16, R²=0.0287\n"
     ]
    },
    {
     "name": "stderr",
     "output_type": "stream",
     "text": [
      "C:\\Users\\prana\\PycharmProjects\\Intern\\.venv\\Lib\\site-packages\\keras\\src\\layers\\rnn\\rnn.py:199: UserWarning: Do not pass an `input_shape`/`input_dim` argument to a layer. When using Sequential models, prefer using an `Input(shape)` object as the first layer in the model instead.\n",
      "  super().__init__(**kwargs)\n"
     ]
    },
    {
     "name": "stdout",
     "output_type": "stream",
     "text": [
      "✅ Tried: steps=30, units1=128,units2=32,dropout2=0.1, dropout1=0.3, epochs=30, batch=32, R²=-0.3597\n"
     ]
    },
    {
     "name": "stderr",
     "output_type": "stream",
     "text": [
      "C:\\Users\\prana\\PycharmProjects\\Intern\\.venv\\Lib\\site-packages\\keras\\src\\layers\\rnn\\rnn.py:199: UserWarning: Do not pass an `input_shape`/`input_dim` argument to a layer. When using Sequential models, prefer using an `Input(shape)` object as the first layer in the model instead.\n",
      "  super().__init__(**kwargs)\n"
     ]
    },
    {
     "name": "stdout",
     "output_type": "stream",
     "text": [
      "✅ Tried: steps=30, units1=128,units2=32,dropout2=0.2, dropout1=0.3, epochs=10, batch=16, R²=-0.4133\n"
     ]
    },
    {
     "name": "stderr",
     "output_type": "stream",
     "text": [
      "C:\\Users\\prana\\PycharmProjects\\Intern\\.venv\\Lib\\site-packages\\keras\\src\\layers\\rnn\\rnn.py:199: UserWarning: Do not pass an `input_shape`/`input_dim` argument to a layer. When using Sequential models, prefer using an `Input(shape)` object as the first layer in the model instead.\n",
      "  super().__init__(**kwargs)\n"
     ]
    },
    {
     "name": "stdout",
     "output_type": "stream",
     "text": [
      "✅ Tried: steps=30, units1=128,units2=32,dropout2=0.2, dropout1=0.3, epochs=10, batch=32, R²=-1.6764\n"
     ]
    },
    {
     "name": "stderr",
     "output_type": "stream",
     "text": [
      "C:\\Users\\prana\\PycharmProjects\\Intern\\.venv\\Lib\\site-packages\\keras\\src\\layers\\rnn\\rnn.py:199: UserWarning: Do not pass an `input_shape`/`input_dim` argument to a layer. When using Sequential models, prefer using an `Input(shape)` object as the first layer in the model instead.\n",
      "  super().__init__(**kwargs)\n"
     ]
    },
    {
     "name": "stdout",
     "output_type": "stream",
     "text": [
      "✅ Tried: steps=30, units1=128,units2=32,dropout2=0.2, dropout1=0.3, epochs=30, batch=16, R²=0.3778\n"
     ]
    },
    {
     "name": "stderr",
     "output_type": "stream",
     "text": [
      "C:\\Users\\prana\\PycharmProjects\\Intern\\.venv\\Lib\\site-packages\\keras\\src\\layers\\rnn\\rnn.py:199: UserWarning: Do not pass an `input_shape`/`input_dim` argument to a layer. When using Sequential models, prefer using an `Input(shape)` object as the first layer in the model instead.\n",
      "  super().__init__(**kwargs)\n"
     ]
    },
    {
     "name": "stdout",
     "output_type": "stream",
     "text": [
      "✅ Tried: steps=30, units1=128,units2=32,dropout2=0.2, dropout1=0.3, epochs=30, batch=32, R²=0.3008\n"
     ]
    },
    {
     "name": "stderr",
     "output_type": "stream",
     "text": [
      "C:\\Users\\prana\\PycharmProjects\\Intern\\.venv\\Lib\\site-packages\\keras\\src\\layers\\rnn\\rnn.py:199: UserWarning: Do not pass an `input_shape`/`input_dim` argument to a layer. When using Sequential models, prefer using an `Input(shape)` object as the first layer in the model instead.\n",
      "  super().__init__(**kwargs)\n"
     ]
    },
    {
     "name": "stdout",
     "output_type": "stream",
     "text": [
      "✅ Tried: steps=30, units1=128,units2=64,dropout2=0.1, dropout1=0.2, epochs=10, batch=16, R²=-0.2872\n"
     ]
    },
    {
     "name": "stderr",
     "output_type": "stream",
     "text": [
      "C:\\Users\\prana\\PycharmProjects\\Intern\\.venv\\Lib\\site-packages\\keras\\src\\layers\\rnn\\rnn.py:199: UserWarning: Do not pass an `input_shape`/`input_dim` argument to a layer. When using Sequential models, prefer using an `Input(shape)` object as the first layer in the model instead.\n",
      "  super().__init__(**kwargs)\n"
     ]
    },
    {
     "name": "stdout",
     "output_type": "stream",
     "text": [
      "✅ Tried: steps=30, units1=128,units2=64,dropout2=0.1, dropout1=0.2, epochs=10, batch=32, R²=-1.2561\n"
     ]
    },
    {
     "name": "stderr",
     "output_type": "stream",
     "text": [
      "C:\\Users\\prana\\PycharmProjects\\Intern\\.venv\\Lib\\site-packages\\keras\\src\\layers\\rnn\\rnn.py:199: UserWarning: Do not pass an `input_shape`/`input_dim` argument to a layer. When using Sequential models, prefer using an `Input(shape)` object as the first layer in the model instead.\n",
      "  super().__init__(**kwargs)\n"
     ]
    },
    {
     "name": "stdout",
     "output_type": "stream",
     "text": [
      "✅ Tried: steps=30, units1=128,units2=64,dropout2=0.1, dropout1=0.2, epochs=30, batch=16, R²=-5.4078\n"
     ]
    },
    {
     "name": "stderr",
     "output_type": "stream",
     "text": [
      "C:\\Users\\prana\\PycharmProjects\\Intern\\.venv\\Lib\\site-packages\\keras\\src\\layers\\rnn\\rnn.py:199: UserWarning: Do not pass an `input_shape`/`input_dim` argument to a layer. When using Sequential models, prefer using an `Input(shape)` object as the first layer in the model instead.\n",
      "  super().__init__(**kwargs)\n"
     ]
    },
    {
     "name": "stdout",
     "output_type": "stream",
     "text": [
      "✅ Tried: steps=30, units1=128,units2=64,dropout2=0.1, dropout1=0.2, epochs=30, batch=32, R²=-1.3502\n"
     ]
    },
    {
     "name": "stderr",
     "output_type": "stream",
     "text": [
      "C:\\Users\\prana\\PycharmProjects\\Intern\\.venv\\Lib\\site-packages\\keras\\src\\layers\\rnn\\rnn.py:199: UserWarning: Do not pass an `input_shape`/`input_dim` argument to a layer. When using Sequential models, prefer using an `Input(shape)` object as the first layer in the model instead.\n",
      "  super().__init__(**kwargs)\n"
     ]
    },
    {
     "name": "stdout",
     "output_type": "stream",
     "text": [
      "✅ Tried: steps=30, units1=128,units2=64,dropout2=0.2, dropout1=0.2, epochs=10, batch=16, R²=-0.4217\n"
     ]
    },
    {
     "name": "stderr",
     "output_type": "stream",
     "text": [
      "C:\\Users\\prana\\PycharmProjects\\Intern\\.venv\\Lib\\site-packages\\keras\\src\\layers\\rnn\\rnn.py:199: UserWarning: Do not pass an `input_shape`/`input_dim` argument to a layer. When using Sequential models, prefer using an `Input(shape)` object as the first layer in the model instead.\n",
      "  super().__init__(**kwargs)\n"
     ]
    },
    {
     "name": "stdout",
     "output_type": "stream",
     "text": [
      "✅ Tried: steps=30, units1=128,units2=64,dropout2=0.2, dropout1=0.2, epochs=10, batch=32, R²=0.1584\n"
     ]
    },
    {
     "name": "stderr",
     "output_type": "stream",
     "text": [
      "C:\\Users\\prana\\PycharmProjects\\Intern\\.venv\\Lib\\site-packages\\keras\\src\\layers\\rnn\\rnn.py:199: UserWarning: Do not pass an `input_shape`/`input_dim` argument to a layer. When using Sequential models, prefer using an `Input(shape)` object as the first layer in the model instead.\n",
      "  super().__init__(**kwargs)\n"
     ]
    },
    {
     "name": "stdout",
     "output_type": "stream",
     "text": [
      "✅ Tried: steps=30, units1=128,units2=64,dropout2=0.2, dropout1=0.2, epochs=30, batch=16, R²=0.3404\n"
     ]
    },
    {
     "name": "stderr",
     "output_type": "stream",
     "text": [
      "C:\\Users\\prana\\PycharmProjects\\Intern\\.venv\\Lib\\site-packages\\keras\\src\\layers\\rnn\\rnn.py:199: UserWarning: Do not pass an `input_shape`/`input_dim` argument to a layer. When using Sequential models, prefer using an `Input(shape)` object as the first layer in the model instead.\n",
      "  super().__init__(**kwargs)\n"
     ]
    },
    {
     "name": "stdout",
     "output_type": "stream",
     "text": [
      "✅ Tried: steps=30, units1=128,units2=64,dropout2=0.2, dropout1=0.2, epochs=30, batch=32, R²=-0.6889\n"
     ]
    },
    {
     "name": "stderr",
     "output_type": "stream",
     "text": [
      "C:\\Users\\prana\\PycharmProjects\\Intern\\.venv\\Lib\\site-packages\\keras\\src\\layers\\rnn\\rnn.py:199: UserWarning: Do not pass an `input_shape`/`input_dim` argument to a layer. When using Sequential models, prefer using an `Input(shape)` object as the first layer in the model instead.\n",
      "  super().__init__(**kwargs)\n"
     ]
    },
    {
     "name": "stdout",
     "output_type": "stream",
     "text": [
      "✅ Tried: steps=30, units1=128,units2=64,dropout2=0.1, dropout1=0.3, epochs=10, batch=16, R²=0.1027\n"
     ]
    },
    {
     "name": "stderr",
     "output_type": "stream",
     "text": [
      "C:\\Users\\prana\\PycharmProjects\\Intern\\.venv\\Lib\\site-packages\\keras\\src\\layers\\rnn\\rnn.py:199: UserWarning: Do not pass an `input_shape`/`input_dim` argument to a layer. When using Sequential models, prefer using an `Input(shape)` object as the first layer in the model instead.\n",
      "  super().__init__(**kwargs)\n"
     ]
    },
    {
     "name": "stdout",
     "output_type": "stream",
     "text": [
      "✅ Tried: steps=30, units1=128,units2=64,dropout2=0.1, dropout1=0.3, epochs=10, batch=32, R²=-0.9615\n"
     ]
    },
    {
     "name": "stderr",
     "output_type": "stream",
     "text": [
      "C:\\Users\\prana\\PycharmProjects\\Intern\\.venv\\Lib\\site-packages\\keras\\src\\layers\\rnn\\rnn.py:199: UserWarning: Do not pass an `input_shape`/`input_dim` argument to a layer. When using Sequential models, prefer using an `Input(shape)` object as the first layer in the model instead.\n",
      "  super().__init__(**kwargs)\n"
     ]
    },
    {
     "name": "stdout",
     "output_type": "stream",
     "text": [
      "✅ Tried: steps=30, units1=128,units2=64,dropout2=0.1, dropout1=0.3, epochs=30, batch=16, R²=0.2819\n"
     ]
    },
    {
     "name": "stderr",
     "output_type": "stream",
     "text": [
      "C:\\Users\\prana\\PycharmProjects\\Intern\\.venv\\Lib\\site-packages\\keras\\src\\layers\\rnn\\rnn.py:199: UserWarning: Do not pass an `input_shape`/`input_dim` argument to a layer. When using Sequential models, prefer using an `Input(shape)` object as the first layer in the model instead.\n",
      "  super().__init__(**kwargs)\n"
     ]
    },
    {
     "name": "stdout",
     "output_type": "stream",
     "text": [
      "✅ Tried: steps=30, units1=128,units2=64,dropout2=0.1, dropout1=0.3, epochs=30, batch=32, R²=-0.9506\n"
     ]
    },
    {
     "name": "stderr",
     "output_type": "stream",
     "text": [
      "C:\\Users\\prana\\PycharmProjects\\Intern\\.venv\\Lib\\site-packages\\keras\\src\\layers\\rnn\\rnn.py:199: UserWarning: Do not pass an `input_shape`/`input_dim` argument to a layer. When using Sequential models, prefer using an `Input(shape)` object as the first layer in the model instead.\n",
      "  super().__init__(**kwargs)\n"
     ]
    },
    {
     "name": "stdout",
     "output_type": "stream",
     "text": [
      "✅ Tried: steps=30, units1=128,units2=64,dropout2=0.2, dropout1=0.3, epochs=10, batch=16, R²=0.3909\n"
     ]
    },
    {
     "name": "stderr",
     "output_type": "stream",
     "text": [
      "C:\\Users\\prana\\PycharmProjects\\Intern\\.venv\\Lib\\site-packages\\keras\\src\\layers\\rnn\\rnn.py:199: UserWarning: Do not pass an `input_shape`/`input_dim` argument to a layer. When using Sequential models, prefer using an `Input(shape)` object as the first layer in the model instead.\n",
      "  super().__init__(**kwargs)\n"
     ]
    },
    {
     "name": "stdout",
     "output_type": "stream",
     "text": [
      "✅ Tried: steps=30, units1=128,units2=64,dropout2=0.2, dropout1=0.3, epochs=10, batch=32, R²=-0.4712\n"
     ]
    },
    {
     "name": "stderr",
     "output_type": "stream",
     "text": [
      "C:\\Users\\prana\\PycharmProjects\\Intern\\.venv\\Lib\\site-packages\\keras\\src\\layers\\rnn\\rnn.py:199: UserWarning: Do not pass an `input_shape`/`input_dim` argument to a layer. When using Sequential models, prefer using an `Input(shape)` object as the first layer in the model instead.\n",
      "  super().__init__(**kwargs)\n"
     ]
    },
    {
     "name": "stdout",
     "output_type": "stream",
     "text": [
      "✅ Tried: steps=30, units1=128,units2=64,dropout2=0.2, dropout1=0.3, epochs=30, batch=16, R²=0.1182\n"
     ]
    },
    {
     "name": "stderr",
     "output_type": "stream",
     "text": [
      "C:\\Users\\prana\\PycharmProjects\\Intern\\.venv\\Lib\\site-packages\\keras\\src\\layers\\rnn\\rnn.py:199: UserWarning: Do not pass an `input_shape`/`input_dim` argument to a layer. When using Sequential models, prefer using an `Input(shape)` object as the first layer in the model instead.\n",
      "  super().__init__(**kwargs)\n"
     ]
    },
    {
     "name": "stdout",
     "output_type": "stream",
     "text": [
      "✅ Tried: steps=30, units1=128,units2=64,dropout2=0.2, dropout1=0.3, epochs=30, batch=32, R²=-1.9005\n",
      "\n",
      "🏆 Best Configuration Found:\n",
      "time_steps     30.000000\n",
      "units1        128.000000\n",
      "units2         32.000000\n",
      "dropout1        0.200000\n",
      "dropout2        0.200000\n",
      "epochs         10.000000\n",
      "batch_size     16.000000\n",
      "r2_score        0.406753\n",
      "Name: 100, dtype: float64\n"
     ]
    }
   ],
   "execution_count": 6
  },
  {
   "metadata": {
    "ExecuteTime": {
     "end_time": "2025-07-18T08:37:57.591828Z",
     "start_time": "2025-07-18T08:09:31.942316Z"
    }
   },
   "cell_type": "code",
   "source": [
    "import os\n",
    "import random\n",
    "import tensorflow as tf\n",
    "import numpy as np\n",
    "import pandas as pd\n",
    "import yfinance as yf\n",
    "import matplotlib.pyplot as plt\n",
    "from sklearn.preprocessing import MinMaxScaler\n",
    "from sklearn.metrics import r2_score\n",
    "from tensorflow.keras.models import Sequential\n",
    "from tensorflow.keras.layers import LSTM, Dense, Dropout\n",
    "from tensorflow.keras.callbacks import EarlyStopping\n",
    "\n",
    "# Set seeds for reproducibility\n",
    "seed = 42\n",
    "os.environ['PYTHONHASHSEED'] = str(seed)\n",
    "np.random.seed(seed)\n",
    "random.seed(seed)\n",
    "tf.random.set_seed(seed)\n",
    "tf.config.experimental.enable_op_determinism()\n",
    "\n",
    "# 1. Download AAPL 'Close' price\n",
    "data = yf.download(\"AAPL\", start=\"2015-01-01\", end=\"2025-01-30\")\n",
    "data = data[['Close']].dropna()\n",
    "\n",
    "# 2. Train-test split\n",
    "split_date = '2025-01-01'\n",
    "train_data = data.loc[:split_date]\n",
    "test_data = data.loc[split_date:]\n",
    "\n",
    "# 3. Normalize using MinMaxScaler\n",
    "scaler = MinMaxScaler()\n",
    "scaled_train = scaler.fit_transform(train_data)\n",
    "\n",
    "# 4. Create dataset\n",
    "def create_dataset(data, time_steps=30):\n",
    "    X, y = [], []\n",
    "    for i in range(time_steps, len(data)):\n",
    "        X.append(data[i - time_steps:i])\n",
    "        y.append(data[i, 0])\n",
    "    return np.array(X), np.array(y)\n",
    "\n",
    "# 5. Grid Search Parameters\n",
    "param_grid = {\n",
    "    'time_steps': [30,60],\n",
    "    'lstm_units1': [64,128],\n",
    "    'lstm_units2': [64,128],\n",
    "    'lstm_units3': [32,64,128],  # New third layer\n",
    "    'dropout1': [0.2,0.3],\n",
    "    'dropout2': [0.2,0.3],\n",
    "    'dropout3': [0.2,0.3],     # New dropout\n",
    "    'epochs': [10,30],\n",
    "    'batch_size': [16]\n",
    "}\n",
    "\n",
    "results = []\n",
    "\n",
    "# 6. Grid Search Loop\n",
    "for time_steps in param_grid['time_steps']:\n",
    "    X_train, y_train = create_dataset(scaled_train, time_steps)\n",
    "\n",
    "    for units1 in param_grid['lstm_units1']:\n",
    "        for units2 in param_grid['lstm_units2']:\n",
    "            for units3 in param_grid['lstm_units3']:\n",
    "                for drop1 in param_grid['dropout1']:\n",
    "                    for drop2 in param_grid['dropout2']:\n",
    "                        for drop3 in param_grid['dropout3']:\n",
    "                            for epochs in param_grid['epochs']:\n",
    "                                for batch_size in param_grid['batch_size']:\n",
    "\n",
    "                                    # Build model\n",
    "                                    model = Sequential()\n",
    "                                    model.add(LSTM(units1, return_sequences=True, input_shape=(X_train.shape[1], X_train.shape[2])))\n",
    "                                    model.add(Dropout(drop1))\n",
    "\n",
    "                                    model.add(LSTM(units2, return_sequences=True))\n",
    "                                    model.add(Dropout(drop2))\n",
    "\n",
    "                                    model.add(LSTM(units3))  # Last LSTM\n",
    "                                    model.add(Dropout(drop3))\n",
    "\n",
    "                                    model.add(Dense(1))\n",
    "                                    model.compile(optimizer='adam', loss='mean_squared_error')\n",
    "\n",
    "                                    # Callbacks\n",
    "                                    early_stop = EarlyStopping(monitor='val_loss', patience=2, restore_best_weights=True)\n",
    "\n",
    "                                    # Train model\n",
    "                                    model.fit(X_train, y_train,\n",
    "                                              epochs=epochs,\n",
    "                                              batch_size=batch_size,\n",
    "                                              validation_split=0.2,\n",
    "                                              callbacks=[early_stop],\n",
    "                                              verbose=0)\n",
    "\n",
    "                                    # Predict next 18 steps\n",
    "                                    input_seq = scaled_train[-time_steps:]\n",
    "                                    predictions = []\n",
    "                                    for _ in range(18):\n",
    "                                        reshaped_input = input_seq.reshape(1, time_steps, 1)\n",
    "                                        pred = model.predict(reshaped_input, verbose=0)[0][0]\n",
    "                                        input_seq = np.append(input_seq[1:], [[pred]], axis=0)\n",
    "                                        predictions.append(pred)\n",
    "\n",
    "                                    # Rescale predictions\n",
    "                                    predictions = np.array(predictions)\n",
    "                                    pad = np.zeros((len(predictions), 1))\n",
    "                                    pad[:, 0] = predictions\n",
    "                                    forecasted_close = scaler.inverse_transform(pad)[:, 0]\n",
    "\n",
    "                                    # R² Evaluation\n",
    "                                    true_close = test_data['Close'][:len(forecasted_close)].values\n",
    "                                    r2 = r2_score(true_close, forecasted_close)\n",
    "\n",
    "                                    results.append({\n",
    "                                        'time_steps': time_steps,\n",
    "                                        'units1': units1,\n",
    "                                        'units2': units2,\n",
    "                                        'units3': units3,\n",
    "                                        'dropout1': drop1,\n",
    "                                        'dropout2': drop2,\n",
    "                                        'dropout3': drop3,\n",
    "                                        'epochs': epochs,\n",
    "                                        'batch_size': batch_size,\n",
    "                                        'r2_score': r2\n",
    "                                    })\n",
    "\n",
    "                                    print(f\"✅ Tried: steps={time_steps}, units=({units1},{units2},{units3}), \"\n",
    "                                          f\"dropouts=({drop1},{drop2},{drop3}), epochs={epochs}, \"\n",
    "                                          f\"batch={batch_size}, R²={r2:.4f}\")\n",
    "\n",
    "# 7. Best Result\n",
    "results_df = pd.DataFrame(results)\n",
    "best_config = results_df.sort_values(by='r2_score', ascending=False).iloc[0]\n",
    "\n",
    "print(\"\\n🏆 Best Configuration Found:\")\n",
    "print(best_config)\n"
   ],
   "id": "ac4a1f1008978a1e",
   "outputs": [
    {
     "name": "stderr",
     "output_type": "stream",
     "text": [
      "C:\\Users\\prana\\AppData\\Local\\Temp\\ipykernel_70800\\684810884.py:23: FutureWarning: YF.download() has changed argument auto_adjust default to True\n",
      "  data = yf.download(\"AAPL\", start=\"2015-01-01\", end=\"2025-01-30\")\n",
      "[*********************100%***********************]  1 of 1 completed\n",
      "C:\\Users\\prana\\PycharmProjects\\Intern\\.venv\\Lib\\site-packages\\keras\\src\\layers\\rnn\\rnn.py:199: UserWarning: Do not pass an `input_shape`/`input_dim` argument to a layer. When using Sequential models, prefer using an `Input(shape)` object as the first layer in the model instead.\n",
      "  super().__init__(**kwargs)\n"
     ]
    },
    {
     "name": "stdout",
     "output_type": "stream",
     "text": [
      "✅ Tried: steps=30, units=(64,64,32), dropouts=(0.2,0.2,0.2), epochs=10, batch=16, R²=-1.8698\n"
     ]
    },
    {
     "name": "stderr",
     "output_type": "stream",
     "text": [
      "C:\\Users\\prana\\PycharmProjects\\Intern\\.venv\\Lib\\site-packages\\keras\\src\\layers\\rnn\\rnn.py:199: UserWarning: Do not pass an `input_shape`/`input_dim` argument to a layer. When using Sequential models, prefer using an `Input(shape)` object as the first layer in the model instead.\n",
      "  super().__init__(**kwargs)\n"
     ]
    },
    {
     "name": "stdout",
     "output_type": "stream",
     "text": [
      "✅ Tried: steps=30, units=(64,64,32), dropouts=(0.2,0.2,0.2), epochs=30, batch=16, R²=0.2943\n"
     ]
    },
    {
     "name": "stderr",
     "output_type": "stream",
     "text": [
      "C:\\Users\\prana\\PycharmProjects\\Intern\\.venv\\Lib\\site-packages\\keras\\src\\layers\\rnn\\rnn.py:199: UserWarning: Do not pass an `input_shape`/`input_dim` argument to a layer. When using Sequential models, prefer using an `Input(shape)` object as the first layer in the model instead.\n",
      "  super().__init__(**kwargs)\n"
     ]
    },
    {
     "name": "stdout",
     "output_type": "stream",
     "text": [
      "✅ Tried: steps=30, units=(64,64,32), dropouts=(0.2,0.2,0.3), epochs=10, batch=16, R²=-0.7956\n"
     ]
    },
    {
     "name": "stderr",
     "output_type": "stream",
     "text": [
      "C:\\Users\\prana\\PycharmProjects\\Intern\\.venv\\Lib\\site-packages\\keras\\src\\layers\\rnn\\rnn.py:199: UserWarning: Do not pass an `input_shape`/`input_dim` argument to a layer. When using Sequential models, prefer using an `Input(shape)` object as the first layer in the model instead.\n",
      "  super().__init__(**kwargs)\n"
     ]
    },
    {
     "name": "stdout",
     "output_type": "stream",
     "text": [
      "✅ Tried: steps=30, units=(64,64,32), dropouts=(0.2,0.2,0.3), epochs=30, batch=16, R²=-1.3839\n"
     ]
    },
    {
     "name": "stderr",
     "output_type": "stream",
     "text": [
      "C:\\Users\\prana\\PycharmProjects\\Intern\\.venv\\Lib\\site-packages\\keras\\src\\layers\\rnn\\rnn.py:199: UserWarning: Do not pass an `input_shape`/`input_dim` argument to a layer. When using Sequential models, prefer using an `Input(shape)` object as the first layer in the model instead.\n",
      "  super().__init__(**kwargs)\n"
     ]
    },
    {
     "name": "stdout",
     "output_type": "stream",
     "text": [
      "✅ Tried: steps=30, units=(64,64,32), dropouts=(0.2,0.3,0.2), epochs=10, batch=16, R²=-0.0255\n"
     ]
    },
    {
     "name": "stderr",
     "output_type": "stream",
     "text": [
      "C:\\Users\\prana\\PycharmProjects\\Intern\\.venv\\Lib\\site-packages\\keras\\src\\layers\\rnn\\rnn.py:199: UserWarning: Do not pass an `input_shape`/`input_dim` argument to a layer. When using Sequential models, prefer using an `Input(shape)` object as the first layer in the model instead.\n",
      "  super().__init__(**kwargs)\n"
     ]
    },
    {
     "name": "stdout",
     "output_type": "stream",
     "text": [
      "✅ Tried: steps=30, units=(64,64,32), dropouts=(0.2,0.3,0.2), epochs=30, batch=16, R²=-0.9684\n"
     ]
    },
    {
     "name": "stderr",
     "output_type": "stream",
     "text": [
      "C:\\Users\\prana\\PycharmProjects\\Intern\\.venv\\Lib\\site-packages\\keras\\src\\layers\\rnn\\rnn.py:199: UserWarning: Do not pass an `input_shape`/`input_dim` argument to a layer. When using Sequential models, prefer using an `Input(shape)` object as the first layer in the model instead.\n",
      "  super().__init__(**kwargs)\n"
     ]
    },
    {
     "name": "stdout",
     "output_type": "stream",
     "text": [
      "✅ Tried: steps=30, units=(64,64,32), dropouts=(0.2,0.3,0.3), epochs=10, batch=16, R²=-2.6157\n"
     ]
    },
    {
     "name": "stderr",
     "output_type": "stream",
     "text": [
      "C:\\Users\\prana\\PycharmProjects\\Intern\\.venv\\Lib\\site-packages\\keras\\src\\layers\\rnn\\rnn.py:199: UserWarning: Do not pass an `input_shape`/`input_dim` argument to a layer. When using Sequential models, prefer using an `Input(shape)` object as the first layer in the model instead.\n",
      "  super().__init__(**kwargs)\n"
     ]
    },
    {
     "name": "stdout",
     "output_type": "stream",
     "text": [
      "✅ Tried: steps=30, units=(64,64,32), dropouts=(0.2,0.3,0.3), epochs=30, batch=16, R²=0.3284\n"
     ]
    },
    {
     "name": "stderr",
     "output_type": "stream",
     "text": [
      "C:\\Users\\prana\\PycharmProjects\\Intern\\.venv\\Lib\\site-packages\\keras\\src\\layers\\rnn\\rnn.py:199: UserWarning: Do not pass an `input_shape`/`input_dim` argument to a layer. When using Sequential models, prefer using an `Input(shape)` object as the first layer in the model instead.\n",
      "  super().__init__(**kwargs)\n"
     ]
    },
    {
     "name": "stdout",
     "output_type": "stream",
     "text": [
      "✅ Tried: steps=30, units=(64,64,32), dropouts=(0.3,0.2,0.2), epochs=10, batch=16, R²=-7.1461\n"
     ]
    },
    {
     "name": "stderr",
     "output_type": "stream",
     "text": [
      "C:\\Users\\prana\\PycharmProjects\\Intern\\.venv\\Lib\\site-packages\\keras\\src\\layers\\rnn\\rnn.py:199: UserWarning: Do not pass an `input_shape`/`input_dim` argument to a layer. When using Sequential models, prefer using an `Input(shape)` object as the first layer in the model instead.\n",
      "  super().__init__(**kwargs)\n"
     ]
    },
    {
     "name": "stdout",
     "output_type": "stream",
     "text": [
      "✅ Tried: steps=30, units=(64,64,32), dropouts=(0.3,0.2,0.2), epochs=30, batch=16, R²=-0.6481\n"
     ]
    },
    {
     "name": "stderr",
     "output_type": "stream",
     "text": [
      "C:\\Users\\prana\\PycharmProjects\\Intern\\.venv\\Lib\\site-packages\\keras\\src\\layers\\rnn\\rnn.py:199: UserWarning: Do not pass an `input_shape`/`input_dim` argument to a layer. When using Sequential models, prefer using an `Input(shape)` object as the first layer in the model instead.\n",
      "  super().__init__(**kwargs)\n"
     ]
    },
    {
     "name": "stdout",
     "output_type": "stream",
     "text": [
      "✅ Tried: steps=30, units=(64,64,32), dropouts=(0.3,0.2,0.3), epochs=10, batch=16, R²=-3.4218\n"
     ]
    },
    {
     "name": "stderr",
     "output_type": "stream",
     "text": [
      "C:\\Users\\prana\\PycharmProjects\\Intern\\.venv\\Lib\\site-packages\\keras\\src\\layers\\rnn\\rnn.py:199: UserWarning: Do not pass an `input_shape`/`input_dim` argument to a layer. When using Sequential models, prefer using an `Input(shape)` object as the first layer in the model instead.\n",
      "  super().__init__(**kwargs)\n"
     ]
    },
    {
     "name": "stdout",
     "output_type": "stream",
     "text": [
      "✅ Tried: steps=30, units=(64,64,32), dropouts=(0.3,0.2,0.3), epochs=30, batch=16, R²=-0.0871\n"
     ]
    },
    {
     "name": "stderr",
     "output_type": "stream",
     "text": [
      "C:\\Users\\prana\\PycharmProjects\\Intern\\.venv\\Lib\\site-packages\\keras\\src\\layers\\rnn\\rnn.py:199: UserWarning: Do not pass an `input_shape`/`input_dim` argument to a layer. When using Sequential models, prefer using an `Input(shape)` object as the first layer in the model instead.\n",
      "  super().__init__(**kwargs)\n"
     ]
    },
    {
     "name": "stdout",
     "output_type": "stream",
     "text": [
      "✅ Tried: steps=30, units=(64,64,32), dropouts=(0.3,0.3,0.2), epochs=10, batch=16, R²=-1.1918\n"
     ]
    },
    {
     "name": "stderr",
     "output_type": "stream",
     "text": [
      "C:\\Users\\prana\\PycharmProjects\\Intern\\.venv\\Lib\\site-packages\\keras\\src\\layers\\rnn\\rnn.py:199: UserWarning: Do not pass an `input_shape`/`input_dim` argument to a layer. When using Sequential models, prefer using an `Input(shape)` object as the first layer in the model instead.\n",
      "  super().__init__(**kwargs)\n"
     ]
    },
    {
     "name": "stdout",
     "output_type": "stream",
     "text": [
      "✅ Tried: steps=30, units=(64,64,32), dropouts=(0.3,0.3,0.2), epochs=30, batch=16, R²=-4.9937\n"
     ]
    },
    {
     "name": "stderr",
     "output_type": "stream",
     "text": [
      "C:\\Users\\prana\\PycharmProjects\\Intern\\.venv\\Lib\\site-packages\\keras\\src\\layers\\rnn\\rnn.py:199: UserWarning: Do not pass an `input_shape`/`input_dim` argument to a layer. When using Sequential models, prefer using an `Input(shape)` object as the first layer in the model instead.\n",
      "  super().__init__(**kwargs)\n"
     ]
    },
    {
     "name": "stdout",
     "output_type": "stream",
     "text": [
      "✅ Tried: steps=30, units=(64,64,32), dropouts=(0.3,0.3,0.3), epochs=10, batch=16, R²=0.1314\n"
     ]
    },
    {
     "name": "stderr",
     "output_type": "stream",
     "text": [
      "C:\\Users\\prana\\PycharmProjects\\Intern\\.venv\\Lib\\site-packages\\keras\\src\\layers\\rnn\\rnn.py:199: UserWarning: Do not pass an `input_shape`/`input_dim` argument to a layer. When using Sequential models, prefer using an `Input(shape)` object as the first layer in the model instead.\n",
      "  super().__init__(**kwargs)\n"
     ]
    },
    {
     "name": "stdout",
     "output_type": "stream",
     "text": [
      "✅ Tried: steps=30, units=(64,64,32), dropouts=(0.3,0.3,0.3), epochs=30, batch=16, R²=-6.9680\n"
     ]
    },
    {
     "name": "stderr",
     "output_type": "stream",
     "text": [
      "C:\\Users\\prana\\PycharmProjects\\Intern\\.venv\\Lib\\site-packages\\keras\\src\\layers\\rnn\\rnn.py:199: UserWarning: Do not pass an `input_shape`/`input_dim` argument to a layer. When using Sequential models, prefer using an `Input(shape)` object as the first layer in the model instead.\n",
      "  super().__init__(**kwargs)\n"
     ]
    },
    {
     "name": "stdout",
     "output_type": "stream",
     "text": [
      "✅ Tried: steps=30, units=(64,64,64), dropouts=(0.2,0.2,0.2), epochs=10, batch=16, R²=-1.5070\n"
     ]
    },
    {
     "name": "stderr",
     "output_type": "stream",
     "text": [
      "C:\\Users\\prana\\PycharmProjects\\Intern\\.venv\\Lib\\site-packages\\keras\\src\\layers\\rnn\\rnn.py:199: UserWarning: Do not pass an `input_shape`/`input_dim` argument to a layer. When using Sequential models, prefer using an `Input(shape)` object as the first layer in the model instead.\n",
      "  super().__init__(**kwargs)\n"
     ]
    },
    {
     "name": "stdout",
     "output_type": "stream",
     "text": [
      "✅ Tried: steps=30, units=(64,64,64), dropouts=(0.2,0.2,0.2), epochs=30, batch=16, R²=-5.6567\n"
     ]
    },
    {
     "name": "stderr",
     "output_type": "stream",
     "text": [
      "C:\\Users\\prana\\PycharmProjects\\Intern\\.venv\\Lib\\site-packages\\keras\\src\\layers\\rnn\\rnn.py:199: UserWarning: Do not pass an `input_shape`/`input_dim` argument to a layer. When using Sequential models, prefer using an `Input(shape)` object as the first layer in the model instead.\n",
      "  super().__init__(**kwargs)\n"
     ]
    },
    {
     "name": "stdout",
     "output_type": "stream",
     "text": [
      "✅ Tried: steps=30, units=(64,64,64), dropouts=(0.2,0.2,0.3), epochs=10, batch=16, R²=-2.1395\n"
     ]
    },
    {
     "name": "stderr",
     "output_type": "stream",
     "text": [
      "C:\\Users\\prana\\PycharmProjects\\Intern\\.venv\\Lib\\site-packages\\keras\\src\\layers\\rnn\\rnn.py:199: UserWarning: Do not pass an `input_shape`/`input_dim` argument to a layer. When using Sequential models, prefer using an `Input(shape)` object as the first layer in the model instead.\n",
      "  super().__init__(**kwargs)\n"
     ]
    },
    {
     "name": "stdout",
     "output_type": "stream",
     "text": [
      "✅ Tried: steps=30, units=(64,64,64), dropouts=(0.2,0.2,0.3), epochs=30, batch=16, R²=0.3993\n"
     ]
    },
    {
     "name": "stderr",
     "output_type": "stream",
     "text": [
      "C:\\Users\\prana\\PycharmProjects\\Intern\\.venv\\Lib\\site-packages\\keras\\src\\layers\\rnn\\rnn.py:199: UserWarning: Do not pass an `input_shape`/`input_dim` argument to a layer. When using Sequential models, prefer using an `Input(shape)` object as the first layer in the model instead.\n",
      "  super().__init__(**kwargs)\n"
     ]
    },
    {
     "name": "stdout",
     "output_type": "stream",
     "text": [
      "✅ Tried: steps=30, units=(64,64,64), dropouts=(0.2,0.3,0.2), epochs=10, batch=16, R²=-1.0466\n"
     ]
    },
    {
     "name": "stderr",
     "output_type": "stream",
     "text": [
      "C:\\Users\\prana\\PycharmProjects\\Intern\\.venv\\Lib\\site-packages\\keras\\src\\layers\\rnn\\rnn.py:199: UserWarning: Do not pass an `input_shape`/`input_dim` argument to a layer. When using Sequential models, prefer using an `Input(shape)` object as the first layer in the model instead.\n",
      "  super().__init__(**kwargs)\n"
     ]
    },
    {
     "name": "stdout",
     "output_type": "stream",
     "text": [
      "✅ Tried: steps=30, units=(64,64,64), dropouts=(0.2,0.3,0.2), epochs=30, batch=16, R²=-4.3423\n"
     ]
    },
    {
     "name": "stderr",
     "output_type": "stream",
     "text": [
      "C:\\Users\\prana\\PycharmProjects\\Intern\\.venv\\Lib\\site-packages\\keras\\src\\layers\\rnn\\rnn.py:199: UserWarning: Do not pass an `input_shape`/`input_dim` argument to a layer. When using Sequential models, prefer using an `Input(shape)` object as the first layer in the model instead.\n",
      "  super().__init__(**kwargs)\n"
     ]
    },
    {
     "name": "stdout",
     "output_type": "stream",
     "text": [
      "✅ Tried: steps=30, units=(64,64,64), dropouts=(0.2,0.3,0.3), epochs=10, batch=16, R²=-0.0137\n"
     ]
    },
    {
     "name": "stderr",
     "output_type": "stream",
     "text": [
      "C:\\Users\\prana\\PycharmProjects\\Intern\\.venv\\Lib\\site-packages\\keras\\src\\layers\\rnn\\rnn.py:199: UserWarning: Do not pass an `input_shape`/`input_dim` argument to a layer. When using Sequential models, prefer using an `Input(shape)` object as the first layer in the model instead.\n",
      "  super().__init__(**kwargs)\n"
     ]
    },
    {
     "name": "stdout",
     "output_type": "stream",
     "text": [
      "✅ Tried: steps=30, units=(64,64,64), dropouts=(0.2,0.3,0.3), epochs=30, batch=16, R²=0.2806\n"
     ]
    },
    {
     "name": "stderr",
     "output_type": "stream",
     "text": [
      "C:\\Users\\prana\\PycharmProjects\\Intern\\.venv\\Lib\\site-packages\\keras\\src\\layers\\rnn\\rnn.py:199: UserWarning: Do not pass an `input_shape`/`input_dim` argument to a layer. When using Sequential models, prefer using an `Input(shape)` object as the first layer in the model instead.\n",
      "  super().__init__(**kwargs)\n"
     ]
    },
    {
     "name": "stdout",
     "output_type": "stream",
     "text": [
      "✅ Tried: steps=30, units=(64,64,64), dropouts=(0.3,0.2,0.2), epochs=10, batch=16, R²=0.0597\n"
     ]
    },
    {
     "name": "stderr",
     "output_type": "stream",
     "text": [
      "C:\\Users\\prana\\PycharmProjects\\Intern\\.venv\\Lib\\site-packages\\keras\\src\\layers\\rnn\\rnn.py:199: UserWarning: Do not pass an `input_shape`/`input_dim` argument to a layer. When using Sequential models, prefer using an `Input(shape)` object as the first layer in the model instead.\n",
      "  super().__init__(**kwargs)\n"
     ]
    },
    {
     "name": "stdout",
     "output_type": "stream",
     "text": [
      "✅ Tried: steps=30, units=(64,64,64), dropouts=(0.3,0.2,0.2), epochs=30, batch=16, R²=0.2320\n"
     ]
    },
    {
     "name": "stderr",
     "output_type": "stream",
     "text": [
      "C:\\Users\\prana\\PycharmProjects\\Intern\\.venv\\Lib\\site-packages\\keras\\src\\layers\\rnn\\rnn.py:199: UserWarning: Do not pass an `input_shape`/`input_dim` argument to a layer. When using Sequential models, prefer using an `Input(shape)` object as the first layer in the model instead.\n",
      "  super().__init__(**kwargs)\n"
     ]
    },
    {
     "name": "stdout",
     "output_type": "stream",
     "text": [
      "✅ Tried: steps=30, units=(64,64,64), dropouts=(0.3,0.2,0.3), epochs=10, batch=16, R²=-0.2598\n"
     ]
    },
    {
     "name": "stderr",
     "output_type": "stream",
     "text": [
      "C:\\Users\\prana\\PycharmProjects\\Intern\\.venv\\Lib\\site-packages\\keras\\src\\layers\\rnn\\rnn.py:199: UserWarning: Do not pass an `input_shape`/`input_dim` argument to a layer. When using Sequential models, prefer using an `Input(shape)` object as the first layer in the model instead.\n",
      "  super().__init__(**kwargs)\n"
     ]
    },
    {
     "name": "stdout",
     "output_type": "stream",
     "text": [
      "✅ Tried: steps=30, units=(64,64,64), dropouts=(0.3,0.2,0.3), epochs=30, batch=16, R²=-5.6734\n"
     ]
    },
    {
     "name": "stderr",
     "output_type": "stream",
     "text": [
      "C:\\Users\\prana\\PycharmProjects\\Intern\\.venv\\Lib\\site-packages\\keras\\src\\layers\\rnn\\rnn.py:199: UserWarning: Do not pass an `input_shape`/`input_dim` argument to a layer. When using Sequential models, prefer using an `Input(shape)` object as the first layer in the model instead.\n",
      "  super().__init__(**kwargs)\n"
     ]
    },
    {
     "name": "stdout",
     "output_type": "stream",
     "text": [
      "✅ Tried: steps=30, units=(64,64,64), dropouts=(0.3,0.3,0.2), epochs=10, batch=16, R²=-0.4631\n"
     ]
    },
    {
     "name": "stderr",
     "output_type": "stream",
     "text": [
      "C:\\Users\\prana\\PycharmProjects\\Intern\\.venv\\Lib\\site-packages\\keras\\src\\layers\\rnn\\rnn.py:199: UserWarning: Do not pass an `input_shape`/`input_dim` argument to a layer. When using Sequential models, prefer using an `Input(shape)` object as the first layer in the model instead.\n",
      "  super().__init__(**kwargs)\n"
     ]
    },
    {
     "name": "stdout",
     "output_type": "stream",
     "text": [
      "✅ Tried: steps=30, units=(64,64,64), dropouts=(0.3,0.3,0.2), epochs=30, batch=16, R²=0.2273\n"
     ]
    },
    {
     "name": "stderr",
     "output_type": "stream",
     "text": [
      "C:\\Users\\prana\\PycharmProjects\\Intern\\.venv\\Lib\\site-packages\\keras\\src\\layers\\rnn\\rnn.py:199: UserWarning: Do not pass an `input_shape`/`input_dim` argument to a layer. When using Sequential models, prefer using an `Input(shape)` object as the first layer in the model instead.\n",
      "  super().__init__(**kwargs)\n"
     ]
    },
    {
     "name": "stdout",
     "output_type": "stream",
     "text": [
      "✅ Tried: steps=30, units=(64,64,64), dropouts=(0.3,0.3,0.3), epochs=10, batch=16, R²=0.3038\n"
     ]
    },
    {
     "name": "stderr",
     "output_type": "stream",
     "text": [
      "C:\\Users\\prana\\PycharmProjects\\Intern\\.venv\\Lib\\site-packages\\keras\\src\\layers\\rnn\\rnn.py:199: UserWarning: Do not pass an `input_shape`/`input_dim` argument to a layer. When using Sequential models, prefer using an `Input(shape)` object as the first layer in the model instead.\n",
      "  super().__init__(**kwargs)\n"
     ]
    },
    {
     "name": "stdout",
     "output_type": "stream",
     "text": [
      "✅ Tried: steps=30, units=(64,64,64), dropouts=(0.3,0.3,0.3), epochs=30, batch=16, R²=0.3942\n"
     ]
    },
    {
     "name": "stderr",
     "output_type": "stream",
     "text": [
      "C:\\Users\\prana\\PycharmProjects\\Intern\\.venv\\Lib\\site-packages\\keras\\src\\layers\\rnn\\rnn.py:199: UserWarning: Do not pass an `input_shape`/`input_dim` argument to a layer. When using Sequential models, prefer using an `Input(shape)` object as the first layer in the model instead.\n",
      "  super().__init__(**kwargs)\n"
     ]
    },
    {
     "name": "stdout",
     "output_type": "stream",
     "text": [
      "✅ Tried: steps=30, units=(64,64,128), dropouts=(0.2,0.2,0.2), epochs=10, batch=16, R²=0.3280\n"
     ]
    },
    {
     "name": "stderr",
     "output_type": "stream",
     "text": [
      "C:\\Users\\prana\\PycharmProjects\\Intern\\.venv\\Lib\\site-packages\\keras\\src\\layers\\rnn\\rnn.py:199: UserWarning: Do not pass an `input_shape`/`input_dim` argument to a layer. When using Sequential models, prefer using an `Input(shape)` object as the first layer in the model instead.\n",
      "  super().__init__(**kwargs)\n"
     ]
    },
    {
     "name": "stdout",
     "output_type": "stream",
     "text": [
      "✅ Tried: steps=30, units=(64,64,128), dropouts=(0.2,0.2,0.2), epochs=30, batch=16, R²=-0.5135\n"
     ]
    },
    {
     "name": "stderr",
     "output_type": "stream",
     "text": [
      "C:\\Users\\prana\\PycharmProjects\\Intern\\.venv\\Lib\\site-packages\\keras\\src\\layers\\rnn\\rnn.py:199: UserWarning: Do not pass an `input_shape`/`input_dim` argument to a layer. When using Sequential models, prefer using an `Input(shape)` object as the first layer in the model instead.\n",
      "  super().__init__(**kwargs)\n"
     ]
    },
    {
     "name": "stdout",
     "output_type": "stream",
     "text": [
      "✅ Tried: steps=30, units=(64,64,128), dropouts=(0.2,0.2,0.3), epochs=10, batch=16, R²=-3.9587\n"
     ]
    },
    {
     "name": "stderr",
     "output_type": "stream",
     "text": [
      "C:\\Users\\prana\\PycharmProjects\\Intern\\.venv\\Lib\\site-packages\\keras\\src\\layers\\rnn\\rnn.py:199: UserWarning: Do not pass an `input_shape`/`input_dim` argument to a layer. When using Sequential models, prefer using an `Input(shape)` object as the first layer in the model instead.\n",
      "  super().__init__(**kwargs)\n"
     ]
    },
    {
     "name": "stdout",
     "output_type": "stream",
     "text": [
      "✅ Tried: steps=30, units=(64,64,128), dropouts=(0.2,0.2,0.3), epochs=30, batch=16, R²=-3.2988\n"
     ]
    },
    {
     "name": "stderr",
     "output_type": "stream",
     "text": [
      "C:\\Users\\prana\\PycharmProjects\\Intern\\.venv\\Lib\\site-packages\\keras\\src\\layers\\rnn\\rnn.py:199: UserWarning: Do not pass an `input_shape`/`input_dim` argument to a layer. When using Sequential models, prefer using an `Input(shape)` object as the first layer in the model instead.\n",
      "  super().__init__(**kwargs)\n"
     ]
    },
    {
     "name": "stdout",
     "output_type": "stream",
     "text": [
      "✅ Tried: steps=30, units=(64,64,128), dropouts=(0.2,0.3,0.2), epochs=10, batch=16, R²=0.1176\n"
     ]
    },
    {
     "name": "stderr",
     "output_type": "stream",
     "text": [
      "C:\\Users\\prana\\PycharmProjects\\Intern\\.venv\\Lib\\site-packages\\keras\\src\\layers\\rnn\\rnn.py:199: UserWarning: Do not pass an `input_shape`/`input_dim` argument to a layer. When using Sequential models, prefer using an `Input(shape)` object as the first layer in the model instead.\n",
      "  super().__init__(**kwargs)\n"
     ]
    },
    {
     "name": "stdout",
     "output_type": "stream",
     "text": [
      "✅ Tried: steps=30, units=(64,64,128), dropouts=(0.2,0.3,0.2), epochs=30, batch=16, R²=0.0674\n"
     ]
    },
    {
     "name": "stderr",
     "output_type": "stream",
     "text": [
      "C:\\Users\\prana\\PycharmProjects\\Intern\\.venv\\Lib\\site-packages\\keras\\src\\layers\\rnn\\rnn.py:199: UserWarning: Do not pass an `input_shape`/`input_dim` argument to a layer. When using Sequential models, prefer using an `Input(shape)` object as the first layer in the model instead.\n",
      "  super().__init__(**kwargs)\n"
     ]
    },
    {
     "name": "stdout",
     "output_type": "stream",
     "text": [
      "✅ Tried: steps=30, units=(64,64,128), dropouts=(0.2,0.3,0.3), epochs=10, batch=16, R²=0.2721\n"
     ]
    },
    {
     "name": "stderr",
     "output_type": "stream",
     "text": [
      "C:\\Users\\prana\\PycharmProjects\\Intern\\.venv\\Lib\\site-packages\\keras\\src\\layers\\rnn\\rnn.py:199: UserWarning: Do not pass an `input_shape`/`input_dim` argument to a layer. When using Sequential models, prefer using an `Input(shape)` object as the first layer in the model instead.\n",
      "  super().__init__(**kwargs)\n"
     ]
    },
    {
     "name": "stdout",
     "output_type": "stream",
     "text": [
      "✅ Tried: steps=30, units=(64,64,128), dropouts=(0.2,0.3,0.3), epochs=30, batch=16, R²=-0.0970\n"
     ]
    },
    {
     "name": "stderr",
     "output_type": "stream",
     "text": [
      "C:\\Users\\prana\\PycharmProjects\\Intern\\.venv\\Lib\\site-packages\\keras\\src\\layers\\rnn\\rnn.py:199: UserWarning: Do not pass an `input_shape`/`input_dim` argument to a layer. When using Sequential models, prefer using an `Input(shape)` object as the first layer in the model instead.\n",
      "  super().__init__(**kwargs)\n"
     ]
    },
    {
     "name": "stdout",
     "output_type": "stream",
     "text": [
      "✅ Tried: steps=30, units=(64,64,128), dropouts=(0.3,0.2,0.2), epochs=10, batch=16, R²=0.0193\n"
     ]
    },
    {
     "name": "stderr",
     "output_type": "stream",
     "text": [
      "C:\\Users\\prana\\PycharmProjects\\Intern\\.venv\\Lib\\site-packages\\keras\\src\\layers\\rnn\\rnn.py:199: UserWarning: Do not pass an `input_shape`/`input_dim` argument to a layer. When using Sequential models, prefer using an `Input(shape)` object as the first layer in the model instead.\n",
      "  super().__init__(**kwargs)\n"
     ]
    },
    {
     "name": "stdout",
     "output_type": "stream",
     "text": [
      "✅ Tried: steps=30, units=(64,64,128), dropouts=(0.3,0.2,0.2), epochs=30, batch=16, R²=0.3156\n"
     ]
    },
    {
     "name": "stderr",
     "output_type": "stream",
     "text": [
      "C:\\Users\\prana\\PycharmProjects\\Intern\\.venv\\Lib\\site-packages\\keras\\src\\layers\\rnn\\rnn.py:199: UserWarning: Do not pass an `input_shape`/`input_dim` argument to a layer. When using Sequential models, prefer using an `Input(shape)` object as the first layer in the model instead.\n",
      "  super().__init__(**kwargs)\n"
     ]
    },
    {
     "name": "stdout",
     "output_type": "stream",
     "text": [
      "✅ Tried: steps=30, units=(64,64,128), dropouts=(0.3,0.2,0.3), epochs=10, batch=16, R²=-0.1964\n"
     ]
    },
    {
     "name": "stderr",
     "output_type": "stream",
     "text": [
      "C:\\Users\\prana\\PycharmProjects\\Intern\\.venv\\Lib\\site-packages\\keras\\src\\layers\\rnn\\rnn.py:199: UserWarning: Do not pass an `input_shape`/`input_dim` argument to a layer. When using Sequential models, prefer using an `Input(shape)` object as the first layer in the model instead.\n",
      "  super().__init__(**kwargs)\n"
     ]
    },
    {
     "name": "stdout",
     "output_type": "stream",
     "text": [
      "✅ Tried: steps=30, units=(64,64,128), dropouts=(0.3,0.2,0.3), epochs=30, batch=16, R²=-3.7791\n"
     ]
    },
    {
     "name": "stderr",
     "output_type": "stream",
     "text": [
      "C:\\Users\\prana\\PycharmProjects\\Intern\\.venv\\Lib\\site-packages\\keras\\src\\layers\\rnn\\rnn.py:199: UserWarning: Do not pass an `input_shape`/`input_dim` argument to a layer. When using Sequential models, prefer using an `Input(shape)` object as the first layer in the model instead.\n",
      "  super().__init__(**kwargs)\n"
     ]
    },
    {
     "name": "stdout",
     "output_type": "stream",
     "text": [
      "✅ Tried: steps=30, units=(64,64,128), dropouts=(0.3,0.3,0.2), epochs=10, batch=16, R²=0.3292\n"
     ]
    },
    {
     "name": "stderr",
     "output_type": "stream",
     "text": [
      "C:\\Users\\prana\\PycharmProjects\\Intern\\.venv\\Lib\\site-packages\\keras\\src\\layers\\rnn\\rnn.py:199: UserWarning: Do not pass an `input_shape`/`input_dim` argument to a layer. When using Sequential models, prefer using an `Input(shape)` object as the first layer in the model instead.\n",
      "  super().__init__(**kwargs)\n"
     ]
    },
    {
     "name": "stdout",
     "output_type": "stream",
     "text": [
      "✅ Tried: steps=30, units=(64,64,128), dropouts=(0.3,0.3,0.2), epochs=30, batch=16, R²=0.3345\n"
     ]
    },
    {
     "name": "stderr",
     "output_type": "stream",
     "text": [
      "C:\\Users\\prana\\PycharmProjects\\Intern\\.venv\\Lib\\site-packages\\keras\\src\\layers\\rnn\\rnn.py:199: UserWarning: Do not pass an `input_shape`/`input_dim` argument to a layer. When using Sequential models, prefer using an `Input(shape)` object as the first layer in the model instead.\n",
      "  super().__init__(**kwargs)\n"
     ]
    },
    {
     "name": "stdout",
     "output_type": "stream",
     "text": [
      "✅ Tried: steps=30, units=(64,64,128), dropouts=(0.3,0.3,0.3), epochs=10, batch=16, R²=0.2154\n"
     ]
    },
    {
     "name": "stderr",
     "output_type": "stream",
     "text": [
      "C:\\Users\\prana\\PycharmProjects\\Intern\\.venv\\Lib\\site-packages\\keras\\src\\layers\\rnn\\rnn.py:199: UserWarning: Do not pass an `input_shape`/`input_dim` argument to a layer. When using Sequential models, prefer using an `Input(shape)` object as the first layer in the model instead.\n",
      "  super().__init__(**kwargs)\n"
     ]
    },
    {
     "name": "stdout",
     "output_type": "stream",
     "text": [
      "✅ Tried: steps=30, units=(64,64,128), dropouts=(0.3,0.3,0.3), epochs=30, batch=16, R²=0.0141\n"
     ]
    },
    {
     "name": "stderr",
     "output_type": "stream",
     "text": [
      "C:\\Users\\prana\\PycharmProjects\\Intern\\.venv\\Lib\\site-packages\\keras\\src\\layers\\rnn\\rnn.py:199: UserWarning: Do not pass an `input_shape`/`input_dim` argument to a layer. When using Sequential models, prefer using an `Input(shape)` object as the first layer in the model instead.\n",
      "  super().__init__(**kwargs)\n"
     ]
    },
    {
     "name": "stdout",
     "output_type": "stream",
     "text": [
      "✅ Tried: steps=30, units=(64,128,32), dropouts=(0.2,0.2,0.2), epochs=10, batch=16, R²=-0.2310\n"
     ]
    },
    {
     "name": "stderr",
     "output_type": "stream",
     "text": [
      "C:\\Users\\prana\\PycharmProjects\\Intern\\.venv\\Lib\\site-packages\\keras\\src\\layers\\rnn\\rnn.py:199: UserWarning: Do not pass an `input_shape`/`input_dim` argument to a layer. When using Sequential models, prefer using an `Input(shape)` object as the first layer in the model instead.\n",
      "  super().__init__(**kwargs)\n"
     ]
    },
    {
     "name": "stdout",
     "output_type": "stream",
     "text": [
      "✅ Tried: steps=30, units=(64,128,32), dropouts=(0.2,0.2,0.2), epochs=30, batch=16, R²=-16.4467\n"
     ]
    },
    {
     "name": "stderr",
     "output_type": "stream",
     "text": [
      "C:\\Users\\prana\\PycharmProjects\\Intern\\.venv\\Lib\\site-packages\\keras\\src\\layers\\rnn\\rnn.py:199: UserWarning: Do not pass an `input_shape`/`input_dim` argument to a layer. When using Sequential models, prefer using an `Input(shape)` object as the first layer in the model instead.\n",
      "  super().__init__(**kwargs)\n"
     ]
    },
    {
     "name": "stdout",
     "output_type": "stream",
     "text": [
      "✅ Tried: steps=30, units=(64,128,32), dropouts=(0.2,0.2,0.3), epochs=10, batch=16, R²=-2.9535\n"
     ]
    },
    {
     "name": "stderr",
     "output_type": "stream",
     "text": [
      "C:\\Users\\prana\\PycharmProjects\\Intern\\.venv\\Lib\\site-packages\\keras\\src\\layers\\rnn\\rnn.py:199: UserWarning: Do not pass an `input_shape`/`input_dim` argument to a layer. When using Sequential models, prefer using an `Input(shape)` object as the first layer in the model instead.\n",
      "  super().__init__(**kwargs)\n"
     ]
    },
    {
     "name": "stdout",
     "output_type": "stream",
     "text": [
      "✅ Tried: steps=30, units=(64,128,32), dropouts=(0.2,0.2,0.3), epochs=30, batch=16, R²=0.1750\n"
     ]
    },
    {
     "name": "stderr",
     "output_type": "stream",
     "text": [
      "C:\\Users\\prana\\PycharmProjects\\Intern\\.venv\\Lib\\site-packages\\keras\\src\\layers\\rnn\\rnn.py:199: UserWarning: Do not pass an `input_shape`/`input_dim` argument to a layer. When using Sequential models, prefer using an `Input(shape)` object as the first layer in the model instead.\n",
      "  super().__init__(**kwargs)\n"
     ]
    },
    {
     "name": "stdout",
     "output_type": "stream",
     "text": [
      "✅ Tried: steps=30, units=(64,128,32), dropouts=(0.2,0.3,0.2), epochs=10, batch=16, R²=-0.8393\n"
     ]
    },
    {
     "name": "stderr",
     "output_type": "stream",
     "text": [
      "C:\\Users\\prana\\PycharmProjects\\Intern\\.venv\\Lib\\site-packages\\keras\\src\\layers\\rnn\\rnn.py:199: UserWarning: Do not pass an `input_shape`/`input_dim` argument to a layer. When using Sequential models, prefer using an `Input(shape)` object as the first layer in the model instead.\n",
      "  super().__init__(**kwargs)\n"
     ]
    },
    {
     "name": "stdout",
     "output_type": "stream",
     "text": [
      "✅ Tried: steps=30, units=(64,128,32), dropouts=(0.2,0.3,0.2), epochs=30, batch=16, R²=-2.1833\n"
     ]
    },
    {
     "name": "stderr",
     "output_type": "stream",
     "text": [
      "C:\\Users\\prana\\PycharmProjects\\Intern\\.venv\\Lib\\site-packages\\keras\\src\\layers\\rnn\\rnn.py:199: UserWarning: Do not pass an `input_shape`/`input_dim` argument to a layer. When using Sequential models, prefer using an `Input(shape)` object as the first layer in the model instead.\n",
      "  super().__init__(**kwargs)\n"
     ]
    },
    {
     "name": "stdout",
     "output_type": "stream",
     "text": [
      "✅ Tried: steps=30, units=(64,128,32), dropouts=(0.2,0.3,0.3), epochs=10, batch=16, R²=0.2314\n"
     ]
    },
    {
     "name": "stderr",
     "output_type": "stream",
     "text": [
      "C:\\Users\\prana\\PycharmProjects\\Intern\\.venv\\Lib\\site-packages\\keras\\src\\layers\\rnn\\rnn.py:199: UserWarning: Do not pass an `input_shape`/`input_dim` argument to a layer. When using Sequential models, prefer using an `Input(shape)` object as the first layer in the model instead.\n",
      "  super().__init__(**kwargs)\n"
     ]
    },
    {
     "name": "stdout",
     "output_type": "stream",
     "text": [
      "✅ Tried: steps=30, units=(64,128,32), dropouts=(0.2,0.3,0.3), epochs=30, batch=16, R²=-12.9412\n"
     ]
    },
    {
     "name": "stderr",
     "output_type": "stream",
     "text": [
      "C:\\Users\\prana\\PycharmProjects\\Intern\\.venv\\Lib\\site-packages\\keras\\src\\layers\\rnn\\rnn.py:199: UserWarning: Do not pass an `input_shape`/`input_dim` argument to a layer. When using Sequential models, prefer using an `Input(shape)` object as the first layer in the model instead.\n",
      "  super().__init__(**kwargs)\n"
     ]
    },
    {
     "name": "stdout",
     "output_type": "stream",
     "text": [
      "✅ Tried: steps=30, units=(64,128,32), dropouts=(0.3,0.2,0.2), epochs=10, batch=16, R²=0.2718\n"
     ]
    },
    {
     "name": "stderr",
     "output_type": "stream",
     "text": [
      "C:\\Users\\prana\\PycharmProjects\\Intern\\.venv\\Lib\\site-packages\\keras\\src\\layers\\rnn\\rnn.py:199: UserWarning: Do not pass an `input_shape`/`input_dim` argument to a layer. When using Sequential models, prefer using an `Input(shape)` object as the first layer in the model instead.\n",
      "  super().__init__(**kwargs)\n"
     ]
    },
    {
     "name": "stdout",
     "output_type": "stream",
     "text": [
      "✅ Tried: steps=30, units=(64,128,32), dropouts=(0.3,0.2,0.2), epochs=30, batch=16, R²=-0.3033\n"
     ]
    },
    {
     "name": "stderr",
     "output_type": "stream",
     "text": [
      "C:\\Users\\prana\\PycharmProjects\\Intern\\.venv\\Lib\\site-packages\\keras\\src\\layers\\rnn\\rnn.py:199: UserWarning: Do not pass an `input_shape`/`input_dim` argument to a layer. When using Sequential models, prefer using an `Input(shape)` object as the first layer in the model instead.\n",
      "  super().__init__(**kwargs)\n"
     ]
    },
    {
     "name": "stdout",
     "output_type": "stream",
     "text": [
      "✅ Tried: steps=30, units=(64,128,32), dropouts=(0.3,0.2,0.3), epochs=10, batch=16, R²=-1.0209\n"
     ]
    },
    {
     "name": "stderr",
     "output_type": "stream",
     "text": [
      "C:\\Users\\prana\\PycharmProjects\\Intern\\.venv\\Lib\\site-packages\\keras\\src\\layers\\rnn\\rnn.py:199: UserWarning: Do not pass an `input_shape`/`input_dim` argument to a layer. When using Sequential models, prefer using an `Input(shape)` object as the first layer in the model instead.\n",
      "  super().__init__(**kwargs)\n"
     ]
    },
    {
     "name": "stdout",
     "output_type": "stream",
     "text": [
      "✅ Tried: steps=30, units=(64,128,32), dropouts=(0.3,0.2,0.3), epochs=30, batch=16, R²=-1.7112\n"
     ]
    },
    {
     "name": "stderr",
     "output_type": "stream",
     "text": [
      "C:\\Users\\prana\\PycharmProjects\\Intern\\.venv\\Lib\\site-packages\\keras\\src\\layers\\rnn\\rnn.py:199: UserWarning: Do not pass an `input_shape`/`input_dim` argument to a layer. When using Sequential models, prefer using an `Input(shape)` object as the first layer in the model instead.\n",
      "  super().__init__(**kwargs)\n"
     ]
    },
    {
     "name": "stdout",
     "output_type": "stream",
     "text": [
      "✅ Tried: steps=30, units=(64,128,32), dropouts=(0.3,0.3,0.2), epochs=10, batch=16, R²=0.3216\n"
     ]
    },
    {
     "name": "stderr",
     "output_type": "stream",
     "text": [
      "C:\\Users\\prana\\PycharmProjects\\Intern\\.venv\\Lib\\site-packages\\keras\\src\\layers\\rnn\\rnn.py:199: UserWarning: Do not pass an `input_shape`/`input_dim` argument to a layer. When using Sequential models, prefer using an `Input(shape)` object as the first layer in the model instead.\n",
      "  super().__init__(**kwargs)\n"
     ]
    },
    {
     "name": "stdout",
     "output_type": "stream",
     "text": [
      "✅ Tried: steps=30, units=(64,128,32), dropouts=(0.3,0.3,0.2), epochs=30, batch=16, R²=-0.9920\n"
     ]
    },
    {
     "name": "stderr",
     "output_type": "stream",
     "text": [
      "C:\\Users\\prana\\PycharmProjects\\Intern\\.venv\\Lib\\site-packages\\keras\\src\\layers\\rnn\\rnn.py:199: UserWarning: Do not pass an `input_shape`/`input_dim` argument to a layer. When using Sequential models, prefer using an `Input(shape)` object as the first layer in the model instead.\n",
      "  super().__init__(**kwargs)\n"
     ]
    },
    {
     "name": "stdout",
     "output_type": "stream",
     "text": [
      "✅ Tried: steps=30, units=(64,128,32), dropouts=(0.3,0.3,0.3), epochs=10, batch=16, R²=-0.0234\n"
     ]
    },
    {
     "name": "stderr",
     "output_type": "stream",
     "text": [
      "C:\\Users\\prana\\PycharmProjects\\Intern\\.venv\\Lib\\site-packages\\keras\\src\\layers\\rnn\\rnn.py:199: UserWarning: Do not pass an `input_shape`/`input_dim` argument to a layer. When using Sequential models, prefer using an `Input(shape)` object as the first layer in the model instead.\n",
      "  super().__init__(**kwargs)\n"
     ]
    },
    {
     "name": "stdout",
     "output_type": "stream",
     "text": [
      "✅ Tried: steps=30, units=(64,128,32), dropouts=(0.3,0.3,0.3), epochs=30, batch=16, R²=0.0001\n"
     ]
    },
    {
     "name": "stderr",
     "output_type": "stream",
     "text": [
      "C:\\Users\\prana\\PycharmProjects\\Intern\\.venv\\Lib\\site-packages\\keras\\src\\layers\\rnn\\rnn.py:199: UserWarning: Do not pass an `input_shape`/`input_dim` argument to a layer. When using Sequential models, prefer using an `Input(shape)` object as the first layer in the model instead.\n",
      "  super().__init__(**kwargs)\n"
     ]
    },
    {
     "ename": "KeyboardInterrupt",
     "evalue": "",
     "output_type": "error",
     "traceback": [
      "\u001B[31m---------------------------------------------------------------------------\u001B[39m",
      "\u001B[31mKeyboardInterrupt\u001B[39m                         Traceback (most recent call last)",
      "\u001B[36mCell\u001B[39m\u001B[36m \u001B[39m\u001B[32mIn[5]\u001B[39m\u001B[32m, line 89\u001B[39m\n\u001B[32m     86\u001B[39m early_stop = EarlyStopping(monitor=\u001B[33m'\u001B[39m\u001B[33mval_loss\u001B[39m\u001B[33m'\u001B[39m, patience=\u001B[32m2\u001B[39m, restore_best_weights=\u001B[38;5;28;01mTrue\u001B[39;00m)\n\u001B[32m     88\u001B[39m \u001B[38;5;66;03m# Train model\u001B[39;00m\n\u001B[32m---> \u001B[39m\u001B[32m89\u001B[39m \u001B[43mmodel\u001B[49m\u001B[43m.\u001B[49m\u001B[43mfit\u001B[49m\u001B[43m(\u001B[49m\u001B[43mX_train\u001B[49m\u001B[43m,\u001B[49m\u001B[43m \u001B[49m\u001B[43my_train\u001B[49m\u001B[43m,\u001B[49m\n\u001B[32m     90\u001B[39m \u001B[43m          \u001B[49m\u001B[43mepochs\u001B[49m\u001B[43m=\u001B[49m\u001B[43mepochs\u001B[49m\u001B[43m,\u001B[49m\n\u001B[32m     91\u001B[39m \u001B[43m          \u001B[49m\u001B[43mbatch_size\u001B[49m\u001B[43m=\u001B[49m\u001B[43mbatch_size\u001B[49m\u001B[43m,\u001B[49m\n\u001B[32m     92\u001B[39m \u001B[43m          \u001B[49m\u001B[43mvalidation_split\u001B[49m\u001B[43m=\u001B[49m\u001B[32;43m0.2\u001B[39;49m\u001B[43m,\u001B[49m\n\u001B[32m     93\u001B[39m \u001B[43m          \u001B[49m\u001B[43mcallbacks\u001B[49m\u001B[43m=\u001B[49m\u001B[43m[\u001B[49m\u001B[43mearly_stop\u001B[49m\u001B[43m]\u001B[49m\u001B[43m,\u001B[49m\n\u001B[32m     94\u001B[39m \u001B[43m          \u001B[49m\u001B[43mverbose\u001B[49m\u001B[43m=\u001B[49m\u001B[32;43m0\u001B[39;49m\u001B[43m)\u001B[49m\n\u001B[32m     96\u001B[39m \u001B[38;5;66;03m# Predict next 18 steps\u001B[39;00m\n\u001B[32m     97\u001B[39m input_seq = scaled_train[-time_steps:]\n",
      "\u001B[36mFile \u001B[39m\u001B[32m~\\PycharmProjects\\Intern\\.venv\\Lib\\site-packages\\keras\\src\\utils\\traceback_utils.py:117\u001B[39m, in \u001B[36mfilter_traceback.<locals>.error_handler\u001B[39m\u001B[34m(*args, **kwargs)\u001B[39m\n\u001B[32m    115\u001B[39m filtered_tb = \u001B[38;5;28;01mNone\u001B[39;00m\n\u001B[32m    116\u001B[39m \u001B[38;5;28;01mtry\u001B[39;00m:\n\u001B[32m--> \u001B[39m\u001B[32m117\u001B[39m     \u001B[38;5;28;01mreturn\u001B[39;00m \u001B[43mfn\u001B[49m\u001B[43m(\u001B[49m\u001B[43m*\u001B[49m\u001B[43margs\u001B[49m\u001B[43m,\u001B[49m\u001B[43m \u001B[49m\u001B[43m*\u001B[49m\u001B[43m*\u001B[49m\u001B[43mkwargs\u001B[49m\u001B[43m)\u001B[49m\n\u001B[32m    118\u001B[39m \u001B[38;5;28;01mexcept\u001B[39;00m \u001B[38;5;167;01mException\u001B[39;00m \u001B[38;5;28;01mas\u001B[39;00m e:\n\u001B[32m    119\u001B[39m     filtered_tb = _process_traceback_frames(e.__traceback__)\n",
      "\u001B[36mFile \u001B[39m\u001B[32m~\\PycharmProjects\\Intern\\.venv\\Lib\\site-packages\\keras\\src\\backend\\tensorflow\\trainer.py:377\u001B[39m, in \u001B[36mTensorFlowTrainer.fit\u001B[39m\u001B[34m(self, x, y, batch_size, epochs, verbose, callbacks, validation_split, validation_data, shuffle, class_weight, sample_weight, initial_epoch, steps_per_epoch, validation_steps, validation_batch_size, validation_freq)\u001B[39m\n\u001B[32m    375\u001B[39m \u001B[38;5;28;01mfor\u001B[39;00m begin_step, end_step, iterator \u001B[38;5;129;01min\u001B[39;00m epoch_iterator:\n\u001B[32m    376\u001B[39m     callbacks.on_train_batch_begin(begin_step)\n\u001B[32m--> \u001B[39m\u001B[32m377\u001B[39m     logs = \u001B[38;5;28;43mself\u001B[39;49m\u001B[43m.\u001B[49m\u001B[43mtrain_function\u001B[49m\u001B[43m(\u001B[49m\u001B[43miterator\u001B[49m\u001B[43m)\u001B[49m\n\u001B[32m    378\u001B[39m     callbacks.on_train_batch_end(end_step, logs)\n\u001B[32m    379\u001B[39m     \u001B[38;5;28;01mif\u001B[39;00m \u001B[38;5;28mself\u001B[39m.stop_training:\n",
      "\u001B[36mFile \u001B[39m\u001B[32m~\\PycharmProjects\\Intern\\.venv\\Lib\\site-packages\\keras\\src\\backend\\tensorflow\\trainer.py:220\u001B[39m, in \u001B[36mTensorFlowTrainer._make_function.<locals>.function\u001B[39m\u001B[34m(iterator)\u001B[39m\n\u001B[32m    216\u001B[39m \u001B[38;5;28;01mdef\u001B[39;00m\u001B[38;5;250m \u001B[39m\u001B[34mfunction\u001B[39m(iterator):\n\u001B[32m    217\u001B[39m     \u001B[38;5;28;01mif\u001B[39;00m \u001B[38;5;28misinstance\u001B[39m(\n\u001B[32m    218\u001B[39m         iterator, (tf.data.Iterator, tf.distribute.DistributedIterator)\n\u001B[32m    219\u001B[39m     ):\n\u001B[32m--> \u001B[39m\u001B[32m220\u001B[39m         opt_outputs = \u001B[43mmulti_step_on_iterator\u001B[49m\u001B[43m(\u001B[49m\u001B[43miterator\u001B[49m\u001B[43m)\u001B[49m\n\u001B[32m    221\u001B[39m         \u001B[38;5;28;01mif\u001B[39;00m \u001B[38;5;129;01mnot\u001B[39;00m opt_outputs.has_value():\n\u001B[32m    222\u001B[39m             \u001B[38;5;28;01mraise\u001B[39;00m \u001B[38;5;167;01mStopIteration\u001B[39;00m\n",
      "\u001B[36mFile \u001B[39m\u001B[32m~\\PycharmProjects\\Intern\\.venv\\Lib\\site-packages\\tensorflow\\python\\util\\traceback_utils.py:150\u001B[39m, in \u001B[36mfilter_traceback.<locals>.error_handler\u001B[39m\u001B[34m(*args, **kwargs)\u001B[39m\n\u001B[32m    148\u001B[39m filtered_tb = \u001B[38;5;28;01mNone\u001B[39;00m\n\u001B[32m    149\u001B[39m \u001B[38;5;28;01mtry\u001B[39;00m:\n\u001B[32m--> \u001B[39m\u001B[32m150\u001B[39m   \u001B[38;5;28;01mreturn\u001B[39;00m \u001B[43mfn\u001B[49m\u001B[43m(\u001B[49m\u001B[43m*\u001B[49m\u001B[43margs\u001B[49m\u001B[43m,\u001B[49m\u001B[43m \u001B[49m\u001B[43m*\u001B[49m\u001B[43m*\u001B[49m\u001B[43mkwargs\u001B[49m\u001B[43m)\u001B[49m\n\u001B[32m    151\u001B[39m \u001B[38;5;28;01mexcept\u001B[39;00m \u001B[38;5;167;01mException\u001B[39;00m \u001B[38;5;28;01mas\u001B[39;00m e:\n\u001B[32m    152\u001B[39m   filtered_tb = _process_traceback_frames(e.__traceback__)\n",
      "\u001B[36mFile \u001B[39m\u001B[32m~\\PycharmProjects\\Intern\\.venv\\Lib\\site-packages\\tensorflow\\python\\eager\\polymorphic_function\\polymorphic_function.py:833\u001B[39m, in \u001B[36mFunction.__call__\u001B[39m\u001B[34m(self, *args, **kwds)\u001B[39m\n\u001B[32m    830\u001B[39m compiler = \u001B[33m\"\u001B[39m\u001B[33mxla\u001B[39m\u001B[33m\"\u001B[39m \u001B[38;5;28;01mif\u001B[39;00m \u001B[38;5;28mself\u001B[39m._jit_compile \u001B[38;5;28;01melse\u001B[39;00m \u001B[33m\"\u001B[39m\u001B[33mnonXla\u001B[39m\u001B[33m\"\u001B[39m\n\u001B[32m    832\u001B[39m \u001B[38;5;28;01mwith\u001B[39;00m OptionalXlaContext(\u001B[38;5;28mself\u001B[39m._jit_compile):\n\u001B[32m--> \u001B[39m\u001B[32m833\u001B[39m   result = \u001B[38;5;28;43mself\u001B[39;49m\u001B[43m.\u001B[49m\u001B[43m_call\u001B[49m\u001B[43m(\u001B[49m\u001B[43m*\u001B[49m\u001B[43margs\u001B[49m\u001B[43m,\u001B[49m\u001B[43m \u001B[49m\u001B[43m*\u001B[49m\u001B[43m*\u001B[49m\u001B[43mkwds\u001B[49m\u001B[43m)\u001B[49m\n\u001B[32m    835\u001B[39m new_tracing_count = \u001B[38;5;28mself\u001B[39m.experimental_get_tracing_count()\n\u001B[32m    836\u001B[39m without_tracing = (tracing_count == new_tracing_count)\n",
      "\u001B[36mFile \u001B[39m\u001B[32m~\\PycharmProjects\\Intern\\.venv\\Lib\\site-packages\\tensorflow\\python\\eager\\polymorphic_function\\polymorphic_function.py:878\u001B[39m, in \u001B[36mFunction._call\u001B[39m\u001B[34m(self, *args, **kwds)\u001B[39m\n\u001B[32m    875\u001B[39m \u001B[38;5;28mself\u001B[39m._lock.release()\n\u001B[32m    876\u001B[39m \u001B[38;5;66;03m# In this case we have not created variables on the first call. So we can\u001B[39;00m\n\u001B[32m    877\u001B[39m \u001B[38;5;66;03m# run the first trace but we should fail if variables are created.\u001B[39;00m\n\u001B[32m--> \u001B[39m\u001B[32m878\u001B[39m results = \u001B[43mtracing_compilation\u001B[49m\u001B[43m.\u001B[49m\u001B[43mcall_function\u001B[49m\u001B[43m(\u001B[49m\n\u001B[32m    879\u001B[39m \u001B[43m    \u001B[49m\u001B[43margs\u001B[49m\u001B[43m,\u001B[49m\u001B[43m \u001B[49m\u001B[43mkwds\u001B[49m\u001B[43m,\u001B[49m\u001B[43m \u001B[49m\u001B[38;5;28;43mself\u001B[39;49m\u001B[43m.\u001B[49m\u001B[43m_variable_creation_config\u001B[49m\n\u001B[32m    880\u001B[39m \u001B[43m\u001B[49m\u001B[43m)\u001B[49m\n\u001B[32m    881\u001B[39m \u001B[38;5;28;01mif\u001B[39;00m \u001B[38;5;28mself\u001B[39m._created_variables:\n\u001B[32m    882\u001B[39m   \u001B[38;5;28;01mraise\u001B[39;00m \u001B[38;5;167;01mValueError\u001B[39;00m(\u001B[33m\"\u001B[39m\u001B[33mCreating variables on a non-first call to a function\u001B[39m\u001B[33m\"\u001B[39m\n\u001B[32m    883\u001B[39m                    \u001B[33m\"\u001B[39m\u001B[33m decorated with tf.function.\u001B[39m\u001B[33m\"\u001B[39m)\n",
      "\u001B[36mFile \u001B[39m\u001B[32m~\\PycharmProjects\\Intern\\.venv\\Lib\\site-packages\\tensorflow\\python\\eager\\polymorphic_function\\tracing_compilation.py:139\u001B[39m, in \u001B[36mcall_function\u001B[39m\u001B[34m(args, kwargs, tracing_options)\u001B[39m\n\u001B[32m    137\u001B[39m bound_args = function.function_type.bind(*args, **kwargs)\n\u001B[32m    138\u001B[39m flat_inputs = function.function_type.unpack_inputs(bound_args)\n\u001B[32m--> \u001B[39m\u001B[32m139\u001B[39m \u001B[38;5;28;01mreturn\u001B[39;00m \u001B[43mfunction\u001B[49m\u001B[43m.\u001B[49m\u001B[43m_call_flat\u001B[49m\u001B[43m(\u001B[49m\u001B[43m  \u001B[49m\u001B[38;5;66;43;03m# pylint: disable=protected-access\u001B[39;49;00m\n\u001B[32m    140\u001B[39m \u001B[43m    \u001B[49m\u001B[43mflat_inputs\u001B[49m\u001B[43m,\u001B[49m\u001B[43m \u001B[49m\u001B[43mcaptured_inputs\u001B[49m\u001B[43m=\u001B[49m\u001B[43mfunction\u001B[49m\u001B[43m.\u001B[49m\u001B[43mcaptured_inputs\u001B[49m\n\u001B[32m    141\u001B[39m \u001B[43m\u001B[49m\u001B[43m)\u001B[49m\n",
      "\u001B[36mFile \u001B[39m\u001B[32m~\\PycharmProjects\\Intern\\.venv\\Lib\\site-packages\\tensorflow\\python\\eager\\polymorphic_function\\concrete_function.py:1322\u001B[39m, in \u001B[36mConcreteFunction._call_flat\u001B[39m\u001B[34m(self, tensor_inputs, captured_inputs)\u001B[39m\n\u001B[32m   1318\u001B[39m possible_gradient_type = gradients_util.PossibleTapeGradientTypes(args)\n\u001B[32m   1319\u001B[39m \u001B[38;5;28;01mif\u001B[39;00m (possible_gradient_type == gradients_util.POSSIBLE_GRADIENT_TYPES_NONE\n\u001B[32m   1320\u001B[39m     \u001B[38;5;129;01mand\u001B[39;00m executing_eagerly):\n\u001B[32m   1321\u001B[39m   \u001B[38;5;66;03m# No tape is watching; skip to running the function.\u001B[39;00m\n\u001B[32m-> \u001B[39m\u001B[32m1322\u001B[39m   \u001B[38;5;28;01mreturn\u001B[39;00m \u001B[38;5;28;43mself\u001B[39;49m\u001B[43m.\u001B[49m\u001B[43m_inference_function\u001B[49m\u001B[43m.\u001B[49m\u001B[43mcall_preflattened\u001B[49m\u001B[43m(\u001B[49m\u001B[43margs\u001B[49m\u001B[43m)\u001B[49m\n\u001B[32m   1323\u001B[39m forward_backward = \u001B[38;5;28mself\u001B[39m._select_forward_and_backward_functions(\n\u001B[32m   1324\u001B[39m     args,\n\u001B[32m   1325\u001B[39m     possible_gradient_type,\n\u001B[32m   1326\u001B[39m     executing_eagerly)\n\u001B[32m   1327\u001B[39m forward_function, args_with_tangents = forward_backward.forward()\n",
      "\u001B[36mFile \u001B[39m\u001B[32m~\\PycharmProjects\\Intern\\.venv\\Lib\\site-packages\\tensorflow\\python\\eager\\polymorphic_function\\atomic_function.py:216\u001B[39m, in \u001B[36mAtomicFunction.call_preflattened\u001B[39m\u001B[34m(self, args)\u001B[39m\n\u001B[32m    214\u001B[39m \u001B[38;5;28;01mdef\u001B[39;00m\u001B[38;5;250m \u001B[39m\u001B[34mcall_preflattened\u001B[39m(\u001B[38;5;28mself\u001B[39m, args: Sequence[core.Tensor]) -> Any:\n\u001B[32m    215\u001B[39m \u001B[38;5;250m  \u001B[39m\u001B[33;03m\"\"\"Calls with flattened tensor inputs and returns the structured output.\"\"\"\u001B[39;00m\n\u001B[32m--> \u001B[39m\u001B[32m216\u001B[39m   flat_outputs = \u001B[38;5;28;43mself\u001B[39;49m\u001B[43m.\u001B[49m\u001B[43mcall_flat\u001B[49m\u001B[43m(\u001B[49m\u001B[43m*\u001B[49m\u001B[43margs\u001B[49m\u001B[43m)\u001B[49m\n\u001B[32m    217\u001B[39m   \u001B[38;5;28;01mreturn\u001B[39;00m \u001B[38;5;28mself\u001B[39m.function_type.pack_output(flat_outputs)\n",
      "\u001B[36mFile \u001B[39m\u001B[32m~\\PycharmProjects\\Intern\\.venv\\Lib\\site-packages\\tensorflow\\python\\eager\\polymorphic_function\\atomic_function.py:251\u001B[39m, in \u001B[36mAtomicFunction.call_flat\u001B[39m\u001B[34m(self, *args)\u001B[39m\n\u001B[32m    249\u001B[39m \u001B[38;5;28;01mwith\u001B[39;00m record.stop_recording():\n\u001B[32m    250\u001B[39m   \u001B[38;5;28;01mif\u001B[39;00m \u001B[38;5;28mself\u001B[39m._bound_context.executing_eagerly():\n\u001B[32m--> \u001B[39m\u001B[32m251\u001B[39m     outputs = \u001B[38;5;28;43mself\u001B[39;49m\u001B[43m.\u001B[49m\u001B[43m_bound_context\u001B[49m\u001B[43m.\u001B[49m\u001B[43mcall_function\u001B[49m\u001B[43m(\u001B[49m\n\u001B[32m    252\u001B[39m \u001B[43m        \u001B[49m\u001B[38;5;28;43mself\u001B[39;49m\u001B[43m.\u001B[49m\u001B[43mname\u001B[49m\u001B[43m,\u001B[49m\n\u001B[32m    253\u001B[39m \u001B[43m        \u001B[49m\u001B[38;5;28;43mlist\u001B[39;49m\u001B[43m(\u001B[49m\u001B[43margs\u001B[49m\u001B[43m)\u001B[49m\u001B[43m,\u001B[49m\n\u001B[32m    254\u001B[39m \u001B[43m        \u001B[49m\u001B[38;5;28;43mlen\u001B[39;49m\u001B[43m(\u001B[49m\u001B[38;5;28;43mself\u001B[39;49m\u001B[43m.\u001B[49m\u001B[43mfunction_type\u001B[49m\u001B[43m.\u001B[49m\u001B[43mflat_outputs\u001B[49m\u001B[43m)\u001B[49m\u001B[43m,\u001B[49m\n\u001B[32m    255\u001B[39m \u001B[43m    \u001B[49m\u001B[43m)\u001B[49m\n\u001B[32m    256\u001B[39m   \u001B[38;5;28;01melse\u001B[39;00m:\n\u001B[32m    257\u001B[39m     outputs = make_call_op_in_graph(\n\u001B[32m    258\u001B[39m         \u001B[38;5;28mself\u001B[39m,\n\u001B[32m    259\u001B[39m         \u001B[38;5;28mlist\u001B[39m(args),\n\u001B[32m    260\u001B[39m         \u001B[38;5;28mself\u001B[39m._bound_context.function_call_options.as_attrs(),\n\u001B[32m    261\u001B[39m     )\n",
      "\u001B[36mFile \u001B[39m\u001B[32m~\\PycharmProjects\\Intern\\.venv\\Lib\\site-packages\\tensorflow\\python\\eager\\context.py:1688\u001B[39m, in \u001B[36mContext.call_function\u001B[39m\u001B[34m(self, name, tensor_inputs, num_outputs)\u001B[39m\n\u001B[32m   1686\u001B[39m cancellation_context = cancellation.context()\n\u001B[32m   1687\u001B[39m \u001B[38;5;28;01mif\u001B[39;00m cancellation_context \u001B[38;5;129;01mis\u001B[39;00m \u001B[38;5;28;01mNone\u001B[39;00m:\n\u001B[32m-> \u001B[39m\u001B[32m1688\u001B[39m   outputs = \u001B[43mexecute\u001B[49m\u001B[43m.\u001B[49m\u001B[43mexecute\u001B[49m\u001B[43m(\u001B[49m\n\u001B[32m   1689\u001B[39m \u001B[43m      \u001B[49m\u001B[43mname\u001B[49m\u001B[43m.\u001B[49m\u001B[43mdecode\u001B[49m\u001B[43m(\u001B[49m\u001B[33;43m\"\u001B[39;49m\u001B[33;43mutf-8\u001B[39;49m\u001B[33;43m\"\u001B[39;49m\u001B[43m)\u001B[49m\u001B[43m,\u001B[49m\n\u001B[32m   1690\u001B[39m \u001B[43m      \u001B[49m\u001B[43mnum_outputs\u001B[49m\u001B[43m=\u001B[49m\u001B[43mnum_outputs\u001B[49m\u001B[43m,\u001B[49m\n\u001B[32m   1691\u001B[39m \u001B[43m      \u001B[49m\u001B[43minputs\u001B[49m\u001B[43m=\u001B[49m\u001B[43mtensor_inputs\u001B[49m\u001B[43m,\u001B[49m\n\u001B[32m   1692\u001B[39m \u001B[43m      \u001B[49m\u001B[43mattrs\u001B[49m\u001B[43m=\u001B[49m\u001B[43mattrs\u001B[49m\u001B[43m,\u001B[49m\n\u001B[32m   1693\u001B[39m \u001B[43m      \u001B[49m\u001B[43mctx\u001B[49m\u001B[43m=\u001B[49m\u001B[38;5;28;43mself\u001B[39;49m\u001B[43m,\u001B[49m\n\u001B[32m   1694\u001B[39m \u001B[43m  \u001B[49m\u001B[43m)\u001B[49m\n\u001B[32m   1695\u001B[39m \u001B[38;5;28;01melse\u001B[39;00m:\n\u001B[32m   1696\u001B[39m   outputs = execute.execute_with_cancellation(\n\u001B[32m   1697\u001B[39m       name.decode(\u001B[33m\"\u001B[39m\u001B[33mutf-8\u001B[39m\u001B[33m\"\u001B[39m),\n\u001B[32m   1698\u001B[39m       num_outputs=num_outputs,\n\u001B[32m   (...)\u001B[39m\u001B[32m   1702\u001B[39m       cancellation_manager=cancellation_context,\n\u001B[32m   1703\u001B[39m   )\n",
      "\u001B[36mFile \u001B[39m\u001B[32m~\\PycharmProjects\\Intern\\.venv\\Lib\\site-packages\\tensorflow\\python\\eager\\execute.py:53\u001B[39m, in \u001B[36mquick_execute\u001B[39m\u001B[34m(op_name, num_outputs, inputs, attrs, ctx, name)\u001B[39m\n\u001B[32m     51\u001B[39m \u001B[38;5;28;01mtry\u001B[39;00m:\n\u001B[32m     52\u001B[39m   ctx.ensure_initialized()\n\u001B[32m---> \u001B[39m\u001B[32m53\u001B[39m   tensors = \u001B[43mpywrap_tfe\u001B[49m\u001B[43m.\u001B[49m\u001B[43mTFE_Py_Execute\u001B[49m\u001B[43m(\u001B[49m\u001B[43mctx\u001B[49m\u001B[43m.\u001B[49m\u001B[43m_handle\u001B[49m\u001B[43m,\u001B[49m\u001B[43m \u001B[49m\u001B[43mdevice_name\u001B[49m\u001B[43m,\u001B[49m\u001B[43m \u001B[49m\u001B[43mop_name\u001B[49m\u001B[43m,\u001B[49m\n\u001B[32m     54\u001B[39m \u001B[43m                                      \u001B[49m\u001B[43minputs\u001B[49m\u001B[43m,\u001B[49m\u001B[43m \u001B[49m\u001B[43mattrs\u001B[49m\u001B[43m,\u001B[49m\u001B[43m \u001B[49m\u001B[43mnum_outputs\u001B[49m\u001B[43m)\u001B[49m\n\u001B[32m     55\u001B[39m \u001B[38;5;28;01mexcept\u001B[39;00m core._NotOkStatusException \u001B[38;5;28;01mas\u001B[39;00m e:\n\u001B[32m     56\u001B[39m   \u001B[38;5;28;01mif\u001B[39;00m name \u001B[38;5;129;01mis\u001B[39;00m \u001B[38;5;129;01mnot\u001B[39;00m \u001B[38;5;28;01mNone\u001B[39;00m:\n",
      "\u001B[31mKeyboardInterrupt\u001B[39m: "
     ]
    }
   ],
   "execution_count": 5
  },
  {
   "metadata": {
    "ExecuteTime": {
     "end_time": "2025-07-16T11:02:22.015572Z",
     "start_time": "2025-07-16T11:02:06.548235Z"
    }
   },
   "cell_type": "code",
   "source": [
    "import numpy as np\n",
    "import pandas as pd\n",
    "import yfinance as yf\n",
    "import matplotlib.pyplot as plt\n",
    "from sklearn.preprocessing import MinMaxScaler\n",
    "from sklearn.metrics import r2_score\n",
    "from tensorflow.keras.models import Sequential\n",
    "from tensorflow.keras.layers import LSTM, Dense, Dropout\n",
    "from tensorflow.keras.callbacks import EarlyStopping\n",
    "import tensorflow as tf\n",
    "\n",
    "seed = 42\n",
    "os.environ['PYTHONHASHSEED'] = str(seed)\n",
    "np.random.seed(seed)\n",
    "random.seed(seed)\n",
    "tf.random.set_seed(seed)\n",
    "tf.config.experimental.enable_op_determinism()\n",
    "# 1. Download AAPL 'Close' price\n",
    "data = yf.download(\"AAPL\", start=\"2015-01-01\", end=\"2025-01-30\")\n",
    "data = data[['Close']].dropna()\n",
    "\n",
    "# 2. Train-test split\n",
    "split_date = '2025-01-01'\n",
    "train_data = data.loc[:split_date]\n",
    "test_data = data.loc[split_date:]\n",
    "\n",
    "# 3. Normalize using MinMaxScaler\n",
    "scaler = MinMaxScaler()\n",
    "scaled_train = scaler.fit_transform(train_data)\n",
    "\n",
    "# 4. Create dataset\n",
    "def create_dataset(data, time_steps=30):\n",
    "    X, y = [], []\n",
    "    for i in range(time_steps, len(data)):\n",
    "        X.append(data[i - time_steps:i])\n",
    "        y.append(data[i, 0])\n",
    "    return np.array(X), np.array(y)\n",
    "def rescale_predictions(y_scaled, y_pred_scaled, scaler, feature_index=3):\n",
    "    pad_true = np.zeros((y_scaled.size, scaler.n_features_in_))\n",
    "    pad_pred = np.zeros_like(pad_true)\n",
    "\n",
    "    for i in range(y_scaled.shape[1]):\n",
    "        pad_true[i::y_scaled.shape[1], feature_index] = y_scaled[:, i]\n",
    "        pad_pred[i::y_pred_scaled.shape[1], feature_index] = y_pred_scaled[:, i]\n",
    "\n",
    "    true_rescaled = scaler.inverse_transform(pad_true)[:, feature_index].reshape(y_scaled.shape)\n",
    "    pred_rescaled = scaler.inverse_transform(pad_pred)[:, feature_index].reshape(y_pred_scaled.shape)\n",
    "    return true_rescaled, pred_rescaled\n",
    "\n",
    "\n",
    "# 5. Grid Search Parameters\n",
    "param_grid = {\n",
    "    'time_steps': [5,30],\n",
    "    'lstm_units': [64, 128],\n",
    "    'dropout': [0.2, 0.3],\n",
    "    'epochs': [10, 30],\n",
    "    'batch_size': [16, 32]\n",
    "}\n",
    "\n",
    "results = []\n",
    "\n",
    "# 6. Grid Search Loop\n",
    "for time_steps in param_grid['time_steps']:\n",
    "    X_train, y_train = create_dataset(scaled_train, time_steps)\n",
    "\n",
    "    for lstm_units in param_grid['lstm_units']:\n",
    "        for dropout in param_grid['dropout']:\n",
    "            for epochs in param_grid['epochs']:\n",
    "                for batch_size in param_grid['batch_size']:\n",
    "\n",
    "                    # Build model\n",
    "                    model = Sequential()\n",
    "                    model.add(LSTM(lstm_units, input_shape=(X_train.shape[1], X_train.shape[2])))\n",
    "                    model.add(Dropout(dropout))\n",
    "                    model.add(Dense(1))\n",
    "                    model.compile(optimizer='adam', loss='mean_squared_error')\n",
    "\n",
    "                    # Callbacks\n",
    "                    early_stop = EarlyStopping(monitor='val_loss', patience=2, restore_best_weights=True)\n",
    "\n",
    "                    # Train model\n",
    "                    history = model.fit(X_train, y_train,\n",
    "                              epochs=epochs,\n",
    "                              batch_size=batch_size,\n",
    "                              validation_split=0.2,\n",
    "                              callbacks=[early_stop],\n",
    "                              verbose=0)\n",
    "\n",
    "\n",
    "\n",
    "                    y_pred = model.predict(X_test)\n",
    "\n",
    "\n",
    "                    y_test_rescaled, y_pred_rescaled = rescale_predictions(y_test, y_pred, scaler)\n",
    "                    for i in range(future_steps):\n",
    "                        mse = mean_squared_error(y_test_rescaled[:, i], y_pred_rescaled[:, i])\n",
    "                        r2 = r2_score(y_test_rescaled[:, i], y_pred_rescaled[:, i])\n",
    "                        adj_r2 = 1 - ((1 - r2) * (len(y_test_rescaled[:, i]) - 1)) / (len(y_test_rescaled[:, i]) - X_test.shape[2] - 1)\n",
    "                        print(f\"Day {i+1}: MSE={mse:.2f}, R²={r2:.4f}, Adjusted R²={adj_r2:.4f}\")\n",
    "                    # R² Evaluation\n",
    "                    true_close = test_data['Close'][:len(forecasted_close)].values\n",
    "                    r2 = r2_score(true_close, forecasted_close)\n",
    "\n",
    "                    results.append({\n",
    "                        'time_steps': time_steps,\n",
    "                        'units': lstm_units,\n",
    "                        'dropout': dropout,\n",
    "                        'epochs': epochs,\n",
    "                        'batch_size': batch_size,\n",
    "                        'r2_score': r2\n",
    "                    })\n",
    "\n",
    "                    print(f\"✅ Tried: steps={time_steps}, units={lstm_units}, dropout={dropout}, \"\n",
    "                          f\"epochs={epochs}, batch={batch_size}, R²={r2:.4f}\")\n",
    "\n",
    "# 7. Best Result\n",
    "results_df = pd.DataFrame(results)\n",
    "best_config = results_df.sort_values(by='r2_score', ascending=False).iloc[0]\n",
    "\n",
    "print(\"\\n🏆 Best Configuration Found:\")\n",
    "print(best_config)\n"
   ],
   "id": "ea16a9492a42366b",
   "outputs": [
    {
     "name": "stderr",
     "output_type": "stream",
     "text": [
      "C:\\Users\\prana\\AppData\\Local\\Temp\\ipykernel_7696\\832059629.py:19: FutureWarning: YF.download() has changed argument auto_adjust default to True\n",
      "  data = yf.download(\"AAPL\", start=\"2015-01-01\", end=\"2025-01-30\")\n",
      "[*********************100%***********************]  1 of 1 completed\n",
      "C:\\Users\\prana\\PycharmProjects\\Intern\\.venv\\Lib\\site-packages\\keras\\src\\layers\\rnn\\rnn.py:199: UserWarning: Do not pass an `input_shape`/`input_dim` argument to a layer. When using Sequential models, prefer using an `Input(shape)` object as the first layer in the model instead.\n",
      "  super().__init__(**kwargs)\n"
     ]
    },
    {
     "ename": "ValueError",
     "evalue": "Exception encountered when calling LSTMCell.call().\n\n\u001B[1mDimensions must be equal, but are 5 and 1 for '{{node sequential_118_1/lstm_118_1/lstm_cell_1/MatMul}} = MatMul[T=DT_FLOAT, grad_a=false, grad_b=false, transpose_a=false, transpose_b=false](sequential_118_1/lstm_118_1/strided_slice_1, sequential_118_1/lstm_118_1/lstm_cell_1/Cast/ReadVariableOp)' with input shapes: [18,5], [1,256].\u001B[0m\n\nArguments received by LSTMCell.call():\n  • inputs=tf.Tensor(shape=(18, 5), dtype=float32)\n  • states=('tf.Tensor(shape=(18, 64), dtype=float32)', 'tf.Tensor(shape=(18, 64), dtype=float32)')\n  • training=False",
     "output_type": "error",
     "traceback": [
      "\u001B[31m---------------------------------------------------------------------------\u001B[39m",
      "\u001B[31mValueError\u001B[39m                                Traceback (most recent call last)",
      "\u001B[36mCell\u001B[39m\u001B[36m \u001B[39m\u001B[32mIn[62]\u001B[39m\u001B[32m, line 91\u001B[39m\n\u001B[32m     81\u001B[39m \u001B[38;5;66;03m# Train model\u001B[39;00m\n\u001B[32m     82\u001B[39m history = model.fit(X_train, y_train,\n\u001B[32m     83\u001B[39m           epochs=epochs,\n\u001B[32m     84\u001B[39m           batch_size=batch_size,\n\u001B[32m     85\u001B[39m           validation_split=\u001B[32m0.2\u001B[39m,\n\u001B[32m     86\u001B[39m           callbacks=[early_stop],\n\u001B[32m     87\u001B[39m           verbose=\u001B[32m0\u001B[39m)\n\u001B[32m---> \u001B[39m\u001B[32m91\u001B[39m y_pred = \u001B[43mmodel\u001B[49m\u001B[43m.\u001B[49m\u001B[43mpredict\u001B[49m\u001B[43m(\u001B[49m\u001B[43mX_test\u001B[49m\u001B[43m)\u001B[49m\n\u001B[32m     94\u001B[39m y_test_rescaled, y_pred_rescaled = rescale_predictions(y_test, y_pred, scaler)\n\u001B[32m     95\u001B[39m \u001B[38;5;28;01mfor\u001B[39;00m i \u001B[38;5;129;01min\u001B[39;00m \u001B[38;5;28mrange\u001B[39m(future_steps):\n",
      "\u001B[36mFile \u001B[39m\u001B[32m~\\PycharmProjects\\Intern\\.venv\\Lib\\site-packages\\keras\\src\\utils\\traceback_utils.py:122\u001B[39m, in \u001B[36mfilter_traceback.<locals>.error_handler\u001B[39m\u001B[34m(*args, **kwargs)\u001B[39m\n\u001B[32m    119\u001B[39m     filtered_tb = _process_traceback_frames(e.__traceback__)\n\u001B[32m    120\u001B[39m     \u001B[38;5;66;03m# To get the full stack trace, call:\u001B[39;00m\n\u001B[32m    121\u001B[39m     \u001B[38;5;66;03m# `keras.config.disable_traceback_filtering()`\u001B[39;00m\n\u001B[32m--> \u001B[39m\u001B[32m122\u001B[39m     \u001B[38;5;28;01mraise\u001B[39;00m e.with_traceback(filtered_tb) \u001B[38;5;28;01mfrom\u001B[39;00m\u001B[38;5;250m \u001B[39m\u001B[38;5;28;01mNone\u001B[39;00m\n\u001B[32m    123\u001B[39m \u001B[38;5;28;01mfinally\u001B[39;00m:\n\u001B[32m    124\u001B[39m     \u001B[38;5;28;01mdel\u001B[39;00m filtered_tb\n",
      "\u001B[36mFile \u001B[39m\u001B[32m~\\PycharmProjects\\Intern\\.venv\\Lib\\site-packages\\keras\\src\\utils\\traceback_utils.py:122\u001B[39m, in \u001B[36mfilter_traceback.<locals>.error_handler\u001B[39m\u001B[34m(*args, **kwargs)\u001B[39m\n\u001B[32m    119\u001B[39m     filtered_tb = _process_traceback_frames(e.__traceback__)\n\u001B[32m    120\u001B[39m     \u001B[38;5;66;03m# To get the full stack trace, call:\u001B[39;00m\n\u001B[32m    121\u001B[39m     \u001B[38;5;66;03m# `keras.config.disable_traceback_filtering()`\u001B[39;00m\n\u001B[32m--> \u001B[39m\u001B[32m122\u001B[39m     \u001B[38;5;28;01mraise\u001B[39;00m e.with_traceback(filtered_tb) \u001B[38;5;28;01mfrom\u001B[39;00m\u001B[38;5;250m \u001B[39m\u001B[38;5;28;01mNone\u001B[39;00m\n\u001B[32m    123\u001B[39m \u001B[38;5;28;01mfinally\u001B[39;00m:\n\u001B[32m    124\u001B[39m     \u001B[38;5;28;01mdel\u001B[39;00m filtered_tb\n",
      "\u001B[31mValueError\u001B[39m: Exception encountered when calling LSTMCell.call().\n\n\u001B[1mDimensions must be equal, but are 5 and 1 for '{{node sequential_118_1/lstm_118_1/lstm_cell_1/MatMul}} = MatMul[T=DT_FLOAT, grad_a=false, grad_b=false, transpose_a=false, transpose_b=false](sequential_118_1/lstm_118_1/strided_slice_1, sequential_118_1/lstm_118_1/lstm_cell_1/Cast/ReadVariableOp)' with input shapes: [18,5], [1,256].\u001B[0m\n\nArguments received by LSTMCell.call():\n  • inputs=tf.Tensor(shape=(18, 5), dtype=float32)\n  • states=('tf.Tensor(shape=(18, 64), dtype=float32)', 'tf.Tensor(shape=(18, 64), dtype=float32)')\n  • training=False"
     ]
    }
   ],
   "execution_count": 62
  },
  {
   "metadata": {},
   "cell_type": "code",
   "outputs": [],
   "execution_count": null,
   "source": "",
   "id": "d6b73eea45ae852f"
  }
 ],
 "metadata": {
  "kernelspec": {
   "display_name": "Python 3",
   "language": "python",
   "name": "python3"
  },
  "language_info": {
   "codemirror_mode": {
    "name": "ipython",
    "version": 2
   },
   "file_extension": ".py",
   "mimetype": "text/x-python",
   "name": "python",
   "nbconvert_exporter": "python",
   "pygments_lexer": "ipython2",
   "version": "2.7.6"
  }
 },
 "nbformat": 4,
 "nbformat_minor": 5
}
